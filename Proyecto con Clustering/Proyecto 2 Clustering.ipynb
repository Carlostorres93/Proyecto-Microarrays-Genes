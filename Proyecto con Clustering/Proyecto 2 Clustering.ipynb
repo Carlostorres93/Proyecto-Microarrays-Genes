{
 "cells": [
  {
   "cell_type": "markdown",
   "id": "341ee7f2",
   "metadata": {},
   "source": [
    "### **0. Clustering - Introducción**\n",
    "\n",
    "- Ejercicio de clustering\n",
    "\n",
    "- El dataset ya tiene la variable target (\"type\") definida en 6 clases\n",
    "\n",
    "- Se realiza clustering a pesar de ello con fin práctico comparativo"
   ]
  },
  {
   "cell_type": "code",
   "execution_count": 3,
   "id": "83b0b262",
   "metadata": {},
   "outputs": [],
   "source": [
    "#manejo y tratamiento de datos\n",
    "\n",
    "import numpy as np\n",
    "import pandas as pd\n",
    "from sklearn.preprocessing import LabelEncoder\n",
    "\n",
    "#visualizacion de datos\n",
    "\n",
    "import matplotlib.pyplot as plt\n",
    "import seaborn as sns\n",
    "import plotly.express as px\n",
    "\n",
    "#entrenamiento de Machine Learning\n",
    "\n",
    "from sklearn.preprocessing import MinMaxScaler\n",
    "\n",
    "#Conteo de Numeros\n",
    "\n",
    "from collections import Counter\n",
    "\n",
    "# Clustering\n",
    "\n",
    "from sklearn.cluster import KMeans\n",
    "from sklearn.cluster import DBSCAN\n",
    "from sklearn.metrics import silhouette_score\n",
    "from sklearn.decomposition import PCA\n",
    "from sklearn.feature_selection import VarianceThreshold  \n",
    "\n",
    "#Metricas\n",
    "\n",
    "from sklearn.metrics import accuracy_score\n",
    "from sklearn.metrics import confusion_matrix\n",
    "from sklearn import metrics"
   ]
  },
  {
   "cell_type": "markdown",
   "id": "b48075f2",
   "metadata": {},
   "source": [
    "### **1. Análisis Exploratorio de datos (EDA)**"
   ]
  },
  {
   "cell_type": "code",
   "execution_count": 4,
   "id": "d825afaa",
   "metadata": {},
   "outputs": [
    {
     "data": {
      "text/html": [
       "<div>\n",
       "<style scoped>\n",
       "    .dataframe tbody tr th:only-of-type {\n",
       "        vertical-align: middle;\n",
       "    }\n",
       "\n",
       "    .dataframe tbody tr th {\n",
       "        vertical-align: top;\n",
       "    }\n",
       "\n",
       "    .dataframe thead th {\n",
       "        text-align: right;\n",
       "    }\n",
       "</style>\n",
       "<table border=\"1\" class=\"dataframe\">\n",
       "  <thead>\n",
       "    <tr style=\"text-align: right;\">\n",
       "      <th></th>\n",
       "      <th>samples</th>\n",
       "      <th>type</th>\n",
       "      <th>1007_s_at</th>\n",
       "      <th>1053_at</th>\n",
       "      <th>117_at</th>\n",
       "      <th>121_at</th>\n",
       "      <th>1255_g_at</th>\n",
       "      <th>1294_at</th>\n",
       "      <th>1316_at</th>\n",
       "      <th>1320_at</th>\n",
       "      <th>...</th>\n",
       "      <th>AFFX-r2-Ec-bioD-3_at</th>\n",
       "      <th>AFFX-r2-Ec-bioD-5_at</th>\n",
       "      <th>AFFX-r2-P1-cre-3_at</th>\n",
       "      <th>AFFX-r2-P1-cre-5_at</th>\n",
       "      <th>AFFX-ThrX-3_at</th>\n",
       "      <th>AFFX-ThrX-5_at</th>\n",
       "      <th>AFFX-ThrX-M_at</th>\n",
       "      <th>AFFX-TrpnX-3_at</th>\n",
       "      <th>AFFX-TrpnX-5_at</th>\n",
       "      <th>AFFX-TrpnX-M_at</th>\n",
       "    </tr>\n",
       "  </thead>\n",
       "  <tbody>\n",
       "    <tr>\n",
       "      <th>0</th>\n",
       "      <td>84</td>\n",
       "      <td>basal</td>\n",
       "      <td>9.850040</td>\n",
       "      <td>8.097927</td>\n",
       "      <td>6.424728</td>\n",
       "      <td>7.353027</td>\n",
       "      <td>3.029122</td>\n",
       "      <td>6.880079</td>\n",
       "      <td>4.963740</td>\n",
       "      <td>4.408328</td>\n",
       "      <td>...</td>\n",
       "      <td>12.229711</td>\n",
       "      <td>11.852955</td>\n",
       "      <td>13.658701</td>\n",
       "      <td>13.477698</td>\n",
       "      <td>6.265781</td>\n",
       "      <td>5.016196</td>\n",
       "      <td>4.901594</td>\n",
       "      <td>2.966657</td>\n",
       "      <td>3.508495</td>\n",
       "      <td>3.301999</td>\n",
       "    </tr>\n",
       "    <tr>\n",
       "      <th>1</th>\n",
       "      <td>85</td>\n",
       "      <td>basal</td>\n",
       "      <td>9.861357</td>\n",
       "      <td>8.212222</td>\n",
       "      <td>7.062593</td>\n",
       "      <td>7.685578</td>\n",
       "      <td>3.149468</td>\n",
       "      <td>7.542283</td>\n",
       "      <td>5.129607</td>\n",
       "      <td>4.584418</td>\n",
       "      <td>...</td>\n",
       "      <td>12.178531</td>\n",
       "      <td>11.809408</td>\n",
       "      <td>13.750086</td>\n",
       "      <td>13.470146</td>\n",
       "      <td>6.771853</td>\n",
       "      <td>5.291005</td>\n",
       "      <td>5.405839</td>\n",
       "      <td>2.934763</td>\n",
       "      <td>3.687666</td>\n",
       "      <td>3.064299</td>\n",
       "    </tr>\n",
       "    <tr>\n",
       "      <th>2</th>\n",
       "      <td>87</td>\n",
       "      <td>basal</td>\n",
       "      <td>10.103478</td>\n",
       "      <td>8.936137</td>\n",
       "      <td>5.735970</td>\n",
       "      <td>7.687822</td>\n",
       "      <td>3.125931</td>\n",
       "      <td>6.562369</td>\n",
       "      <td>4.813449</td>\n",
       "      <td>4.425195</td>\n",
       "      <td>...</td>\n",
       "      <td>12.125108</td>\n",
       "      <td>11.725766</td>\n",
       "      <td>13.621732</td>\n",
       "      <td>13.295080</td>\n",
       "      <td>6.346952</td>\n",
       "      <td>5.171403</td>\n",
       "      <td>5.184286</td>\n",
       "      <td>2.847684</td>\n",
       "      <td>3.550597</td>\n",
       "      <td>3.158535</td>\n",
       "    </tr>\n",
       "    <tr>\n",
       "      <th>3</th>\n",
       "      <td>90</td>\n",
       "      <td>basal</td>\n",
       "      <td>9.756875</td>\n",
       "      <td>7.357148</td>\n",
       "      <td>6.479183</td>\n",
       "      <td>6.986624</td>\n",
       "      <td>3.181638</td>\n",
       "      <td>7.802344</td>\n",
       "      <td>5.490982</td>\n",
       "      <td>4.567956</td>\n",
       "      <td>...</td>\n",
       "      <td>12.111235</td>\n",
       "      <td>11.719215</td>\n",
       "      <td>13.743108</td>\n",
       "      <td>13.508861</td>\n",
       "      <td>6.610284</td>\n",
       "      <td>5.193356</td>\n",
       "      <td>5.086569</td>\n",
       "      <td>3.031602</td>\n",
       "      <td>3.524981</td>\n",
       "      <td>3.272665</td>\n",
       "    </tr>\n",
       "    <tr>\n",
       "      <th>4</th>\n",
       "      <td>91</td>\n",
       "      <td>basal</td>\n",
       "      <td>9.408330</td>\n",
       "      <td>7.746404</td>\n",
       "      <td>6.693980</td>\n",
       "      <td>7.333426</td>\n",
       "      <td>3.169923</td>\n",
       "      <td>7.610457</td>\n",
       "      <td>5.372469</td>\n",
       "      <td>4.424426</td>\n",
       "      <td>...</td>\n",
       "      <td>12.173642</td>\n",
       "      <td>11.861296</td>\n",
       "      <td>13.797774</td>\n",
       "      <td>13.542206</td>\n",
       "      <td>6.414354</td>\n",
       "      <td>5.040202</td>\n",
       "      <td>5.235318</td>\n",
       "      <td>2.956232</td>\n",
       "      <td>3.445501</td>\n",
       "      <td>3.193947</td>\n",
       "    </tr>\n",
       "    <tr>\n",
       "      <th>...</th>\n",
       "      <td>...</td>\n",
       "      <td>...</td>\n",
       "      <td>...</td>\n",
       "      <td>...</td>\n",
       "      <td>...</td>\n",
       "      <td>...</td>\n",
       "      <td>...</td>\n",
       "      <td>...</td>\n",
       "      <td>...</td>\n",
       "      <td>...</td>\n",
       "      <td>...</td>\n",
       "      <td>...</td>\n",
       "      <td>...</td>\n",
       "      <td>...</td>\n",
       "      <td>...</td>\n",
       "      <td>...</td>\n",
       "      <td>...</td>\n",
       "      <td>...</td>\n",
       "      <td>...</td>\n",
       "      <td>...</td>\n",
       "      <td>...</td>\n",
       "    </tr>\n",
       "    <tr>\n",
       "      <th>146</th>\n",
       "      <td>230</td>\n",
       "      <td>luminal_B</td>\n",
       "      <td>10.392638</td>\n",
       "      <td>7.334408</td>\n",
       "      <td>6.848586</td>\n",
       "      <td>7.020486</td>\n",
       "      <td>3.228065</td>\n",
       "      <td>7.815439</td>\n",
       "      <td>5.448470</td>\n",
       "      <td>4.496955</td>\n",
       "      <td>...</td>\n",
       "      <td>12.638556</td>\n",
       "      <td>12.122129</td>\n",
       "      <td>14.331152</td>\n",
       "      <td>14.133976</td>\n",
       "      <td>8.495888</td>\n",
       "      <td>4.971727</td>\n",
       "      <td>6.209136</td>\n",
       "      <td>2.852852</td>\n",
       "      <td>3.697448</td>\n",
       "      <td>3.333289</td>\n",
       "    </tr>\n",
       "    <tr>\n",
       "      <th>147</th>\n",
       "      <td>233</td>\n",
       "      <td>luminal_B</td>\n",
       "      <td>10.930875</td>\n",
       "      <td>8.415294</td>\n",
       "      <td>5.906827</td>\n",
       "      <td>7.753572</td>\n",
       "      <td>3.270557</td>\n",
       "      <td>7.367931</td>\n",
       "      <td>5.906849</td>\n",
       "      <td>5.194349</td>\n",
       "      <td>...</td>\n",
       "      <td>12.523507</td>\n",
       "      <td>11.977970</td>\n",
       "      <td>14.285405</td>\n",
       "      <td>14.070989</td>\n",
       "      <td>8.193182</td>\n",
       "      <td>6.528948</td>\n",
       "      <td>7.108210</td>\n",
       "      <td>2.929800</td>\n",
       "      <td>3.833289</td>\n",
       "      <td>3.213893</td>\n",
       "    </tr>\n",
       "    <tr>\n",
       "      <th>148</th>\n",
       "      <td>236</td>\n",
       "      <td>luminal_B</td>\n",
       "      <td>11.027098</td>\n",
       "      <td>7.180876</td>\n",
       "      <td>6.304736</td>\n",
       "      <td>7.641197</td>\n",
       "      <td>3.206950</td>\n",
       "      <td>8.569296</td>\n",
       "      <td>5.823146</td>\n",
       "      <td>4.617309</td>\n",
       "      <td>...</td>\n",
       "      <td>12.256767</td>\n",
       "      <td>11.661126</td>\n",
       "      <td>14.149586</td>\n",
       "      <td>13.977076</td>\n",
       "      <td>8.351331</td>\n",
       "      <td>6.882504</td>\n",
       "      <td>7.329545</td>\n",
       "      <td>3.085127</td>\n",
       "      <td>3.628848</td>\n",
       "      <td>3.215807</td>\n",
       "    </tr>\n",
       "    <tr>\n",
       "      <th>149</th>\n",
       "      <td>237</td>\n",
       "      <td>luminal_B</td>\n",
       "      <td>10.444395</td>\n",
       "      <td>7.525153</td>\n",
       "      <td>5.964460</td>\n",
       "      <td>7.825939</td>\n",
       "      <td>3.384147</td>\n",
       "      <td>7.268454</td>\n",
       "      <td>5.245072</td>\n",
       "      <td>5.088004</td>\n",
       "      <td>...</td>\n",
       "      <td>12.321900</td>\n",
       "      <td>11.727694</td>\n",
       "      <td>14.186277</td>\n",
       "      <td>13.943521</td>\n",
       "      <td>7.927210</td>\n",
       "      <td>6.839086</td>\n",
       "      <td>7.089259</td>\n",
       "      <td>3.018525</td>\n",
       "      <td>3.770597</td>\n",
       "      <td>3.102298</td>\n",
       "    </tr>\n",
       "    <tr>\n",
       "      <th>150</th>\n",
       "      <td>238</td>\n",
       "      <td>luminal_B</td>\n",
       "      <td>11.345817</td>\n",
       "      <td>7.379299</td>\n",
       "      <td>5.891172</td>\n",
       "      <td>7.394586</td>\n",
       "      <td>3.183420</td>\n",
       "      <td>7.792885</td>\n",
       "      <td>5.355978</td>\n",
       "      <td>4.457914</td>\n",
       "      <td>...</td>\n",
       "      <td>12.126110</td>\n",
       "      <td>11.478893</td>\n",
       "      <td>14.070188</td>\n",
       "      <td>13.857547</td>\n",
       "      <td>7.992141</td>\n",
       "      <td>5.661898</td>\n",
       "      <td>6.460331</td>\n",
       "      <td>3.061585</td>\n",
       "      <td>3.857525</td>\n",
       "      <td>3.129827</td>\n",
       "    </tr>\n",
       "  </tbody>\n",
       "</table>\n",
       "<p>151 rows × 54677 columns</p>\n",
       "</div>"
      ],
      "text/plain": [
       "     samples       type  1007_s_at   1053_at    117_at    121_at  1255_g_at  \\\n",
       "0         84      basal   9.850040  8.097927  6.424728  7.353027   3.029122   \n",
       "1         85      basal   9.861357  8.212222  7.062593  7.685578   3.149468   \n",
       "2         87      basal  10.103478  8.936137  5.735970  7.687822   3.125931   \n",
       "3         90      basal   9.756875  7.357148  6.479183  6.986624   3.181638   \n",
       "4         91      basal   9.408330  7.746404  6.693980  7.333426   3.169923   \n",
       "..       ...        ...        ...       ...       ...       ...        ...   \n",
       "146      230  luminal_B  10.392638  7.334408  6.848586  7.020486   3.228065   \n",
       "147      233  luminal_B  10.930875  8.415294  5.906827  7.753572   3.270557   \n",
       "148      236  luminal_B  11.027098  7.180876  6.304736  7.641197   3.206950   \n",
       "149      237  luminal_B  10.444395  7.525153  5.964460  7.825939   3.384147   \n",
       "150      238  luminal_B  11.345817  7.379299  5.891172  7.394586   3.183420   \n",
       "\n",
       "      1294_at   1316_at   1320_at  ...  AFFX-r2-Ec-bioD-3_at  \\\n",
       "0    6.880079  4.963740  4.408328  ...             12.229711   \n",
       "1    7.542283  5.129607  4.584418  ...             12.178531   \n",
       "2    6.562369  4.813449  4.425195  ...             12.125108   \n",
       "3    7.802344  5.490982  4.567956  ...             12.111235   \n",
       "4    7.610457  5.372469  4.424426  ...             12.173642   \n",
       "..        ...       ...       ...  ...                   ...   \n",
       "146  7.815439  5.448470  4.496955  ...             12.638556   \n",
       "147  7.367931  5.906849  5.194349  ...             12.523507   \n",
       "148  8.569296  5.823146  4.617309  ...             12.256767   \n",
       "149  7.268454  5.245072  5.088004  ...             12.321900   \n",
       "150  7.792885  5.355978  4.457914  ...             12.126110   \n",
       "\n",
       "     AFFX-r2-Ec-bioD-5_at  AFFX-r2-P1-cre-3_at  AFFX-r2-P1-cre-5_at  \\\n",
       "0               11.852955            13.658701            13.477698   \n",
       "1               11.809408            13.750086            13.470146   \n",
       "2               11.725766            13.621732            13.295080   \n",
       "3               11.719215            13.743108            13.508861   \n",
       "4               11.861296            13.797774            13.542206   \n",
       "..                    ...                  ...                  ...   \n",
       "146             12.122129            14.331152            14.133976   \n",
       "147             11.977970            14.285405            14.070989   \n",
       "148             11.661126            14.149586            13.977076   \n",
       "149             11.727694            14.186277            13.943521   \n",
       "150             11.478893            14.070188            13.857547   \n",
       "\n",
       "     AFFX-ThrX-3_at  AFFX-ThrX-5_at  AFFX-ThrX-M_at  AFFX-TrpnX-3_at  \\\n",
       "0          6.265781        5.016196        4.901594         2.966657   \n",
       "1          6.771853        5.291005        5.405839         2.934763   \n",
       "2          6.346952        5.171403        5.184286         2.847684   \n",
       "3          6.610284        5.193356        5.086569         3.031602   \n",
       "4          6.414354        5.040202        5.235318         2.956232   \n",
       "..              ...             ...             ...              ...   \n",
       "146        8.495888        4.971727        6.209136         2.852852   \n",
       "147        8.193182        6.528948        7.108210         2.929800   \n",
       "148        8.351331        6.882504        7.329545         3.085127   \n",
       "149        7.927210        6.839086        7.089259         3.018525   \n",
       "150        7.992141        5.661898        6.460331         3.061585   \n",
       "\n",
       "     AFFX-TrpnX-5_at  AFFX-TrpnX-M_at  \n",
       "0           3.508495         3.301999  \n",
       "1           3.687666         3.064299  \n",
       "2           3.550597         3.158535  \n",
       "3           3.524981         3.272665  \n",
       "4           3.445501         3.193947  \n",
       "..               ...              ...  \n",
       "146         3.697448         3.333289  \n",
       "147         3.833289         3.213893  \n",
       "148         3.628848         3.215807  \n",
       "149         3.770597         3.102298  \n",
       "150         3.857525         3.129827  \n",
       "\n",
       "[151 rows x 54677 columns]"
      ]
     },
     "execution_count": 4,
     "metadata": {},
     "output_type": "execute_result"
    }
   ],
   "source": [
    "df = pd.read_csv(\"Breast_GSE45827.csv\")\n",
    "\n",
    "# df = df[df[\"type\"] != \"normal\"].reset_index(drop = True)\n",
    "\n",
    "df"
   ]
  },
  {
   "cell_type": "code",
   "execution_count": 5,
   "id": "feb4e98e",
   "metadata": {},
   "outputs": [
    {
     "data": {
      "text/plain": [
       "(151, 54677)"
      ]
     },
     "execution_count": 5,
     "metadata": {},
     "output_type": "execute_result"
    }
   ],
   "source": [
    "df.shape"
   ]
  },
  {
   "cell_type": "code",
   "execution_count": 6,
   "id": "205e638c",
   "metadata": {},
   "outputs": [
    {
     "data": {
      "text/plain": [
       "Index(['samples', 'type', '1007_s_at', '1053_at', '117_at', '121_at',\n",
       "       '1255_g_at', '1294_at', '1316_at', '1320_at',\n",
       "       ...\n",
       "       'AFFX-r2-Ec-bioD-3_at', 'AFFX-r2-Ec-bioD-5_at', 'AFFX-r2-P1-cre-3_at',\n",
       "       'AFFX-r2-P1-cre-5_at', 'AFFX-ThrX-3_at', 'AFFX-ThrX-5_at',\n",
       "       'AFFX-ThrX-M_at', 'AFFX-TrpnX-3_at', 'AFFX-TrpnX-5_at',\n",
       "       'AFFX-TrpnX-M_at'],\n",
       "      dtype='object', length=54677)"
      ]
     },
     "execution_count": 6,
     "metadata": {},
     "output_type": "execute_result"
    }
   ],
   "source": [
    "df.columns"
   ]
  },
  {
   "cell_type": "code",
   "execution_count": 7,
   "id": "6410d8fe",
   "metadata": {},
   "outputs": [
    {
     "name": "stdout",
     "output_type": "stream",
     "text": [
      "<class 'pandas.core.frame.DataFrame'>\n",
      "RangeIndex: 151 entries, 0 to 150\n",
      "Columns: 54677 entries, samples to AFFX-TrpnX-M_at\n",
      "dtypes: float64(54675), int64(1), object(1)\n",
      "memory usage: 63.0+ MB\n"
     ]
    }
   ],
   "source": [
    "df.info()"
   ]
  },
  {
   "cell_type": "code",
   "execution_count": 8,
   "id": "33c3fbe5",
   "metadata": {},
   "outputs": [
    {
     "data": {
      "text/html": [
       "<div>\n",
       "<style scoped>\n",
       "    .dataframe tbody tr th:only-of-type {\n",
       "        vertical-align: middle;\n",
       "    }\n",
       "\n",
       "    .dataframe tbody tr th {\n",
       "        vertical-align: top;\n",
       "    }\n",
       "\n",
       "    .dataframe thead th {\n",
       "        text-align: right;\n",
       "    }\n",
       "</style>\n",
       "<table border=\"1\" class=\"dataframe\">\n",
       "  <thead>\n",
       "    <tr style=\"text-align: right;\">\n",
       "      <th></th>\n",
       "      <th>samples</th>\n",
       "      <th>1007_s_at</th>\n",
       "      <th>1053_at</th>\n",
       "      <th>117_at</th>\n",
       "      <th>121_at</th>\n",
       "      <th>1255_g_at</th>\n",
       "      <th>1294_at</th>\n",
       "      <th>1316_at</th>\n",
       "      <th>1320_at</th>\n",
       "      <th>1405_i_at</th>\n",
       "      <th>...</th>\n",
       "      <th>AFFX-r2-Ec-bioD-3_at</th>\n",
       "      <th>AFFX-r2-Ec-bioD-5_at</th>\n",
       "      <th>AFFX-r2-P1-cre-3_at</th>\n",
       "      <th>AFFX-r2-P1-cre-5_at</th>\n",
       "      <th>AFFX-ThrX-3_at</th>\n",
       "      <th>AFFX-ThrX-5_at</th>\n",
       "      <th>AFFX-ThrX-M_at</th>\n",
       "      <th>AFFX-TrpnX-3_at</th>\n",
       "      <th>AFFX-TrpnX-5_at</th>\n",
       "      <th>AFFX-TrpnX-M_at</th>\n",
       "    </tr>\n",
       "  </thead>\n",
       "  <tbody>\n",
       "    <tr>\n",
       "      <th>count</th>\n",
       "      <td>151.000000</td>\n",
       "      <td>151.000000</td>\n",
       "      <td>151.000000</td>\n",
       "      <td>151.000000</td>\n",
       "      <td>151.000000</td>\n",
       "      <td>151.000000</td>\n",
       "      <td>151.000000</td>\n",
       "      <td>151.000000</td>\n",
       "      <td>151.000000</td>\n",
       "      <td>151.000000</td>\n",
       "      <td>...</td>\n",
       "      <td>151.000000</td>\n",
       "      <td>151.000000</td>\n",
       "      <td>151.000000</td>\n",
       "      <td>151.000000</td>\n",
       "      <td>151.000000</td>\n",
       "      <td>151.000000</td>\n",
       "      <td>151.000000</td>\n",
       "      <td>151.000000</td>\n",
       "      <td>151.000000</td>\n",
       "      <td>151.000000</td>\n",
       "    </tr>\n",
       "    <tr>\n",
       "      <th>mean</th>\n",
       "      <td>160.668874</td>\n",
       "      <td>10.338901</td>\n",
       "      <td>7.631910</td>\n",
       "      <td>6.224885</td>\n",
       "      <td>7.339248</td>\n",
       "      <td>3.185252</td>\n",
       "      <td>7.310240</td>\n",
       "      <td>5.323484</td>\n",
       "      <td>4.714095</td>\n",
       "      <td>7.787712</td>\n",
       "      <td>...</td>\n",
       "      <td>12.359605</td>\n",
       "      <td>11.823386</td>\n",
       "      <td>14.018193</td>\n",
       "      <td>13.773030</td>\n",
       "      <td>7.621929</td>\n",
       "      <td>5.699042</td>\n",
       "      <td>6.185605</td>\n",
       "      <td>2.918774</td>\n",
       "      <td>3.624008</td>\n",
       "      <td>3.173868</td>\n",
       "    </tr>\n",
       "    <tr>\n",
       "      <th>std</th>\n",
       "      <td>45.431226</td>\n",
       "      <td>0.613445</td>\n",
       "      <td>0.706464</td>\n",
       "      <td>0.645435</td>\n",
       "      <td>0.330827</td>\n",
       "      <td>0.158909</td>\n",
       "      <td>0.642091</td>\n",
       "      <td>0.294513</td>\n",
       "      <td>0.308550</td>\n",
       "      <td>1.648260</td>\n",
       "      <td>...</td>\n",
       "      <td>0.318436</td>\n",
       "      <td>0.369859</td>\n",
       "      <td>0.253870</td>\n",
       "      <td>0.290556</td>\n",
       "      <td>0.857777</td>\n",
       "      <td>0.860841</td>\n",
       "      <td>0.953867</td>\n",
       "      <td>0.093126</td>\n",
       "      <td>0.145394</td>\n",
       "      <td>0.101907</td>\n",
       "    </tr>\n",
       "    <tr>\n",
       "      <th>min</th>\n",
       "      <td>84.000000</td>\n",
       "      <td>7.505488</td>\n",
       "      <td>5.855968</td>\n",
       "      <td>4.763602</td>\n",
       "      <td>6.632206</td>\n",
       "      <td>2.760583</td>\n",
       "      <td>5.455736</td>\n",
       "      <td>4.646131</td>\n",
       "      <td>3.946065</td>\n",
       "      <td>3.866030</td>\n",
       "      <td>...</td>\n",
       "      <td>11.650564</td>\n",
       "      <td>10.939760</td>\n",
       "      <td>13.419083</td>\n",
       "      <td>13.191191</td>\n",
       "      <td>5.729767</td>\n",
       "      <td>4.326227</td>\n",
       "      <td>4.301471</td>\n",
       "      <td>2.733497</td>\n",
       "      <td>3.299401</td>\n",
       "      <td>2.937393</td>\n",
       "    </tr>\n",
       "    <tr>\n",
       "      <th>25%</th>\n",
       "      <td>121.500000</td>\n",
       "      <td>10.103030</td>\n",
       "      <td>7.166075</td>\n",
       "      <td>5.798087</td>\n",
       "      <td>7.105841</td>\n",
       "      <td>3.075873</td>\n",
       "      <td>6.874504</td>\n",
       "      <td>5.131931</td>\n",
       "      <td>4.466260</td>\n",
       "      <td>6.804510</td>\n",
       "      <td>...</td>\n",
       "      <td>12.149550</td>\n",
       "      <td>11.592631</td>\n",
       "      <td>13.807282</td>\n",
       "      <td>13.523011</td>\n",
       "      <td>6.884862</td>\n",
       "      <td>4.967515</td>\n",
       "      <td>5.336542</td>\n",
       "      <td>2.861549</td>\n",
       "      <td>3.532740</td>\n",
       "      <td>3.109767</td>\n",
       "    </tr>\n",
       "    <tr>\n",
       "      <th>50%</th>\n",
       "      <td>159.000000</td>\n",
       "      <td>10.416819</td>\n",
       "      <td>7.531673</td>\n",
       "      <td>6.235074</td>\n",
       "      <td>7.333426</td>\n",
       "      <td>3.187703</td>\n",
       "      <td>7.417113</td>\n",
       "      <td>5.274663</td>\n",
       "      <td>4.662957</td>\n",
       "      <td>7.912255</td>\n",
       "      <td>...</td>\n",
       "      <td>12.321900</td>\n",
       "      <td>11.830756</td>\n",
       "      <td>14.002497</td>\n",
       "      <td>13.740376</td>\n",
       "      <td>7.795425</td>\n",
       "      <td>5.489450</td>\n",
       "      <td>6.209136</td>\n",
       "      <td>2.911734</td>\n",
       "      <td>3.615106</td>\n",
       "      <td>3.163205</td>\n",
       "    </tr>\n",
       "    <tr>\n",
       "      <th>75%</th>\n",
       "      <td>200.500000</td>\n",
       "      <td>10.735117</td>\n",
       "      <td>8.053832</td>\n",
       "      <td>6.612291</td>\n",
       "      <td>7.513084</td>\n",
       "      <td>3.280416</td>\n",
       "      <td>7.760806</td>\n",
       "      <td>5.456686</td>\n",
       "      <td>4.941337</td>\n",
       "      <td>8.887997</td>\n",
       "      <td>...</td>\n",
       "      <td>12.527235</td>\n",
       "      <td>12.021728</td>\n",
       "      <td>14.232589</td>\n",
       "      <td>14.028020</td>\n",
       "      <td>8.195458</td>\n",
       "      <td>6.449022</td>\n",
       "      <td>7.046721</td>\n",
       "      <td>2.961270</td>\n",
       "      <td>3.698539</td>\n",
       "      <td>3.229561</td>\n",
       "    </tr>\n",
       "    <tr>\n",
       "      <th>max</th>\n",
       "      <td>238.000000</td>\n",
       "      <td>11.675109</td>\n",
       "      <td>9.627008</td>\n",
       "      <td>8.364749</td>\n",
       "      <td>8.374055</td>\n",
       "      <td>3.611630</td>\n",
       "      <td>8.569296</td>\n",
       "      <td>6.360765</td>\n",
       "      <td>5.893006</td>\n",
       "      <td>11.710498</td>\n",
       "      <td>...</td>\n",
       "      <td>13.509037</td>\n",
       "      <td>13.119966</td>\n",
       "      <td>14.622678</td>\n",
       "      <td>14.482744</td>\n",
       "      <td>10.291243</td>\n",
       "      <td>8.112206</td>\n",
       "      <td>9.121638</td>\n",
       "      <td>3.322275</td>\n",
       "      <td>4.160823</td>\n",
       "      <td>3.451855</td>\n",
       "    </tr>\n",
       "  </tbody>\n",
       "</table>\n",
       "<p>8 rows × 54676 columns</p>\n",
       "</div>"
      ],
      "text/plain": [
       "          samples   1007_s_at     1053_at      117_at      121_at   1255_g_at  \\\n",
       "count  151.000000  151.000000  151.000000  151.000000  151.000000  151.000000   \n",
       "mean   160.668874   10.338901    7.631910    6.224885    7.339248    3.185252   \n",
       "std     45.431226    0.613445    0.706464    0.645435    0.330827    0.158909   \n",
       "min     84.000000    7.505488    5.855968    4.763602    6.632206    2.760583   \n",
       "25%    121.500000   10.103030    7.166075    5.798087    7.105841    3.075873   \n",
       "50%    159.000000   10.416819    7.531673    6.235074    7.333426    3.187703   \n",
       "75%    200.500000   10.735117    8.053832    6.612291    7.513084    3.280416   \n",
       "max    238.000000   11.675109    9.627008    8.364749    8.374055    3.611630   \n",
       "\n",
       "          1294_at     1316_at     1320_at   1405_i_at  ...  \\\n",
       "count  151.000000  151.000000  151.000000  151.000000  ...   \n",
       "mean     7.310240    5.323484    4.714095    7.787712  ...   \n",
       "std      0.642091    0.294513    0.308550    1.648260  ...   \n",
       "min      5.455736    4.646131    3.946065    3.866030  ...   \n",
       "25%      6.874504    5.131931    4.466260    6.804510  ...   \n",
       "50%      7.417113    5.274663    4.662957    7.912255  ...   \n",
       "75%      7.760806    5.456686    4.941337    8.887997  ...   \n",
       "max      8.569296    6.360765    5.893006   11.710498  ...   \n",
       "\n",
       "       AFFX-r2-Ec-bioD-3_at  AFFX-r2-Ec-bioD-5_at  AFFX-r2-P1-cre-3_at  \\\n",
       "count            151.000000            151.000000           151.000000   \n",
       "mean              12.359605             11.823386            14.018193   \n",
       "std                0.318436              0.369859             0.253870   \n",
       "min               11.650564             10.939760            13.419083   \n",
       "25%               12.149550             11.592631            13.807282   \n",
       "50%               12.321900             11.830756            14.002497   \n",
       "75%               12.527235             12.021728            14.232589   \n",
       "max               13.509037             13.119966            14.622678   \n",
       "\n",
       "       AFFX-r2-P1-cre-5_at  AFFX-ThrX-3_at  AFFX-ThrX-5_at  AFFX-ThrX-M_at  \\\n",
       "count           151.000000      151.000000      151.000000      151.000000   \n",
       "mean             13.773030        7.621929        5.699042        6.185605   \n",
       "std               0.290556        0.857777        0.860841        0.953867   \n",
       "min              13.191191        5.729767        4.326227        4.301471   \n",
       "25%              13.523011        6.884862        4.967515        5.336542   \n",
       "50%              13.740376        7.795425        5.489450        6.209136   \n",
       "75%              14.028020        8.195458        6.449022        7.046721   \n",
       "max              14.482744       10.291243        8.112206        9.121638   \n",
       "\n",
       "       AFFX-TrpnX-3_at  AFFX-TrpnX-5_at  AFFX-TrpnX-M_at  \n",
       "count       151.000000       151.000000       151.000000  \n",
       "mean          2.918774         3.624008         3.173868  \n",
       "std           0.093126         0.145394         0.101907  \n",
       "min           2.733497         3.299401         2.937393  \n",
       "25%           2.861549         3.532740         3.109767  \n",
       "50%           2.911734         3.615106         3.163205  \n",
       "75%           2.961270         3.698539         3.229561  \n",
       "max           3.322275         4.160823         3.451855  \n",
       "\n",
       "[8 rows x 54676 columns]"
      ]
     },
     "execution_count": 8,
     "metadata": {},
     "output_type": "execute_result"
    }
   ],
   "source": [
    "df.describe()"
   ]
  },
  {
   "cell_type": "code",
   "execution_count": 9,
   "id": "5dacce5f",
   "metadata": {},
   "outputs": [
    {
     "data": {
      "text/plain": [
       "0"
      ]
     },
     "execution_count": 9,
     "metadata": {},
     "output_type": "execute_result"
    }
   ],
   "source": [
    "df.duplicated().sum() # filas duplicadas"
   ]
  },
  {
   "cell_type": "code",
   "execution_count": 10,
   "id": "7cf19a31",
   "metadata": {},
   "outputs": [
    {
     "data": {
      "text/plain": [
       "samples            0\n",
       "type               0\n",
       "1007_s_at          0\n",
       "1053_at            0\n",
       "117_at             0\n",
       "                  ..\n",
       "AFFX-ThrX-5_at     0\n",
       "AFFX-ThrX-M_at     0\n",
       "AFFX-TrpnX-3_at    0\n",
       "AFFX-TrpnX-5_at    0\n",
       "AFFX-TrpnX-M_at    0\n",
       "Length: 54677, dtype: int64"
      ]
     },
     "execution_count": 10,
     "metadata": {},
     "output_type": "execute_result"
    }
   ],
   "source": [
    "df.isna().sum() #datos Null en el  DataFrame"
   ]
  },
  {
   "cell_type": "code",
   "execution_count": 11,
   "id": "c501d361",
   "metadata": {},
   "outputs": [
    {
     "data": {
      "text/plain": [
       "0"
      ]
     },
     "execution_count": 11,
     "metadata": {},
     "output_type": "execute_result"
    }
   ],
   "source": [
    "df.isna().sum().sum() #Al ser tantas columnas se hace sum() sobre sum() para ver si en alguna columna intermedia hay Null"
   ]
  },
  {
   "cell_type": "code",
   "execution_count": 12,
   "id": "835f3885",
   "metadata": {},
   "outputs": [
    {
     "data": {
      "text/plain": [
       "type\n",
       "basal        41\n",
       "HER          30\n",
       "luminal_B    30\n",
       "luminal_A    29\n",
       "cell_line    14\n",
       "normal        7\n",
       "Name: count, dtype: int64"
      ]
     },
     "execution_count": 12,
     "metadata": {},
     "output_type": "execute_result"
    }
   ],
   "source": [
    "#La variable target (\"type\") tiene 6 clases en el dataset original, y estan desbalanceadas\n",
    "\n",
    "df[\"type\"].value_counts()"
   ]
  },
  {
   "cell_type": "code",
   "execution_count": 13,
   "id": "926fce41",
   "metadata": {},
   "outputs": [
    {
     "data": {
      "image/png": "[encoded data removed]",
      "text/plain": [
       "<Figure size 1000x600 with 1 Axes>"
      ]
     },
     "metadata": {},
     "output_type": "display_data"
    }
   ],
   "source": [
    "# visualizacion clases variable target\n",
    "\n",
    "plt.figure(figsize = (10, 6))\n",
    "\n",
    "# Datos Originales con etiqueta real\n",
    "\n",
    "sns.countplot(x = df[\"type\"].values, palette=\"dark\")\n",
    "\n",
    "plt.title(\"conteo de la variable type\")\n",
    "plt.show()"
   ]
  },
  {
   "cell_type": "markdown",
   "id": "b32238a2",
   "metadata": {},
   "source": [
    "### **2. Procesamiento de los datos previo a clustering**"
   ]
  },
  {
   "cell_type": "code",
   "execution_count": 14,
   "id": "9f76ec16",
   "metadata": {},
   "outputs": [
    {
     "data": {
      "text/html": [
       "<div>\n",
       "<style scoped>\n",
       "    .dataframe tbody tr th:only-of-type {\n",
       "        vertical-align: middle;\n",
       "    }\n",
       "\n",
       "    .dataframe tbody tr th {\n",
       "        vertical-align: top;\n",
       "    }\n",
       "\n",
       "    .dataframe thead th {\n",
       "        text-align: right;\n",
       "    }\n",
       "</style>\n",
       "<table border=\"1\" class=\"dataframe\">\n",
       "  <thead>\n",
       "    <tr style=\"text-align: right;\">\n",
       "      <th></th>\n",
       "      <th>1007_s_at</th>\n",
       "      <th>1053_at</th>\n",
       "      <th>117_at</th>\n",
       "      <th>121_at</th>\n",
       "      <th>1255_g_at</th>\n",
       "      <th>1294_at</th>\n",
       "      <th>1316_at</th>\n",
       "      <th>1320_at</th>\n",
       "      <th>1405_i_at</th>\n",
       "      <th>1431_at</th>\n",
       "      <th>...</th>\n",
       "      <th>AFFX-r2-Ec-bioD-3_at</th>\n",
       "      <th>AFFX-r2-Ec-bioD-5_at</th>\n",
       "      <th>AFFX-r2-P1-cre-3_at</th>\n",
       "      <th>AFFX-r2-P1-cre-5_at</th>\n",
       "      <th>AFFX-ThrX-3_at</th>\n",
       "      <th>AFFX-ThrX-5_at</th>\n",
       "      <th>AFFX-ThrX-M_at</th>\n",
       "      <th>AFFX-TrpnX-3_at</th>\n",
       "      <th>AFFX-TrpnX-5_at</th>\n",
       "      <th>AFFX-TrpnX-M_at</th>\n",
       "    </tr>\n",
       "  </thead>\n",
       "  <tbody>\n",
       "    <tr>\n",
       "      <th>0</th>\n",
       "      <td>9.850040</td>\n",
       "      <td>8.097927</td>\n",
       "      <td>6.424728</td>\n",
       "      <td>7.353027</td>\n",
       "      <td>3.029122</td>\n",
       "      <td>6.880079</td>\n",
       "      <td>4.963740</td>\n",
       "      <td>4.408328</td>\n",
       "      <td>8.870780</td>\n",
       "      <td>3.278896</td>\n",
       "      <td>...</td>\n",
       "      <td>12.229711</td>\n",
       "      <td>11.852955</td>\n",
       "      <td>13.658701</td>\n",
       "      <td>13.477698</td>\n",
       "      <td>6.265781</td>\n",
       "      <td>5.016196</td>\n",
       "      <td>4.901594</td>\n",
       "      <td>2.966657</td>\n",
       "      <td>3.508495</td>\n",
       "      <td>3.301999</td>\n",
       "    </tr>\n",
       "    <tr>\n",
       "      <th>1</th>\n",
       "      <td>9.861357</td>\n",
       "      <td>8.212222</td>\n",
       "      <td>7.062593</td>\n",
       "      <td>7.685578</td>\n",
       "      <td>3.149468</td>\n",
       "      <td>7.542283</td>\n",
       "      <td>5.129607</td>\n",
       "      <td>4.584418</td>\n",
       "      <td>7.767646</td>\n",
       "      <td>3.589636</td>\n",
       "      <td>...</td>\n",
       "      <td>12.178531</td>\n",
       "      <td>11.809408</td>\n",
       "      <td>13.750086</td>\n",
       "      <td>13.470146</td>\n",
       "      <td>6.771853</td>\n",
       "      <td>5.291005</td>\n",
       "      <td>5.405839</td>\n",
       "      <td>2.934763</td>\n",
       "      <td>3.687666</td>\n",
       "      <td>3.064299</td>\n",
       "    </tr>\n",
       "    <tr>\n",
       "      <th>2</th>\n",
       "      <td>10.103478</td>\n",
       "      <td>8.936137</td>\n",
       "      <td>5.735970</td>\n",
       "      <td>7.687822</td>\n",
       "      <td>3.125931</td>\n",
       "      <td>6.562369</td>\n",
       "      <td>4.813449</td>\n",
       "      <td>4.425195</td>\n",
       "      <td>9.417956</td>\n",
       "      <td>3.552253</td>\n",
       "      <td>...</td>\n",
       "      <td>12.125108</td>\n",
       "      <td>11.725766</td>\n",
       "      <td>13.621732</td>\n",
       "      <td>13.295080</td>\n",
       "      <td>6.346952</td>\n",
       "      <td>5.171403</td>\n",
       "      <td>5.184286</td>\n",
       "      <td>2.847684</td>\n",
       "      <td>3.550597</td>\n",
       "      <td>3.158535</td>\n",
       "    </tr>\n",
       "    <tr>\n",
       "      <th>3</th>\n",
       "      <td>9.756875</td>\n",
       "      <td>7.357148</td>\n",
       "      <td>6.479183</td>\n",
       "      <td>6.986624</td>\n",
       "      <td>3.181638</td>\n",
       "      <td>7.802344</td>\n",
       "      <td>5.490982</td>\n",
       "      <td>4.567956</td>\n",
       "      <td>9.022345</td>\n",
       "      <td>3.312473</td>\n",
       "      <td>...</td>\n",
       "      <td>12.111235</td>\n",
       "      <td>11.719215</td>\n",
       "      <td>13.743108</td>\n",
       "      <td>13.508861</td>\n",
       "      <td>6.610284</td>\n",
       "      <td>5.193356</td>\n",
       "      <td>5.086569</td>\n",
       "      <td>3.031602</td>\n",
       "      <td>3.524981</td>\n",
       "      <td>3.272665</td>\n",
       "    </tr>\n",
       "    <tr>\n",
       "      <th>4</th>\n",
       "      <td>9.408330</td>\n",
       "      <td>7.746404</td>\n",
       "      <td>6.693980</td>\n",
       "      <td>7.333426</td>\n",
       "      <td>3.169923</td>\n",
       "      <td>7.610457</td>\n",
       "      <td>5.372469</td>\n",
       "      <td>4.424426</td>\n",
       "      <td>9.400056</td>\n",
       "      <td>3.368243</td>\n",
       "      <td>...</td>\n",
       "      <td>12.173642</td>\n",
       "      <td>11.861296</td>\n",
       "      <td>13.797774</td>\n",
       "      <td>13.542206</td>\n",
       "      <td>6.414354</td>\n",
       "      <td>5.040202</td>\n",
       "      <td>5.235318</td>\n",
       "      <td>2.956232</td>\n",
       "      <td>3.445501</td>\n",
       "      <td>3.193947</td>\n",
       "    </tr>\n",
       "    <tr>\n",
       "      <th>...</th>\n",
       "      <td>...</td>\n",
       "      <td>...</td>\n",
       "      <td>...</td>\n",
       "      <td>...</td>\n",
       "      <td>...</td>\n",
       "      <td>...</td>\n",
       "      <td>...</td>\n",
       "      <td>...</td>\n",
       "      <td>...</td>\n",
       "      <td>...</td>\n",
       "      <td>...</td>\n",
       "      <td>...</td>\n",
       "      <td>...</td>\n",
       "      <td>...</td>\n",
       "      <td>...</td>\n",
       "      <td>...</td>\n",
       "      <td>...</td>\n",
       "      <td>...</td>\n",
       "      <td>...</td>\n",
       "      <td>...</td>\n",
       "      <td>...</td>\n",
       "    </tr>\n",
       "    <tr>\n",
       "      <th>146</th>\n",
       "      <td>10.392638</td>\n",
       "      <td>7.334408</td>\n",
       "      <td>6.848586</td>\n",
       "      <td>7.020486</td>\n",
       "      <td>3.228065</td>\n",
       "      <td>7.815439</td>\n",
       "      <td>5.448470</td>\n",
       "      <td>4.496955</td>\n",
       "      <td>8.015534</td>\n",
       "      <td>4.126711</td>\n",
       "      <td>...</td>\n",
       "      <td>12.638556</td>\n",
       "      <td>12.122129</td>\n",
       "      <td>14.331152</td>\n",
       "      <td>14.133976</td>\n",
       "      <td>8.495888</td>\n",
       "      <td>4.971727</td>\n",
       "      <td>6.209136</td>\n",
       "      <td>2.852852</td>\n",
       "      <td>3.697448</td>\n",
       "      <td>3.333289</td>\n",
       "    </tr>\n",
       "    <tr>\n",
       "      <th>147</th>\n",
       "      <td>10.930875</td>\n",
       "      <td>8.415294</td>\n",
       "      <td>5.906827</td>\n",
       "      <td>7.753572</td>\n",
       "      <td>3.270557</td>\n",
       "      <td>7.367931</td>\n",
       "      <td>5.906849</td>\n",
       "      <td>5.194349</td>\n",
       "      <td>8.248133</td>\n",
       "      <td>3.735215</td>\n",
       "      <td>...</td>\n",
       "      <td>12.523507</td>\n",
       "      <td>11.977970</td>\n",
       "      <td>14.285405</td>\n",
       "      <td>14.070989</td>\n",
       "      <td>8.193182</td>\n",
       "      <td>6.528948</td>\n",
       "      <td>7.108210</td>\n",
       "      <td>2.929800</td>\n",
       "      <td>3.833289</td>\n",
       "      <td>3.213893</td>\n",
       "    </tr>\n",
       "    <tr>\n",
       "      <th>148</th>\n",
       "      <td>11.027098</td>\n",
       "      <td>7.180876</td>\n",
       "      <td>6.304736</td>\n",
       "      <td>7.641197</td>\n",
       "      <td>3.206950</td>\n",
       "      <td>8.569296</td>\n",
       "      <td>5.823146</td>\n",
       "      <td>4.617309</td>\n",
       "      <td>7.523521</td>\n",
       "      <td>3.718392</td>\n",
       "      <td>...</td>\n",
       "      <td>12.256767</td>\n",
       "      <td>11.661126</td>\n",
       "      <td>14.149586</td>\n",
       "      <td>13.977076</td>\n",
       "      <td>8.351331</td>\n",
       "      <td>6.882504</td>\n",
       "      <td>7.329545</td>\n",
       "      <td>3.085127</td>\n",
       "      <td>3.628848</td>\n",
       "      <td>3.215807</td>\n",
       "    </tr>\n",
       "    <tr>\n",
       "      <th>149</th>\n",
       "      <td>10.444395</td>\n",
       "      <td>7.525153</td>\n",
       "      <td>5.964460</td>\n",
       "      <td>7.825939</td>\n",
       "      <td>3.384147</td>\n",
       "      <td>7.268454</td>\n",
       "      <td>5.245072</td>\n",
       "      <td>5.088004</td>\n",
       "      <td>7.364773</td>\n",
       "      <td>4.148290</td>\n",
       "      <td>...</td>\n",
       "      <td>12.321900</td>\n",
       "      <td>11.727694</td>\n",
       "      <td>14.186277</td>\n",
       "      <td>13.943521</td>\n",
       "      <td>7.927210</td>\n",
       "      <td>6.839086</td>\n",
       "      <td>7.089259</td>\n",
       "      <td>3.018525</td>\n",
       "      <td>3.770597</td>\n",
       "      <td>3.102298</td>\n",
       "    </tr>\n",
       "    <tr>\n",
       "      <th>150</th>\n",
       "      <td>11.345817</td>\n",
       "      <td>7.379299</td>\n",
       "      <td>5.891172</td>\n",
       "      <td>7.394586</td>\n",
       "      <td>3.183420</td>\n",
       "      <td>7.792885</td>\n",
       "      <td>5.355978</td>\n",
       "      <td>4.457914</td>\n",
       "      <td>7.782413</td>\n",
       "      <td>4.877128</td>\n",
       "      <td>...</td>\n",
       "      <td>12.126110</td>\n",
       "      <td>11.478893</td>\n",
       "      <td>14.070188</td>\n",
       "      <td>13.857547</td>\n",
       "      <td>7.992141</td>\n",
       "      <td>5.661898</td>\n",
       "      <td>6.460331</td>\n",
       "      <td>3.061585</td>\n",
       "      <td>3.857525</td>\n",
       "      <td>3.129827</td>\n",
       "    </tr>\n",
       "  </tbody>\n",
       "</table>\n",
       "<p>151 rows × 54675 columns</p>\n",
       "</div>"
      ],
      "text/plain": [
       "     1007_s_at   1053_at    117_at    121_at  1255_g_at   1294_at   1316_at  \\\n",
       "0     9.850040  8.097927  6.424728  7.353027   3.029122  6.880079  4.963740   \n",
       "1     9.861357  8.212222  7.062593  7.685578   3.149468  7.542283  5.129607   \n",
       "2    10.103478  8.936137  5.735970  7.687822   3.125931  6.562369  4.813449   \n",
       "3     9.756875  7.357148  6.479183  6.986624   3.181638  7.802344  5.490982   \n",
       "4     9.408330  7.746404  6.693980  7.333426   3.169923  7.610457  5.372469   \n",
       "..         ...       ...       ...       ...        ...       ...       ...   \n",
       "146  10.392638  7.334408  6.848586  7.020486   3.228065  7.815439  5.448470   \n",
       "147  10.930875  8.415294  5.906827  7.753572   3.270557  7.367931  5.906849   \n",
       "148  11.027098  7.180876  6.304736  7.641197   3.206950  8.569296  5.823146   \n",
       "149  10.444395  7.525153  5.964460  7.825939   3.384147  7.268454  5.245072   \n",
       "150  11.345817  7.379299  5.891172  7.394586   3.183420  7.792885  5.355978   \n",
       "\n",
       "      1320_at  1405_i_at   1431_at  ...  AFFX-r2-Ec-bioD-3_at  \\\n",
       "0    4.408328   8.870780  3.278896  ...             12.229711   \n",
       "1    4.584418   7.767646  3.589636  ...             12.178531   \n",
       "2    4.425195   9.417956  3.552253  ...             12.125108   \n",
       "3    4.567956   9.022345  3.312473  ...             12.111235   \n",
       "4    4.424426   9.400056  3.368243  ...             12.173642   \n",
       "..        ...        ...       ...  ...                   ...   \n",
       "146  4.496955   8.015534  4.126711  ...             12.638556   \n",
       "147  5.194349   8.248133  3.735215  ...             12.523507   \n",
       "148  4.617309   7.523521  3.718392  ...             12.256767   \n",
       "149  5.088004   7.364773  4.148290  ...             12.321900   \n",
       "150  4.457914   7.782413  4.877128  ...             12.126110   \n",
       "\n",
       "     AFFX-r2-Ec-bioD-5_at  AFFX-r2-P1-cre-3_at  AFFX-r2-P1-cre-5_at  \\\n",
       "0               11.852955            13.658701            13.477698   \n",
       "1               11.809408            13.750086            13.470146   \n",
       "2               11.725766            13.621732            13.295080   \n",
       "3               11.719215            13.743108            13.508861   \n",
       "4               11.861296            13.797774            13.542206   \n",
       "..                    ...                  ...                  ...   \n",
       "146             12.122129            14.331152            14.133976   \n",
       "147             11.977970            14.285405            14.070989   \n",
       "148             11.661126            14.149586            13.977076   \n",
       "149             11.727694            14.186277            13.943521   \n",
       "150             11.478893            14.070188            13.857547   \n",
       "\n",
       "     AFFX-ThrX-3_at  AFFX-ThrX-5_at  AFFX-ThrX-M_at  AFFX-TrpnX-3_at  \\\n",
       "0          6.265781        5.016196        4.901594         2.966657   \n",
       "1          6.771853        5.291005        5.405839         2.934763   \n",
       "2          6.346952        5.171403        5.184286         2.847684   \n",
       "3          6.610284        5.193356        5.086569         3.031602   \n",
       "4          6.414354        5.040202        5.235318         2.956232   \n",
       "..              ...             ...             ...              ...   \n",
       "146        8.495888        4.971727        6.209136         2.852852   \n",
       "147        8.193182        6.528948        7.108210         2.929800   \n",
       "148        8.351331        6.882504        7.329545         3.085127   \n",
       "149        7.927210        6.839086        7.089259         3.018525   \n",
       "150        7.992141        5.661898        6.460331         3.061585   \n",
       "\n",
       "     AFFX-TrpnX-5_at  AFFX-TrpnX-M_at  \n",
       "0           3.508495         3.301999  \n",
       "1           3.687666         3.064299  \n",
       "2           3.550597         3.158535  \n",
       "3           3.524981         3.272665  \n",
       "4           3.445501         3.193947  \n",
       "..               ...              ...  \n",
       "146         3.697448         3.333289  \n",
       "147         3.833289         3.213893  \n",
       "148         3.628848         3.215807  \n",
       "149         3.770597         3.102298  \n",
       "150         3.857525         3.129827  \n",
       "\n",
       "[151 rows x 54675 columns]"
      ]
     },
     "execution_count": 14,
     "metadata": {},
     "output_type": "execute_result"
    }
   ],
   "source": [
    "#Se elimina la variable \"samples\" que no contiene informacion genetica, y que no debe que afectar al clustering\n",
    "#Tambien se elimina la variable target \"type\", no debe estar en el conjunto de variables explicativas del clustering\n",
    "\n",
    "X = df.drop([\"samples\", \"type\"], axis = 1)\n",
    "\n",
    "X\n"
   ]
  },
  {
   "cell_type": "code",
   "execution_count": 15,
   "id": "7993adbd",
   "metadata": {},
   "outputs": [
    {
     "data": {
      "text/plain": [
       "array([[0.56229373, 0.59452011, 0.46127698, ..., 0.39600615, 0.2427308 ,\n",
       "        0.7087131 ],\n",
       "       [0.56500798, 0.6248287 , 0.6384052 , ..., 0.34183768, 0.45072597,\n",
       "        0.24667753],\n",
       "       [0.62307587, 0.81679553, 0.27001613, ..., 0.19393886, 0.29160589,\n",
       "        0.42985184],\n",
       "       ...,\n",
       "       [0.8445875 , 0.35133745, 0.42795645, ..., 0.59722072, 0.38244555,\n",
       "        0.54117618],\n",
       "       [0.70483786, 0.44263234, 0.33346537, ..., 0.48410131, 0.54699822,\n",
       "        0.32053876],\n",
       "       [0.92102592, 0.40395516, 0.31311407, ..., 0.55723609, 0.64791041,\n",
       "        0.3740503 ]])"
      ]
     },
     "execution_count": 15,
     "metadata": {},
     "output_type": "execute_result"
    }
   ],
   "source": [
    "# Normalizacion y entrenamiento (fit)\n",
    "\n",
    "x_scaler = MinMaxScaler()\n",
    "X = x_scaler.fit_transform(X)\n",
    "\n",
    "X"
   ]
  },
  {
   "cell_type": "code",
   "execution_count": 16,
   "id": "5a641319",
   "metadata": {},
   "outputs": [
    {
     "data": {
      "text/plain": [
       "array([0.56229373, 0.59452011, 0.46127698, ..., 0.55723609, 0.64791041,\n",
       "       0.3740503 ])"
      ]
     },
     "execution_count": 16,
     "metadata": {},
     "output_type": "execute_result"
    }
   ],
   "source": [
    "X.flatten() #Sirve para aplanar las dimensiones de X"
   ]
  },
  {
   "cell_type": "code",
   "execution_count": 17,
   "id": "a24a051c",
   "metadata": {},
   "outputs": [
    {
     "data": {
      "text/plain": [
       "(151, 54675)"
      ]
     },
     "execution_count": 17,
     "metadata": {},
     "output_type": "execute_result"
    }
   ],
   "source": [
    "X.shape"
   ]
  },
  {
   "cell_type": "code",
   "execution_count": 18,
   "id": "477463de",
   "metadata": {},
   "outputs": [
    {
     "data": {
      "text/plain": [
       "{'basal': 0,\n",
       " 'HER': 1,\n",
       " 'cell_line': 2,\n",
       " 'normal': 3,\n",
       " 'luminal_A': 4,\n",
       " 'luminal_B': 5}"
      ]
     },
     "execution_count": 18,
     "metadata": {},
     "output_type": "execute_result"
    }
   ],
   "source": [
    "#Transformacion de categórica a numérica de la variable target \"type\"\n",
    "\n",
    "dict_type = {x : num for num, x in enumerate(df[\"type\"].unique())}\n",
    "\n",
    "dict_type"
   ]
  },
  {
   "cell_type": "code",
   "execution_count": 19,
   "id": "079a5ba9",
   "metadata": {},
   "outputs": [
    {
     "data": {
      "text/plain": [
       "0      0\n",
       "1      0\n",
       "2      0\n",
       "3      0\n",
       "4      0\n",
       "      ..\n",
       "146    5\n",
       "147    5\n",
       "148    5\n",
       "149    5\n",
       "150    5\n",
       "Name: type, Length: 151, dtype: int64"
      ]
     },
     "execution_count": 19,
     "metadata": {},
     "output_type": "execute_result"
    }
   ],
   "source": [
    "# .map aplica la función dada a cada elemento del iterable y devuelve un objeto map que contiene los resultados.\n",
    "\n",
    "df[\"type\"].map(dict_type)"
   ]
  },
  {
   "cell_type": "code",
   "execution_count": 20,
   "id": "8faea08c",
   "metadata": {},
   "outputs": [
    {
     "data": {
      "text/plain": [
       "0      0\n",
       "1      0\n",
       "2      0\n",
       "3      0\n",
       "4      0\n",
       "      ..\n",
       "146    5\n",
       "147    5\n",
       "148    5\n",
       "149    5\n",
       "150    5\n",
       "Name: type, Length: 151, dtype: int64"
      ]
     },
     "execution_count": 20,
     "metadata": {},
     "output_type": "execute_result"
    }
   ],
   "source": [
    "df[\"type\"].apply(lambda x : dict_type[x])"
   ]
  },
  {
   "cell_type": "code",
   "execution_count": 21,
   "id": "46b578a9",
   "metadata": {},
   "outputs": [],
   "source": [
    "#Sustituye los valores anteriores en la columna \"type\"\n",
    "\n",
    "df[\"type\"] = df[\"type\"].apply(lambda x : dict_type[x])"
   ]
  },
  {
   "cell_type": "code",
   "execution_count": 22,
   "id": "c4f710f4",
   "metadata": {},
   "outputs": [
    {
     "data": {
      "text/plain": [
       "0      0\n",
       "1      0\n",
       "2      0\n",
       "3      0\n",
       "4      0\n",
       "      ..\n",
       "146    5\n",
       "147    5\n",
       "148    5\n",
       "149    5\n",
       "150    5\n",
       "Name: type, Length: 151, dtype: int64"
      ]
     },
     "execution_count": 22,
     "metadata": {},
     "output_type": "execute_result"
    }
   ],
   "source": [
    "Y = df[\"type\"]\n",
    "\n",
    "Y"
   ]
  },
  {
   "cell_type": "code",
   "execution_count": 23,
   "id": "88ef0b72",
   "metadata": {},
   "outputs": [
    {
     "data": {
      "text/plain": [
       "(151,)"
      ]
     },
     "execution_count": 23,
     "metadata": {},
     "output_type": "execute_result"
    }
   ],
   "source": [
    "Y.shape"
   ]
  },
  {
   "cell_type": "markdown",
   "id": "98255bd2",
   "metadata": {},
   "source": [
    "### **3. Clustering**"
   ]
  },
  {
   "cell_type": "markdown",
   "id": "3fc373d3",
   "metadata": {},
   "source": [
    "### **3.1  Clustering con K-Means**"
   ]
  },
  {
   "cell_type": "code",
   "execution_count": 24,
   "id": "100922f1",
   "metadata": {},
   "outputs": [
    {
     "name": "stderr",
     "output_type": "stream",
     "text": [
      "c:\\Users\\mary_\\anaconda3\\Lib\\site-packages\\sklearn\\cluster\\_kmeans.py:870: FutureWarning: The default value of `n_init` will change from 10 to 'auto' in 1.4. Set the value of `n_init` explicitly to suppress the warning\n",
      "  warnings.warn(\n",
      "c:\\Users\\mary_\\anaconda3\\Lib\\site-packages\\sklearn\\cluster\\_kmeans.py:1382: UserWarning: KMeans is known to have a memory leak on Windows with MKL, when there are less chunks than available threads. You can avoid it by setting the environment variable OMP_NUM_THREADS=1.\n",
      "  warnings.warn(\n"
     ]
    },
    {
     "data": {
      "text/html": [
       "<style>#sk-container-id-1 {color: black;background-color: white;}#sk-container-id-1 pre{padding: 0;}#sk-container-id-1 div.sk-toggleable {background-color: white;}#sk-container-id-1 label.sk-toggleable__label {cursor: pointer;display: block;width: 100%;margin-bottom: 0;padding: 0.3em;box-sizing: border-box;text-align: center;}#sk-container-id-1 label.sk-toggleable__label-arrow:before {content: \"▸\";float: left;margin-right: 0.25em;color: #696969;}#sk-container-id-1 label.sk-toggleable__label-arrow:hover:before {color: black;}#sk-container-id-1 div.sk-estimator:hover label.sk-toggleable__label-arrow:before {color: black;}#sk-container-id-1 div.sk-toggleable__content {max-height: 0;max-width: 0;overflow: hidden;text-align: left;background-color: #f0f8ff;}#sk-container-id-1 div.sk-toggleable__content pre {margin: 0.2em;color: black;border-radius: 0.25em;background-color: #f0f8ff;}#sk-container-id-1 input.sk-toggleable__control:checked~div.sk-toggleable__content {max-height: 200px;max-width: 100%;overflow: auto;}#sk-container-id-1 input.sk-toggleable__control:checked~label.sk-toggleable__label-arrow:before {content: \"▾\";}#sk-container-id-1 div.sk-estimator input.sk-toggleable__control:checked~label.sk-toggleable__label {background-color: #d4ebff;}#sk-container-id-1 div.sk-label input.sk-toggleable__control:checked~label.sk-toggleable__label {background-color: #d4ebff;}#sk-container-id-1 input.sk-hidden--visually {border: 0;clip: rect(1px 1px 1px 1px);clip: rect(1px, 1px, 1px, 1px);height: 1px;margin: -1px;overflow: hidden;padding: 0;position: absolute;width: 1px;}#sk-container-id-1 div.sk-estimator {font-family: monospace;background-color: #f0f8ff;border: 1px dotted black;border-radius: 0.25em;box-sizing: border-box;margin-bottom: 0.5em;}#sk-container-id-1 div.sk-estimator:hover {background-color: #d4ebff;}#sk-container-id-1 div.sk-parallel-item::after {content: \"\";width: 100%;border-bottom: 1px solid gray;flex-grow: 1;}#sk-container-id-1 div.sk-label:hover label.sk-toggleable__label {background-color: #d4ebff;}#sk-container-id-1 div.sk-serial::before {content: \"\";position: absolute;border-left: 1px solid gray;box-sizing: border-box;top: 0;bottom: 0;left: 50%;z-index: 0;}#sk-container-id-1 div.sk-serial {display: flex;flex-direction: column;align-items: center;background-color: white;padding-right: 0.2em;padding-left: 0.2em;position: relative;}#sk-container-id-1 div.sk-item {position: relative;z-index: 1;}#sk-container-id-1 div.sk-parallel {display: flex;align-items: stretch;justify-content: center;background-color: white;position: relative;}#sk-container-id-1 div.sk-item::before, #sk-container-id-1 div.sk-parallel-item::before {content: \"\";position: absolute;border-left: 1px solid gray;box-sizing: border-box;top: 0;bottom: 0;left: 50%;z-index: -1;}#sk-container-id-1 div.sk-parallel-item {display: flex;flex-direction: column;z-index: 1;position: relative;background-color: white;}#sk-container-id-1 div.sk-parallel-item:first-child::after {align-self: flex-end;width: 50%;}#sk-container-id-1 div.sk-parallel-item:last-child::after {align-self: flex-start;width: 50%;}#sk-container-id-1 div.sk-parallel-item:only-child::after {width: 0;}#sk-container-id-1 div.sk-dashed-wrapped {border: 1px dashed gray;margin: 0 0.4em 0.5em 0.4em;box-sizing: border-box;padding-bottom: 0.4em;background-color: white;}#sk-container-id-1 div.sk-label label {font-family: monospace;font-weight: bold;display: inline-block;line-height: 1.2em;}#sk-container-id-1 div.sk-label-container {text-align: center;}#sk-container-id-1 div.sk-container {/* jupyter's `normalize.less` sets `[hidden] { display: none; }` but bootstrap.min.css set `[hidden] { display: none !important; }` so we also need the `!important` here to be able to override the default hidden behavior on the sphinx rendered scikit-learn.org. See: https://github.com/scikit-learn/scikit-learn/issues/21755 */display: inline-block !important;position: relative;}#sk-container-id-1 div.sk-text-repr-fallback {display: none;}</style><div id=\"sk-container-id-1\" class=\"sk-top-container\"><div class=\"sk-text-repr-fallback\"><pre>KMeans(n_clusters=6, random_state=42)</pre><b>In a Jupyter environment, please rerun this cell to show the HTML representation or trust the notebook. <br />On GitHub, the HTML representation is unable to render, please try loading this page with nbviewer.org.</b></div><div class=\"sk-container\" hidden><div class=\"sk-item\"><div class=\"sk-estimator sk-toggleable\"><input class=\"sk-toggleable__control sk-hidden--visually\" id=\"sk-estimator-id-1\" type=\"checkbox\" checked><label for=\"sk-estimator-id-1\" class=\"sk-toggleable__label sk-toggleable__label-arrow\">KMeans</label><div class=\"sk-toggleable__content\"><pre>KMeans(n_clusters=6, random_state=42)</pre></div></div></div></div></div>"
      ],
      "text/plain": [
       "KMeans(n_clusters=6, random_state=42)"
      ]
     },
     "execution_count": 24,
     "metadata": {},
     "output_type": "execute_result"
    }
   ],
   "source": [
    "#Clusterizacion con K-Means\n",
    "\n",
    "kmeans = KMeans(n_clusters = 6, random_state = 42)\n",
    "kmeans.fit(X)"
   ]
  },
  {
   "cell_type": "code",
   "execution_count": 25,
   "id": "75190948",
   "metadata": {},
   "outputs": [
    {
     "data": {
      "text/plain": [
       "array([4, 4, 4, 4, 4, 4, 4, 4, 4, 4, 4, 0, 0, 0, 0, 0, 0, 0, 0, 0, 0, 0,\n",
       "       0, 0, 0, 0, 0, 0, 0, 0, 0, 0, 0, 0, 0, 0, 1, 0, 0, 0, 0, 4, 4, 4,\n",
       "       4, 4, 4, 4, 4, 4, 4, 4, 1, 1, 0, 0, 0, 0, 1, 1, 0, 0, 0, 0, 1, 0,\n",
       "       0, 0, 1, 1, 0, 3, 3, 3, 3, 3, 3, 3, 3, 3, 3, 3, 3, 3, 3, 5, 2, 5,\n",
       "       5, 5, 5, 5, 2, 2, 2, 2, 2, 2, 2, 2, 2, 2, 2, 2, 2, 2, 2, 2, 2, 2,\n",
       "       1, 2, 2, 2, 1, 2, 2, 2, 2, 1, 1, 1, 2, 2, 2, 1, 1, 2, 2, 2, 2, 1,\n",
       "       2, 1, 2, 2, 2, 2, 1, 1, 1, 2, 2, 1, 1, 1, 1, 1, 1, 1, 1])"
      ]
     },
     "execution_count": 25,
     "metadata": {},
     "output_type": "execute_result"
    }
   ],
   "source": [
    "#K-means asigna etiquetas a los clusters en modo random, por lo que no coincidiran con las de la variable \"type\" original\n",
    "\n",
    "kmeans.labels_"
   ]
  },
  {
   "cell_type": "code",
   "execution_count": 26,
   "id": "399d7e5e",
   "metadata": {},
   "outputs": [
    {
     "data": {
      "text/plain": [
       "array([[0.64925737, 0.54472916, 0.47167584, ..., 0.25325658, 0.35620743,\n",
       "        0.32581771],\n",
       "       [0.76262952, 0.39558627, 0.41724153, ..., 0.33415187, 0.47736886,\n",
       "        0.49048054],\n",
       "       [0.74605402, 0.34915949, 0.41799779, ..., 0.31007182, 0.30902739,\n",
       "        0.45630339],\n",
       "       [0.5754404 , 0.78293211, 0.14515604, ..., 0.53618378, 0.63134044,\n",
       "        0.63768019],\n",
       "       [0.5850803 , 0.54594041, 0.46764422, ..., 0.28333872, 0.28394907,\n",
       "        0.55117657],\n",
       "       [0.64447427, 0.12730825, 0.20190925, ..., 0.27235361, 0.2472204 ,\n",
       "        0.50172563]])"
      ]
     },
     "execution_count": 26,
     "metadata": {},
     "output_type": "execute_result"
    }
   ],
   "source": [
    "#.cluster_centers_ devuelve el centroide de cada cluster\n",
    "\n",
    "kmeans.cluster_centers_"
   ]
  },
  {
   "cell_type": "code",
   "execution_count": 27,
   "id": "7187c955",
   "metadata": {},
   "outputs": [
    {
     "data": {
      "text/plain": [
       "185906.1317261883"
      ]
     },
     "execution_count": 27,
     "metadata": {},
     "output_type": "execute_result"
    }
   ],
   "source": [
    "# .inertia_  representa la suma de las distancias al cuadrado de cada punto de datos al centroide más cercano.\n",
    "\n",
    "kmeans.inertia_"
   ]
  },
  {
   "cell_type": "code",
   "execution_count": 28,
   "id": "f5cc7f26",
   "metadata": {},
   "outputs": [
    {
     "data": {
      "text/html": [
       "<div>\n",
       "<style scoped>\n",
       "    .dataframe tbody tr th:only-of-type {\n",
       "        vertical-align: middle;\n",
       "    }\n",
       "\n",
       "    .dataframe tbody tr th {\n",
       "        vertical-align: top;\n",
       "    }\n",
       "\n",
       "    .dataframe thead th {\n",
       "        text-align: right;\n",
       "    }\n",
       "</style>\n",
       "<table border=\"1\" class=\"dataframe\">\n",
       "  <thead>\n",
       "    <tr style=\"text-align: right;\">\n",
       "      <th></th>\n",
       "      <th>type</th>\n",
       "      <th>cluster</th>\n",
       "      <th>distancia</th>\n",
       "    </tr>\n",
       "  </thead>\n",
       "  <tbody>\n",
       "    <tr>\n",
       "      <th>15</th>\n",
       "      <td>2</td>\n",
       "      <td>3</td>\n",
       "      <td>0.000000</td>\n",
       "    </tr>\n",
       "    <tr>\n",
       "      <th>23</th>\n",
       "      <td>3</td>\n",
       "      <td>5</td>\n",
       "      <td>16.532774</td>\n",
       "    </tr>\n",
       "    <tr>\n",
       "      <th>26</th>\n",
       "      <td>4</td>\n",
       "      <td>2</td>\n",
       "      <td>27.388560</td>\n",
       "    </tr>\n",
       "    <tr>\n",
       "      <th>0</th>\n",
       "      <td>0</td>\n",
       "      <td>0</td>\n",
       "      <td>32.823023</td>\n",
       "    </tr>\n",
       "    <tr>\n",
       "      <th>31</th>\n",
       "      <td>5</td>\n",
       "      <td>1</td>\n",
       "      <td>36.729476</td>\n",
       "    </tr>\n",
       "    <tr>\n",
       "      <th>32</th>\n",
       "      <td>5</td>\n",
       "      <td>2</td>\n",
       "      <td>47.712561</td>\n",
       "    </tr>\n",
       "    <tr>\n",
       "      <th>6</th>\n",
       "      <td>1</td>\n",
       "      <td>0</td>\n",
       "      <td>65.424607</td>\n",
       "    </tr>\n",
       "    <tr>\n",
       "      <th>10</th>\n",
       "      <td>1</td>\n",
       "      <td>4</td>\n",
       "      <td>69.851762</td>\n",
       "    </tr>\n",
       "    <tr>\n",
       "      <th>4</th>\n",
       "      <td>0</td>\n",
       "      <td>4</td>\n",
       "      <td>70.029494</td>\n",
       "    </tr>\n",
       "    <tr>\n",
       "      <th>25</th>\n",
       "      <td>4</td>\n",
       "      <td>1</td>\n",
       "      <td>70.172901</td>\n",
       "    </tr>\n",
       "    <tr>\n",
       "      <th>7</th>\n",
       "      <td>1</td>\n",
       "      <td>1</td>\n",
       "      <td>99.338560</td>\n",
       "    </tr>\n",
       "    <tr>\n",
       "      <th>8</th>\n",
       "      <td>1</td>\n",
       "      <td>2</td>\n",
       "      <td>121.627895</td>\n",
       "    </tr>\n",
       "    <tr>\n",
       "      <th>30</th>\n",
       "      <td>5</td>\n",
       "      <td>0</td>\n",
       "      <td>127.438636</td>\n",
       "    </tr>\n",
       "    <tr>\n",
       "      <th>1</th>\n",
       "      <td>0</td>\n",
       "      <td>1</td>\n",
       "      <td>130.844748</td>\n",
       "    </tr>\n",
       "    <tr>\n",
       "      <th>24</th>\n",
       "      <td>4</td>\n",
       "      <td>0</td>\n",
       "      <td>143.348945</td>\n",
       "    </tr>\n",
       "    <tr>\n",
       "      <th>20</th>\n",
       "      <td>3</td>\n",
       "      <td>2</td>\n",
       "      <td>148.007945</td>\n",
       "    </tr>\n",
       "    <tr>\n",
       "      <th>2</th>\n",
       "      <td>0</td>\n",
       "      <td>2</td>\n",
       "      <td>148.962872</td>\n",
       "    </tr>\n",
       "    <tr>\n",
       "      <th>19</th>\n",
       "      <td>3</td>\n",
       "      <td>1</td>\n",
       "      <td>150.283919</td>\n",
       "    </tr>\n",
       "    <tr>\n",
       "      <th>29</th>\n",
       "      <td>4</td>\n",
       "      <td>5</td>\n",
       "      <td>152.338168</td>\n",
       "    </tr>\n",
       "    <tr>\n",
       "      <th>34</th>\n",
       "      <td>5</td>\n",
       "      <td>4</td>\n",
       "      <td>157.483241</td>\n",
       "    </tr>\n",
       "    <tr>\n",
       "      <th>35</th>\n",
       "      <td>5</td>\n",
       "      <td>5</td>\n",
       "      <td>164.020926</td>\n",
       "    </tr>\n",
       "    <tr>\n",
       "      <th>3</th>\n",
       "      <td>0</td>\n",
       "      <td>3</td>\n",
       "      <td>164.885637</td>\n",
       "    </tr>\n",
       "    <tr>\n",
       "      <th>12</th>\n",
       "      <td>2</td>\n",
       "      <td>0</td>\n",
       "      <td>168.730567</td>\n",
       "    </tr>\n",
       "    <tr>\n",
       "      <th>28</th>\n",
       "      <td>4</td>\n",
       "      <td>4</td>\n",
       "      <td>172.871142</td>\n",
       "    </tr>\n",
       "    <tr>\n",
       "      <th>13</th>\n",
       "      <td>2</td>\n",
       "      <td>1</td>\n",
       "      <td>177.313201</td>\n",
       "    </tr>\n",
       "    <tr>\n",
       "      <th>9</th>\n",
       "      <td>1</td>\n",
       "      <td>3</td>\n",
       "      <td>179.228449</td>\n",
       "    </tr>\n",
       "    <tr>\n",
       "      <th>16</th>\n",
       "      <td>2</td>\n",
       "      <td>4</td>\n",
       "      <td>179.252526</td>\n",
       "    </tr>\n",
       "    <tr>\n",
       "      <th>18</th>\n",
       "      <td>3</td>\n",
       "      <td>0</td>\n",
       "      <td>179.907321</td>\n",
       "    </tr>\n",
       "    <tr>\n",
       "      <th>33</th>\n",
       "      <td>5</td>\n",
       "      <td>3</td>\n",
       "      <td>185.801519</td>\n",
       "    </tr>\n",
       "    <tr>\n",
       "      <th>11</th>\n",
       "      <td>1</td>\n",
       "      <td>5</td>\n",
       "      <td>189.460890</td>\n",
       "    </tr>\n",
       "    <tr>\n",
       "      <th>5</th>\n",
       "      <td>0</td>\n",
       "      <td>5</td>\n",
       "      <td>197.048177</td>\n",
       "    </tr>\n",
       "    <tr>\n",
       "      <th>14</th>\n",
       "      <td>2</td>\n",
       "      <td>2</td>\n",
       "      <td>198.422859</td>\n",
       "    </tr>\n",
       "    <tr>\n",
       "      <th>27</th>\n",
       "      <td>4</td>\n",
       "      <td>3</td>\n",
       "      <td>207.508233</td>\n",
       "    </tr>\n",
       "    <tr>\n",
       "      <th>22</th>\n",
       "      <td>3</td>\n",
       "      <td>4</td>\n",
       "      <td>214.154177</td>\n",
       "    </tr>\n",
       "    <tr>\n",
       "      <th>21</th>\n",
       "      <td>3</td>\n",
       "      <td>3</td>\n",
       "      <td>229.629695</td>\n",
       "    </tr>\n",
       "    <tr>\n",
       "      <th>17</th>\n",
       "      <td>2</td>\n",
       "      <td>5</td>\n",
       "      <td>231.269985</td>\n",
       "    </tr>\n",
       "  </tbody>\n",
       "</table>\n",
       "</div>"
      ],
      "text/plain": [
       "    type  cluster   distancia\n",
       "15     2        3    0.000000\n",
       "23     3        5   16.532774\n",
       "26     4        2   27.388560\n",
       "0      0        0   32.823023\n",
       "31     5        1   36.729476\n",
       "32     5        2   47.712561\n",
       "6      1        0   65.424607\n",
       "10     1        4   69.851762\n",
       "4      0        4   70.029494\n",
       "25     4        1   70.172901\n",
       "7      1        1   99.338560\n",
       "8      1        2  121.627895\n",
       "30     5        0  127.438636\n",
       "1      0        1  130.844748\n",
       "24     4        0  143.348945\n",
       "20     3        2  148.007945\n",
       "2      0        2  148.962872\n",
       "19     3        1  150.283919\n",
       "29     4        5  152.338168\n",
       "34     5        4  157.483241\n",
       "35     5        5  164.020926\n",
       "3      0        3  164.885637\n",
       "12     2        0  168.730567\n",
       "28     4        4  172.871142\n",
       "13     2        1  177.313201\n",
       "9      1        3  179.228449\n",
       "16     2        4  179.252526\n",
       "18     3        0  179.907321\n",
       "33     5        3  185.801519\n",
       "11     1        5  189.460890\n",
       "5      0        5  197.048177\n",
       "14     2        2  198.422859\n",
       "27     4        3  207.508233\n",
       "22     3        4  214.154177\n",
       "21     3        3  229.629695\n",
       "17     2        5  231.269985"
      ]
     },
     "execution_count": 28,
     "metadata": {},
     "output_type": "execute_result"
    }
   ],
   "source": [
    "# Para permutar las etiquetas y hacer que coincidan con las de la variable \"type\" se calculan las distancias entre puntos de los clusters y puntos de \"type\"\n",
    "\n",
    "def distance_cluster(P1, P2): # Funcion para calcular distancias entre valores de etiquetas de clustering vs valores de etiquetas de clase de la variable \"type\"\n",
    "    \n",
    "    return np.sqrt(np.sum([(x - y)**2 for x, y in zip(P1, P2)])) # Calculo de la distancia euclideana entre puntos\n",
    "                                                                 # Las distancias mas bajas entre cluster y clase real \"type\" corresponderan a las etiquetas correctas para el clustering\n",
    "\n",
    "df[\"cluster\"] = kmeans.labels_ \n",
    "\n",
    "#####################################################################################\n",
    "\n",
    "mean_type = df.drop(\"cluster\", axis = 1).groupby(\"type\", as_index = False).mean() # Calculo de la media agrupando por los valores de \"type\"\n",
    "\n",
    "mean_cluster = df.drop(\"type\", axis = 1).groupby(\"cluster\", as_index = False).mean() # Calculo de la media agrupando por los valores de \"cluster\"\n",
    "\n",
    "#####################################################################################\n",
    "\n",
    "# Se crea DataFrame con los valores de etiquetas \"type\", \"cluster\" y el calculo de distancias entre grupos\n",
    "\n",
    "distancias = list()\n",
    "\n",
    "for t in mean_type[\"type\"]: \n",
    "    for c in mean_cluster[\"cluster\"]:\n",
    "                \n",
    "        d = distance_cluster(mean_type[mean_type[\"type\"] == t].iloc[:, 1:].values, mean_cluster[mean_cluster[\"cluster\"] == c].iloc[:, 1:].values)\n",
    "        \n",
    "        distancias.append([t, c, d])\n",
    "        \n",
    "        \n",
    "df_distancias = pd.DataFrame(data = distancias, columns = [\"type\", \"cluster\", \"distancia\"])\n",
    "\n",
    "#####################################################################################\n",
    "\n",
    "pd.concat([df_distancias[df_distancias[\"type\"] == i].sort_values(by = \"distancia\") for i in range(0, 6)]).sort_values(\"distancia\") # Muestra distancias de menor a mayor entre las etiquetas de cluster y de \"type\"\n",
    "                                                                                                                                   \n",
    "\n"
   ]
  },
  {
   "cell_type": "code",
   "execution_count": 29,
   "id": "ab814fe9",
   "metadata": {},
   "outputs": [
    {
     "data": {
      "application/vnd.plotly.v1+json": {
       "config": {
        "plotlyServerURL": "https://plot.ly"
       },
       "data": [
        {
         "alignmentgroup": "True",
         "hovertemplate": "label=%{x}<br>cat=type<br>count=%{y}<extra></extra>",
         "legendgroup": "basal",
         "marker": {
          "color": "#636efa",
          "pattern": {
           "shape": ""
          }
         },
         "name": "basal",
         "offsetgroup": "basal",
         "orientation": "v",
         "showlegend": true,
         "textposition": "auto",
         "type": "bar",
         "x": [
          "basal"
         ],
         "xaxis": "x",
         "y": [
          41
         ],
         "yaxis": "y"
        },
        {
         "alignmentgroup": "True",
         "hovertemplate": "label=%{x}<br>cat=cluster<br>count=%{y}<extra></extra>",
         "legendgroup": "basal",
         "marker": {
          "color": "#636efa",
          "pattern": {
           "shape": ""
          }
         },
         "name": "basal",
         "offsetgroup": "basal",
         "orientation": "v",
         "showlegend": false,
         "textposition": "auto",
         "type": "bar",
         "x": [
          "basal"
         ],
         "xaxis": "x2",
         "y": [
          41
         ],
         "yaxis": "y2"
        },
        {
         "alignmentgroup": "True",
         "hovertemplate": "label=%{x}<br>cat=type<br>count=%{y}<extra></extra>",
         "legendgroup": "HER",
         "marker": {
          "color": "#EF553B",
          "pattern": {
           "shape": ""
          }
         },
         "name": "HER",
         "offsetgroup": "HER",
         "orientation": "v",
         "showlegend": true,
         "textposition": "auto",
         "type": "bar",
         "x": [
          "HER"
         ],
         "xaxis": "x",
         "y": [
          30
         ],
         "yaxis": "y"
        },
        {
         "alignmentgroup": "True",
         "hovertemplate": "label=%{x}<br>cat=cluster<br>count=%{y}<extra></extra>",
         "legendgroup": "HER",
         "marker": {
          "color": "#EF553B",
          "pattern": {
           "shape": ""
          }
         },
         "name": "HER",
         "offsetgroup": "HER",
         "orientation": "v",
         "showlegend": false,
         "textposition": "auto",
         "type": "bar",
         "x": [
          "HER"
         ],
         "xaxis": "x2",
         "y": [
          22
         ],
         "yaxis": "y2"
        },
        {
         "alignmentgroup": "True",
         "hovertemplate": "label=%{x}<br>cat=type<br>count=%{y}<extra></extra>",
         "legendgroup": "cell_line",
         "marker": {
          "color": "#00cc96",
          "pattern": {
           "shape": ""
          }
         },
         "name": "cell_line",
         "offsetgroup": "cell_line",
         "orientation": "v",
         "showlegend": true,
         "textposition": "auto",
         "type": "bar",
         "x": [
          "cell_line"
         ],
         "xaxis": "x",
         "y": [
          14
         ],
         "yaxis": "y"
        },
        {
         "alignmentgroup": "True",
         "hovertemplate": "label=%{x}<br>cat=cluster<br>count=%{y}<extra></extra>",
         "legendgroup": "cell_line",
         "marker": {
          "color": "#00cc96",
          "pattern": {
           "shape": ""
          }
         },
         "name": "cell_line",
         "offsetgroup": "cell_line",
         "orientation": "v",
         "showlegend": false,
         "textposition": "auto",
         "type": "bar",
         "x": [
          "cell_line"
         ],
         "xaxis": "x2",
         "y": [
          14
         ],
         "yaxis": "y2"
        },
        {
         "alignmentgroup": "True",
         "hovertemplate": "label=%{x}<br>cat=type<br>count=%{y}<extra></extra>",
         "legendgroup": "normal",
         "marker": {
          "color": "#ab63fa",
          "pattern": {
           "shape": ""
          }
         },
         "name": "normal",
         "offsetgroup": "normal",
         "orientation": "v",
         "showlegend": true,
         "textposition": "auto",
         "type": "bar",
         "x": [
          "normal"
         ],
         "xaxis": "x",
         "y": [
          7
         ],
         "yaxis": "y"
        },
        {
         "alignmentgroup": "True",
         "hovertemplate": "label=%{x}<br>cat=cluster<br>count=%{y}<extra></extra>",
         "legendgroup": "normal",
         "marker": {
          "color": "#ab63fa",
          "pattern": {
           "shape": ""
          }
         },
         "name": "normal",
         "offsetgroup": "normal",
         "orientation": "v",
         "showlegend": false,
         "textposition": "auto",
         "type": "bar",
         "x": [
          "normal"
         ],
         "xaxis": "x2",
         "y": [
          6
         ],
         "yaxis": "y2"
        },
        {
         "alignmentgroup": "True",
         "hovertemplate": "label=%{x}<br>cat=type<br>count=%{y}<extra></extra>",
         "legendgroup": "luminal_A",
         "marker": {
          "color": "#FFA15A",
          "pattern": {
           "shape": ""
          }
         },
         "name": "luminal_A",
         "offsetgroup": "luminal_A",
         "orientation": "v",
         "showlegend": true,
         "textposition": "auto",
         "type": "bar",
         "x": [
          "luminal_A"
         ],
         "xaxis": "x",
         "y": [
          29
         ],
         "yaxis": "y"
        },
        {
         "alignmentgroup": "True",
         "hovertemplate": "label=%{x}<br>cat=cluster<br>count=%{y}<extra></extra>",
         "legendgroup": "luminal_A",
         "marker": {
          "color": "#FFA15A",
          "pattern": {
           "shape": ""
          }
         },
         "name": "luminal_A",
         "offsetgroup": "luminal_A",
         "orientation": "v",
         "showlegend": false,
         "textposition": "auto",
         "type": "bar",
         "x": [
          "luminal_A"
         ],
         "xaxis": "x2",
         "y": [
          40
         ],
         "yaxis": "y2"
        },
        {
         "alignmentgroup": "True",
         "hovertemplate": "label=%{x}<br>cat=type<br>count=%{y}<extra></extra>",
         "legendgroup": "luminal_B",
         "marker": {
          "color": "#19d3f3",
          "pattern": {
           "shape": ""
          }
         },
         "name": "luminal_B",
         "offsetgroup": "luminal_B",
         "orientation": "v",
         "showlegend": true,
         "textposition": "auto",
         "type": "bar",
         "x": [
          "luminal_B"
         ],
         "xaxis": "x",
         "y": [
          30
         ],
         "yaxis": "y"
        },
        {
         "alignmentgroup": "True",
         "hovertemplate": "label=%{x}<br>cat=cluster<br>count=%{y}<extra></extra>",
         "legendgroup": "luminal_B",
         "marker": {
          "color": "#19d3f3",
          "pattern": {
           "shape": ""
          }
         },
         "name": "luminal_B",
         "offsetgroup": "luminal_B",
         "orientation": "v",
         "showlegend": false,
         "textposition": "auto",
         "type": "bar",
         "x": [
          "luminal_B"
         ],
         "xaxis": "x2",
         "y": [
          28
         ],
         "yaxis": "y2"
        }
       ],
       "layout": {
        "annotations": [
         {
          "font": {},
          "showarrow": false,
          "text": "cat=type",
          "x": 0.245,
          "xanchor": "center",
          "xref": "paper",
          "y": 1,
          "yanchor": "bottom",
          "yref": "paper"
         },
         {
          "font": {},
          "showarrow": false,
          "text": "cat=cluster",
          "x": 0.755,
          "xanchor": "center",
          "xref": "paper",
          "y": 1,
          "yanchor": "bottom",
          "yref": "paper"
         }
        ],
        "barmode": "relative",
        "legend": {
         "title": {
          "text": "label"
         },
         "tracegroupgap": 0
        },
        "margin": {
         "t": 60
        },
        "template": {
         "data": {
          "bar": [
           {
            "error_x": {
             "color": "#2a3f5f"
            },
            "error_y": {
             "color": "#2a3f5f"
            },
            "marker": {
             "line": {
              "color": "#E5ECF6",
              "width": 0.5
             },
             "pattern": {
              "fillmode": "overlay",
              "size": 10,
              "solidity": 0.2
             }
            },
            "type": "bar"
           }
          ],
          "barpolar": [
           {
            "marker": {
             "line": {
              "color": "#E5ECF6",
              "width": 0.5
             },
             "pattern": {
              "fillmode": "overlay",
              "size": 10,
              "solidity": 0.2
             }
            },
            "type": "barpolar"
           }
          ],
          "carpet": [
           {
            "aaxis": {
             "endlinecolor": "#2a3f5f",
             "gridcolor": "white",
             "linecolor": "white",
             "minorgridcolor": "white",
             "startlinecolor": "#2a3f5f"
            },
            "baxis": {
             "endlinecolor": "#2a3f5f",
             "gridcolor": "white",
             "linecolor": "white",
             "minorgridcolor": "white",
             "startlinecolor": "#2a3f5f"
            },
            "type": "carpet"
           }
          ],
          "choropleth": [
           {
            "colorbar": {
             "outlinewidth": 0,
             "ticks": ""
            },
            "type": "choropleth"
           }
          ],
          "contour": [
           {
            "colorbar": {
             "outlinewidth": 0,
             "ticks": ""
            },
            "colorscale": [
             [
              0,
              "#0d0887"
             ],
             [
              0.1111111111111111,
              "#46039f"
             ],
             [
              0.2222222222222222,
              "#7201a8"
             ],
             [
              0.3333333333333333,
              "#9c179e"
             ],
             [
              0.4444444444444444,
              "#bd3786"
             ],
             [
              0.5555555555555556,
              "#d8576b"
             ],
             [
              0.6666666666666666,
              "#ed7953"
             ],
             [
              0.7777777777777778,
              "#fb9f3a"
             ],
             [
              0.8888888888888888,
              "#fdca26"
             ],
             [
              1,
              "#f0f921"
             ]
            ],
            "type": "contour"
           }
          ],
          "contourcarpet": [
           {
            "colorbar": {
             "outlinewidth": 0,
             "ticks": ""
            },
            "type": "contourcarpet"
           }
          ],
          "heatmap": [
           {
            "colorbar": {
             "outlinewidth": 0,
             "ticks": ""
            },
            "colorscale": [
             [
              0,
              "#0d0887"
             ],
             [
              0.1111111111111111,
              "#46039f"
             ],
             [
              0.2222222222222222,
              "#7201a8"
             ],
             [
              0.3333333333333333,
              "#9c179e"
             ],
             [
              0.4444444444444444,
              "#bd3786"
             ],
             [
              0.5555555555555556,
              "#d8576b"
             ],
             [
              0.6666666666666666,
              "#ed7953"
             ],
             [
              0.7777777777777778,
              "#fb9f3a"
             ],
             [
              0.8888888888888888,
              "#fdca26"
             ],
             [
              1,
              "#f0f921"
             ]
            ],
            "type": "heatmap"
           }
          ],
          "heatmapgl": [
           {
            "colorbar": {
             "outlinewidth": 0,
             "ticks": ""
            },
            "colorscale": [
             [
              0,
              "#0d0887"
             ],
             [
              0.1111111111111111,
              "#46039f"
             ],
             [
              0.2222222222222222,
              "#7201a8"
             ],
             [
              0.3333333333333333,
              "#9c179e"
             ],
             [
              0.4444444444444444,
              "#bd3786"
             ],
             [
              0.5555555555555556,
              "#d8576b"
             ],
             [
              0.6666666666666666,
              "#ed7953"
             ],
             [
              0.7777777777777778,
              "#fb9f3a"
             ],
             [
              0.8888888888888888,
              "#fdca26"
             ],
             [
              1,
              "#f0f921"
             ]
            ],
            "type": "heatmapgl"
           }
          ],
          "histogram": [
           {
            "marker": {
             "pattern": {
              "fillmode": "overlay",
              "size": 10,
              "solidity": 0.2
             }
            },
            "type": "histogram"
           }
          ],
          "histogram2d": [
           {
            "colorbar": {
             "outlinewidth": 0,
             "ticks": ""
            },
            "colorscale": [
             [
              0,
              "#0d0887"
             ],
             [
              0.1111111111111111,
              "#46039f"
             ],
             [
              0.2222222222222222,
              "#7201a8"
             ],
             [
              0.3333333333333333,
              "#9c179e"
             ],
             [
              0.4444444444444444,
              "#bd3786"
             ],
             [
              0.5555555555555556,
              "#d8576b"
             ],
             [
              0.6666666666666666,
              "#ed7953"
             ],
             [
              0.7777777777777778,
              "#fb9f3a"
             ],
             [
              0.8888888888888888,
              "#fdca26"
             ],
             [
              1,
              "#f0f921"
             ]
            ],
            "type": "histogram2d"
           }
          ],
          "histogram2dcontour": [
           {
            "colorbar": {
             "outlinewidth": 0,
             "ticks": ""
            },
            "colorscale": [
             [
              0,
              "#0d0887"
             ],
             [
              0.1111111111111111,
              "#46039f"
             ],
             [
              0.2222222222222222,
              "#7201a8"
             ],
             [
              0.3333333333333333,
              "#9c179e"
             ],
             [
              0.4444444444444444,
              "#bd3786"
             ],
             [
              0.5555555555555556,
              "#d8576b"
             ],
             [
              0.6666666666666666,
              "#ed7953"
             ],
             [
              0.7777777777777778,
              "#fb9f3a"
             ],
             [
              0.8888888888888888,
              "#fdca26"
             ],
             [
              1,
              "#f0f921"
             ]
            ],
            "type": "histogram2dcontour"
           }
          ],
          "mesh3d": [
           {
            "colorbar": {
             "outlinewidth": 0,
             "ticks": ""
            },
            "type": "mesh3d"
           }
          ],
          "parcoords": [
           {
            "line": {
             "colorbar": {
              "outlinewidth": 0,
              "ticks": ""
             }
            },
            "type": "parcoords"
           }
          ],
          "pie": [
           {
            "automargin": true,
            "type": "pie"
           }
          ],
          "scatter": [
           {
            "fillpattern": {
             "fillmode": "overlay",
             "size": 10,
             "solidity": 0.2
            },
            "type": "scatter"
           }
          ],
          "scatter3d": [
           {
            "line": {
             "colorbar": {
              "outlinewidth": 0,
              "ticks": ""
             }
            },
            "marker": {
             "colorbar": {
              "outlinewidth": 0,
              "ticks": ""
             }
            },
            "type": "scatter3d"
           }
          ],
          "scattercarpet": [
           {
            "marker": {
             "colorbar": {
              "outlinewidth": 0,
              "ticks": ""
             }
            },
            "type": "scattercarpet"
           }
          ],
          "scattergeo": [
           {
            "marker": {
             "colorbar": {
              "outlinewidth": 0,
              "ticks": ""
             }
            },
            "type": "scattergeo"
           }
          ],
          "scattergl": [
           {
            "marker": {
             "colorbar": {
              "outlinewidth": 0,
              "ticks": ""
             }
            },
            "type": "scattergl"
           }
          ],
          "scattermapbox": [
           {
            "marker": {
             "colorbar": {
              "outlinewidth": 0,
              "ticks": ""
             }
            },
            "type": "scattermapbox"
           }
          ],
          "scatterpolar": [
           {
            "marker": {
             "colorbar": {
              "outlinewidth": 0,
              "ticks": ""
             }
            },
            "type": "scatterpolar"
           }
          ],
          "scatterpolargl": [
           {
            "marker": {
             "colorbar": {
              "outlinewidth": 0,
              "ticks": ""
             }
            },
            "type": "scatterpolargl"
           }
          ],
          "scatterternary": [
           {
            "marker": {
             "colorbar": {
              "outlinewidth": 0,
              "ticks": ""
             }
            },
            "type": "scatterternary"
           }
          ],
          "surface": [
           {
            "colorbar": {
             "outlinewidth": 0,
             "ticks": ""
            },
            "colorscale": [
             [
              0,
              "#0d0887"
             ],
             [
              0.1111111111111111,
              "#46039f"
             ],
             [
              0.2222222222222222,
              "#7201a8"
             ],
             [
              0.3333333333333333,
              "#9c179e"
             ],
             [
              0.4444444444444444,
              "#bd3786"
             ],
             [
              0.5555555555555556,
              "#d8576b"
             ],
             [
              0.6666666666666666,
              "#ed7953"
             ],
             [
              0.7777777777777778,
              "#fb9f3a"
             ],
             [
              0.8888888888888888,
              "#fdca26"
             ],
             [
              1,
              "#f0f921"
             ]
            ],
            "type": "surface"
           }
          ],
          "table": [
           {
            "cells": {
             "fill": {
              "color": "#EBF0F8"
             },
             "line": {
              "color": "white"
             }
            },
            "header": {
             "fill": {
              "color": "#C8D4E3"
             },
             "line": {
              "color": "white"
             }
            },
            "type": "table"
           }
          ]
         },
         "layout": {
          "annotationdefaults": {
           "arrowcolor": "#2a3f5f",
           "arrowhead": 0,
           "arrowwidth": 1
          },
          "autotypenumbers": "strict",
          "coloraxis": {
           "colorbar": {
            "outlinewidth": 0,
            "ticks": ""
           }
          },
          "colorscale": {
           "diverging": [
            [
             0,
             "#8e0152"
            ],
            [
             0.1,
             "#c51b7d"
            ],
            [
             0.2,
             "#de77ae"
            ],
            [
             0.3,
             "#f1b6da"
            ],
            [
             0.4,
             "#fde0ef"
            ],
            [
             0.5,
             "#f7f7f7"
            ],
            [
             0.6,
             "#e6f5d0"
            ],
            [
             0.7,
             "#b8e186"
            ],
            [
             0.8,
             "#7fbc41"
            ],
            [
             0.9,
             "#4d9221"
            ],
            [
             1,
             "#276419"
            ]
           ],
           "sequential": [
            [
             0,
             "#0d0887"
            ],
            [
             0.1111111111111111,
             "#46039f"
            ],
            [
             0.2222222222222222,
             "#7201a8"
            ],
            [
             0.3333333333333333,
             "#9c179e"
            ],
            [
             0.4444444444444444,
             "#bd3786"
            ],
            [
             0.5555555555555556,
             "#d8576b"
            ],
            [
             0.6666666666666666,
             "#ed7953"
            ],
            [
             0.7777777777777778,
             "#fb9f3a"
            ],
            [
             0.8888888888888888,
             "#fdca26"
            ],
            [
             1,
             "#f0f921"
            ]
           ],
           "sequentialminus": [
            [
             0,
             "#0d0887"
            ],
            [
             0.1111111111111111,
             "#46039f"
            ],
            [
             0.2222222222222222,
             "#7201a8"
            ],
            [
             0.3333333333333333,
             "#9c179e"
            ],
            [
             0.4444444444444444,
             "#bd3786"
            ],
            [
             0.5555555555555556,
             "#d8576b"
            ],
            [
             0.6666666666666666,
             "#ed7953"
            ],
            [
             0.7777777777777778,
             "#fb9f3a"
            ],
            [
             0.8888888888888888,
             "#fdca26"
            ],
            [
             1,
             "#f0f921"
            ]
           ]
          },
          "colorway": [
           "#636efa",
           "#EF553B",
           "#00cc96",
           "#ab63fa",
           "#FFA15A",
           "#19d3f3",
           "#FF6692",
           "#B6E880",
           "#FF97FF",
           "#FECB52"
          ],
          "font": {
           "color": "#2a3f5f"
          },
          "geo": {
           "bgcolor": "white",
           "lakecolor": "white",
           "landcolor": "#E5ECF6",
           "showlakes": true,
           "showland": true,
           "subunitcolor": "white"
          },
          "hoverlabel": {
           "align": "left"
          },
          "hovermode": "closest",
          "mapbox": {
           "style": "light"
          },
          "paper_bgcolor": "white",
          "plot_bgcolor": "#E5ECF6",
          "polar": {
           "angularaxis": {
            "gridcolor": "white",
            "linecolor": "white",
            "ticks": ""
           },
           "bgcolor": "#E5ECF6",
           "radialaxis": {
            "gridcolor": "white",
            "linecolor": "white",
            "ticks": ""
           }
          },
          "scene": {
           "xaxis": {
            "backgroundcolor": "#E5ECF6",
            "gridcolor": "white",
            "gridwidth": 2,
            "linecolor": "white",
            "showbackground": true,
            "ticks": "",
            "zerolinecolor": "white"
           },
           "yaxis": {
            "backgroundcolor": "#E5ECF6",
            "gridcolor": "white",
            "gridwidth": 2,
            "linecolor": "white",
            "showbackground": true,
            "ticks": "",
            "zerolinecolor": "white"
           },
           "zaxis": {
            "backgroundcolor": "#E5ECF6",
            "gridcolor": "white",
            "gridwidth": 2,
            "linecolor": "white",
            "showbackground": true,
            "ticks": "",
            "zerolinecolor": "white"
           }
          },
          "shapedefaults": {
           "line": {
            "color": "#2a3f5f"
           }
          },
          "ternary": {
           "aaxis": {
            "gridcolor": "white",
            "linecolor": "white",
            "ticks": ""
           },
           "baxis": {
            "gridcolor": "white",
            "linecolor": "white",
            "ticks": ""
           },
           "bgcolor": "#E5ECF6",
           "caxis": {
            "gridcolor": "white",
            "linecolor": "white",
            "ticks": ""
           }
          },
          "title": {
           "x": 0.05
          },
          "xaxis": {
           "automargin": true,
           "gridcolor": "white",
           "linecolor": "white",
           "ticks": "",
           "title": {
            "standoff": 15
           },
           "zerolinecolor": "white",
           "zerolinewidth": 2
          },
          "yaxis": {
           "automargin": true,
           "gridcolor": "white",
           "linecolor": "white",
           "ticks": "",
           "title": {
            "standoff": 15
           },
           "zerolinecolor": "white",
           "zerolinewidth": 2
          }
         }
        },
        "xaxis": {
         "anchor": "y",
         "categoryarray": [
          "basal",
          "HER",
          "cell_line",
          "normal",
          "luminal_A",
          "luminal_B"
         ],
         "categoryorder": "array",
         "domain": [
          0,
          0.49
         ],
         "title": {
          "text": "label"
         }
        },
        "xaxis2": {
         "anchor": "y2",
         "categoryarray": [
          "basal",
          "HER",
          "cell_line",
          "normal",
          "luminal_A",
          "luminal_B"
         ],
         "categoryorder": "array",
         "domain": [
          0.51,
          1
         ],
         "matches": "x",
         "title": {
          "text": "label"
         }
        },
        "yaxis": {
         "anchor": "x",
         "domain": [
          0,
          1
         ],
         "title": {
          "text": "count"
         }
        },
        "yaxis2": {
         "anchor": "x2",
         "domain": [
          0,
          1
         ],
         "matches": "y",
         "showticklabels": false
        }
       }
      }
     },
     "metadata": {},
     "output_type": "display_data"
    }
   ],
   "source": [
    "#Codigo para reasignar la etiqueta de clustering a la etiqueta mas correcta de la variable type en base a las distancias calculadas anteriormente\n",
    "\n",
    "map_cluster = {0 : 0, #Que valor de cluster corresponde a que valor de \"type\" en base a distancia minima\n",
    "               1 : 5,\n",
    "               2 : 4,\n",
    "               3 : 2,\n",
    "               4 : 1,\n",
    "               5 : 3}\n",
    "\n",
    "dict_type2 = {v : k for k, v in dict_type.items()}\n",
    "\n",
    "df[\"cluster\"] = df[\"cluster\"].apply(lambda x : map_cluster[x]) # Reasignar etiquetas a los clusters en base al mapeo anterior\n",
    "\n",
    "############################################################################################\n",
    "\n",
    "df_1 = pd.DataFrame(df.value_counts([\"type\"])).reset_index()  # df1 con conteos de variable \"type\"\n",
    "\n",
    "df_1.columns = [\"label\", \"count\"]\n",
    "\n",
    "df_1[\"cat\"] = \"type\"\n",
    "\n",
    "df_2 = pd.DataFrame(df.value_counts([\"cluster\"])).reset_index()   # df2 con conteos de variable \"cluster\"\n",
    "\n",
    "df_2.columns = [\"label\", \"count\"]\n",
    "\n",
    "df_2[\"cat\"] = \"cluster\"\n",
    "\n",
    "df_final_cluster = pd.concat([df_1, df_2])  # Union de los dos dfs\n",
    "\n",
    "#############################################################################################\n",
    "\n",
    "# grafico de representacion de conteo de la variable type comparando con el conteo de los clusters reetiquetados por distancia\n",
    "\n",
    "df_final_cluster = df_final_cluster.sort_values(\"label\")\n",
    "\n",
    "df_final_cluster[\"label\"] = df_final_cluster[\"label\"].apply(lambda x : dict_type2[x])\n",
    "\n",
    "# df_final_cluster[\"label\"] = df_final_cluster[\"label\"].astype(\"str\")\n",
    "\n",
    "px.bar(data_frame = df_final_cluster, x = \"label\", y = \"count\", color = \"label\", facet_col = \"cat\", ) # Graficar conteos de las etiquetas de clustering y variable \"type\" original\n"
   ]
  },
  {
   "cell_type": "markdown",
   "id": "1debf76e",
   "metadata": {},
   "source": [
    " **Confusion Matrix**: sirve para evaluar la precisión de una clasificación"
   ]
  },
  {
   "cell_type": "code",
   "execution_count": 30,
   "id": "21cfb315",
   "metadata": {},
   "outputs": [
    {
     "data": {
      "text/plain": [
       "array([[29, 11,  0,  0,  0,  1],\n",
       "       [12, 11,  0,  0,  0,  7],\n",
       "       [ 0,  0, 14,  0,  0,  0],\n",
       "       [ 0,  0,  0,  6,  1,  0],\n",
       "       [ 0,  0,  0,  0, 25,  4],\n",
       "       [ 0,  0,  0,  0, 14, 16]], dtype=int64)"
      ]
     },
     "execution_count": 30,
     "metadata": {},
     "output_type": "execute_result"
    }
   ],
   "source": [
    "#Matriz de confusion entre prediccion de clustering y variable \"type\" original\n",
    "\n",
    "confusion_matrix(df[\"type\"], df[\"cluster\"])"
   ]
  },
  {
   "cell_type": "code",
   "execution_count": 37,
   "id": "120b01fe",
   "metadata": {},
   "outputs": [
    {
     "data": {
      "image/png": "[encoded data removed]",
      "text/plain": [
       "<Figure size 640x480 with 2 Axes>"
      ]
     },
     "metadata": {},
     "output_type": "display_data"
    }
   ],
   "source": [
    "#Representacion de la confusion matrix en un mapa de calor\n",
    "\n",
    "conf_matrix = metrics.confusion_matrix(df[\"type\"], df[\"cluster\"])\n",
    "sns.heatmap(conf_matrix, annot = True)\n",
    "plt.xlabel(\"Predicciones\")\n",
    "plt.ylabel(\"Reales\")\n",
    "plt.show()"
   ]
  },
  {
   "cell_type": "markdown",
   "id": "1c4fd726",
   "metadata": {},
   "source": [
    " **Accuracy**: de la prediccion por clustering con respecto a los datos reales"
   ]
  },
  {
   "cell_type": "code",
   "execution_count": 33,
   "id": "a203c412",
   "metadata": {},
   "outputs": [
    {
     "data": {
      "text/plain": [
       "0.6688741721854304"
      ]
     },
     "execution_count": 33,
     "metadata": {},
     "output_type": "execute_result"
    }
   ],
   "source": [
    "accuracy_score(df[\"type\"], df[\"cluster\"])"
   ]
  },
  {
   "cell_type": "markdown",
   "id": "64127c5a",
   "metadata": {},
   "source": [
    " **Metodo del codo**: es una técnica utilizada en clustering (agrupamiento) para encontrar el número óptimo de clusters (grupos) en un conjunto de datos. "
   ]
  },
  {
   "cell_type": "code",
   "execution_count": 35,
   "id": "899f9d7d",
   "metadata": {},
   "outputs": [
    {
     "name": "stderr",
     "output_type": "stream",
     "text": [
      "c:\\Users\\mary_\\anaconda3\\Lib\\site-packages\\sklearn\\cluster\\_kmeans.py:870: FutureWarning:\n",
      "\n",
      "The default value of `n_init` will change from 10 to 'auto' in 1.4. Set the value of `n_init` explicitly to suppress the warning\n",
      "\n",
      "c:\\Users\\mary_\\anaconda3\\Lib\\site-packages\\sklearn\\cluster\\_kmeans.py:1382: UserWarning:\n",
      "\n",
      "KMeans is known to have a memory leak on Windows with MKL, when there are less chunks than available threads. You can avoid it by setting the environment variable OMP_NUM_THREADS=1.\n",
      "\n",
      "c:\\Users\\mary_\\anaconda3\\Lib\\site-packages\\sklearn\\cluster\\_kmeans.py:870: FutureWarning:\n",
      "\n",
      "The default value of `n_init` will change from 10 to 'auto' in 1.4. Set the value of `n_init` explicitly to suppress the warning\n",
      "\n",
      "c:\\Users\\mary_\\anaconda3\\Lib\\site-packages\\sklearn\\cluster\\_kmeans.py:1382: UserWarning:\n",
      "\n",
      "KMeans is known to have a memory leak on Windows with MKL, when there are less chunks than available threads. You can avoid it by setting the environment variable OMP_NUM_THREADS=1.\n",
      "\n",
      "c:\\Users\\mary_\\anaconda3\\Lib\\site-packages\\sklearn\\cluster\\_kmeans.py:870: FutureWarning:\n",
      "\n",
      "The default value of `n_init` will change from 10 to 'auto' in 1.4. Set the value of `n_init` explicitly to suppress the warning\n",
      "\n",
      "c:\\Users\\mary_\\anaconda3\\Lib\\site-packages\\sklearn\\cluster\\_kmeans.py:1382: UserWarning:\n",
      "\n",
      "KMeans is known to have a memory leak on Windows with MKL, when there are less chunks than available threads. You can avoid it by setting the environment variable OMP_NUM_THREADS=1.\n",
      "\n",
      "c:\\Users\\mary_\\anaconda3\\Lib\\site-packages\\sklearn\\cluster\\_kmeans.py:870: FutureWarning:\n",
      "\n",
      "The default value of `n_init` will change from 10 to 'auto' in 1.4. Set the value of `n_init` explicitly to suppress the warning\n",
      "\n",
      "c:\\Users\\mary_\\anaconda3\\Lib\\site-packages\\sklearn\\cluster\\_kmeans.py:1382: UserWarning:\n",
      "\n",
      "KMeans is known to have a memory leak on Windows with MKL, when there are less chunks than available threads. You can avoid it by setting the environment variable OMP_NUM_THREADS=1.\n",
      "\n",
      "c:\\Users\\mary_\\anaconda3\\Lib\\site-packages\\sklearn\\cluster\\_kmeans.py:870: FutureWarning:\n",
      "\n",
      "The default value of `n_init` will change from 10 to 'auto' in 1.4. Set the value of `n_init` explicitly to suppress the warning\n",
      "\n",
      "c:\\Users\\mary_\\anaconda3\\Lib\\site-packages\\sklearn\\cluster\\_kmeans.py:1382: UserWarning:\n",
      "\n",
      "KMeans is known to have a memory leak on Windows with MKL, when there are less chunks than available threads. You can avoid it by setting the environment variable OMP_NUM_THREADS=1.\n",
      "\n",
      "c:\\Users\\mary_\\anaconda3\\Lib\\site-packages\\sklearn\\cluster\\_kmeans.py:870: FutureWarning:\n",
      "\n",
      "The default value of `n_init` will change from 10 to 'auto' in 1.4. Set the value of `n_init` explicitly to suppress the warning\n",
      "\n",
      "c:\\Users\\mary_\\anaconda3\\Lib\\site-packages\\sklearn\\cluster\\_kmeans.py:1382: UserWarning:\n",
      "\n",
      "KMeans is known to have a memory leak on Windows with MKL, when there are less chunks than available threads. You can avoid it by setting the environment variable OMP_NUM_THREADS=1.\n",
      "\n",
      "c:\\Users\\mary_\\anaconda3\\Lib\\site-packages\\sklearn\\cluster\\_kmeans.py:870: FutureWarning:\n",
      "\n",
      "The default value of `n_init` will change from 10 to 'auto' in 1.4. Set the value of `n_init` explicitly to suppress the warning\n",
      "\n",
      "c:\\Users\\mary_\\anaconda3\\Lib\\site-packages\\sklearn\\cluster\\_kmeans.py:1382: UserWarning:\n",
      "\n",
      "KMeans is known to have a memory leak on Windows with MKL, when there are less chunks than available threads. You can avoid it by setting the environment variable OMP_NUM_THREADS=1.\n",
      "\n",
      "c:\\Users\\mary_\\anaconda3\\Lib\\site-packages\\sklearn\\cluster\\_kmeans.py:870: FutureWarning:\n",
      "\n",
      "The default value of `n_init` will change from 10 to 'auto' in 1.4. Set the value of `n_init` explicitly to suppress the warning\n",
      "\n",
      "c:\\Users\\mary_\\anaconda3\\Lib\\site-packages\\sklearn\\cluster\\_kmeans.py:1382: UserWarning:\n",
      "\n",
      "KMeans is known to have a memory leak on Windows with MKL, when there are less chunks than available threads. You can avoid it by setting the environment variable OMP_NUM_THREADS=1.\n",
      "\n",
      "c:\\Users\\mary_\\anaconda3\\Lib\\site-packages\\sklearn\\cluster\\_kmeans.py:870: FutureWarning:\n",
      "\n",
      "The default value of `n_init` will change from 10 to 'auto' in 1.4. Set the value of `n_init` explicitly to suppress the warning\n",
      "\n",
      "c:\\Users\\mary_\\anaconda3\\Lib\\site-packages\\sklearn\\cluster\\_kmeans.py:1382: UserWarning:\n",
      "\n",
      "KMeans is known to have a memory leak on Windows with MKL, when there are less chunks than available threads. You can avoid it by setting the environment variable OMP_NUM_THREADS=1.\n",
      "\n",
      "c:\\Users\\mary_\\anaconda3\\Lib\\site-packages\\sklearn\\cluster\\_kmeans.py:870: FutureWarning:\n",
      "\n",
      "The default value of `n_init` will change from 10 to 'auto' in 1.4. Set the value of `n_init` explicitly to suppress the warning\n",
      "\n",
      "c:\\Users\\mary_\\anaconda3\\Lib\\site-packages\\sklearn\\cluster\\_kmeans.py:1382: UserWarning:\n",
      "\n",
      "KMeans is known to have a memory leak on Windows with MKL, when there are less chunks than available threads. You can avoid it by setting the environment variable OMP_NUM_THREADS=1.\n",
      "\n"
     ]
    },
    {
     "data": {
      "text/plain": [
       "[233078.04743710964,\n",
       " 212742.21885716298,\n",
       " 201890.3736673894,\n",
       " 191629.7443969137,\n",
       " 185906.1317261883,\n",
       " 181814.41617765036,\n",
       " 179342.25133107763,\n",
       " 174286.233179671,\n",
       " 172665.103199616,\n",
       " 171495.9586438253]"
      ]
     },
     "execution_count": 35,
     "metadata": {},
     "output_type": "execute_result"
    }
   ],
   "source": [
    "#El objetivo es determinar el número de clusters optimo \n",
    "#Se obtienen  Inercias, Shilouette para los k´s\n",
    "\n",
    "inercias = list() \n",
    "\n",
    "sil_score = list()\n",
    "\n",
    "\n",
    "for k in range(2, 12): \n",
    "    \n",
    "    kmeans = KMeans(n_clusters = k, random_state = 42)\n",
    "    kmeans.fit(X)    \n",
    "    \n",
    "    inercias.append(kmeans.inertia_) \n",
    "    sil_score.append(silhouette_score(X, kmeans.labels_))\n",
    "    \n",
    "    \n",
    "inercias # El método del codo se basa en inercias (suma de las distancias al cuadrado de los puntos de datos al centroide de su cluster)  \n",
    "         # Se calcula la inercia  para diferentes valores de k (número de clusters)."
   ]
  },
  {
   "cell_type": "code",
   "execution_count": 36,
   "id": "3c4c34be",
   "metadata": {},
   "outputs": [
    {
     "data": {
      "image/png": "[encoded data removed]",
      "text/plain": [
       "<Figure size 1000x800 with 1 Axes>"
      ]
     },
     "metadata": {},
     "output_type": "display_data"
    }
   ],
   "source": [
    "# Grafica para representar metodo del codo con las inercias para distintos K´s [2-11]\n",
    "\n",
    "plt.figure(figsize = (10, 8))\n",
    "\n",
    "plt.plot(range(2, len(inercias) + 2), inercias, marker = \"x\", color = \"blue\")\n",
    "\n",
    "plt.xlabel(\"K's\") \n",
    "plt.ylabel(\"Inercia\") \n",
    "\n",
    "plt.grid()\n",
    "plt.show()"
   ]
  },
  {
   "cell_type": "code",
   "execution_count": null,
   "id": "37a76111",
   "metadata": {},
   "outputs": [
    {
     "data": {
      "text/plain": [
       "[233078.04743710964,\n",
       " 212742.21885716298,\n",
       " 201890.3736673894,\n",
       " 191629.7443969137,\n",
       " 185906.1317261883,\n",
       " 181814.41617765036,\n",
       " 179342.25133107763,\n",
       " 174286.233179671,\n",
       " 172665.103199616,\n",
       " 171495.9586438253]"
      ]
     },
     "execution_count": 553,
     "metadata": {},
     "output_type": "execute_result"
    }
   ],
   "source": [
    "# El numero \"idoneo\" de clusters es 6. No seria descartable 5 o incluso 7\n",
    "\n",
    "inercias #Inercia aparentemente alta: los clusters no estan bien compactados (alta dispersion de los puntos en su cluster)"
   ]
  },
  {
   "cell_type": "markdown",
   "id": "cda291e6",
   "metadata": {},
   "source": [
    "**Silhouette_score**:\n",
    "- es una métrica de evaluación de la calidad de un clustering que se utiliza para determinar cuán bien se han agrupado los clusters unos frente a otros.\n",
    "\n",
    "- valores cercanos a 1 indican correcta separacion entre clusters, cercanos a 0 superposicion, cercanos a -1 incorrecta asignacion de los puntos a los clusters asignados "
   ]
  },
  {
   "cell_type": "code",
   "execution_count": 34,
   "id": "6a83a48f",
   "metadata": {},
   "outputs": [
    {
     "data": {
      "text/plain": [
       "0.07770710788552378"
      ]
     },
     "execution_count": 34,
     "metadata": {},
     "output_type": "execute_result"
    }
   ],
   "source": [
    "silhouette_score(X, kmeans.labels_)"
   ]
  },
  {
   "cell_type": "code",
   "execution_count": null,
   "id": "f13bc531",
   "metadata": {},
   "outputs": [
    {
     "data": {
      "image/png": "[encoded data removed]",
      "text/plain": [
       "<Figure size 1000x800 with 1 Axes>"
      ]
     },
     "metadata": {},
     "output_type": "display_data"
    }
   ],
   "source": [
    "#Representacion grafica de la relacion entre K y Silhouette\n",
    "\n",
    "plt.figure(figsize = (10, 8))\n",
    "\n",
    "plt.plot(range(2, len(sil_score) + 2), sil_score, marker = \"x\", color = \"red\")\n",
    "\n",
    "plt.xlabel(\"K's\") \n",
    "plt.ylabel(\"Silhouette\") \n",
    "\n",
    "plt.show() #los valores de shilouette son muy cercanos a 0, indica superposicion de los clusters"
   ]
  },
  {
   "cell_type": "markdown",
   "id": "1bea7396",
   "metadata": {},
   "source": [
    " **Conclusion**: *clusters poco compactados y superpuestos*"
   ]
  },
  {
   "cell_type": "code",
   "execution_count": 1,
   "id": "2086bde4",
   "metadata": {},
   "outputs": [],
   "source": [
    "################################################################################################################################"
   ]
  },
  {
   "cell_type": "markdown",
   "id": "c9ad17c6",
   "metadata": {},
   "source": [
    "### **3.2 Clustering con DBSCAN**"
   ]
  },
  {
   "cell_type": "code",
   "execution_count": 38,
   "id": "c356e436",
   "metadata": {},
   "outputs": [
    {
     "data": {
      "text/plain": [
       "(151, 54675)"
      ]
     },
     "execution_count": 38,
     "metadata": {},
     "output_type": "execute_result"
    }
   ],
   "source": [
    "# Exploracion previa a la aplicacion de DBSCAN\n",
    "\n",
    "X.shape"
   ]
  },
  {
   "cell_type": "code",
   "execution_count": 39,
   "id": "fb1c0bea",
   "metadata": {},
   "outputs": [
    {
     "data": {
      "text/plain": [
       "233.82685902179844"
      ]
     },
     "execution_count": 39,
     "metadata": {},
     "output_type": "execute_result"
    }
   ],
   "source": [
    "# Estimacion de valor maximo de rango para el parametro \"eps\" para DBSCAN con el calculo de la raiz cuadrada\n",
    "\n",
    "np.sqrt(54675)"
   ]
  },
  {
   "cell_type": "code",
   "execution_count": null,
   "id": "271984ab",
   "metadata": {},
   "outputs": [
    {
     "name": "stderr",
     "output_type": "stream",
     "text": [
      "UsageError: Line magic function `%%time` not found.\n"
     ]
    }
   ],
   "source": [
    "#Codigo para descubrir los mejores parametros posibles para DBSCAN\n",
    "\n",
    "%%time\n",
    "\n",
    "dbscan_params = list()\n",
    "\n",
    "for eps in np.arange(0.1, 234, 0.1):\n",
    "    \n",
    "    for min_samples in (1, 152): # Parametro recomendado es valor 2*n_variables. No aplicable por numero enorme. Se cambia a tamaño maximo = n_filas\n",
    "        \n",
    "        for metric in [\"cityblock\", \"euclidean\", \"manhattan\"]:\n",
    "            \n",
    "            # DBSCAN\n",
    "            dbscan = DBSCAN(eps = eps, min_samples = min_samples, metric = metric)\n",
    "            dbscan.fit(X)\n",
    "            \n",
    "            # Clusters\n",
    "            n_clusters = len(set(dbscan.labels_))\n",
    "            \n",
    "            # Outliers\n",
    "            outliers = 1 if -1 in set(dbscan.labels_) else 0 \n",
    "            \n",
    "            # Score (shilouette score)\n",
    "            try:\n",
    "                sil_score = silhouette_score(X = X, labels = dbscan.labels_) \n",
    "            except:\n",
    "                sil_score = np.nan\n",
    "            \n",
    "            dbscan_params.append([eps, min_samples, metric, sil_score, n_clusters, outliers])"
   ]
  },
  {
   "cell_type": "code",
   "execution_count": null,
   "id": "a4e22cd3",
   "metadata": {},
   "outputs": [
    {
     "data": {
      "text/html": [
       "<div>\n",
       "<style scoped>\n",
       "    .dataframe tbody tr th:only-of-type {\n",
       "        vertical-align: middle;\n",
       "    }\n",
       "\n",
       "    .dataframe tbody tr th {\n",
       "        vertical-align: top;\n",
       "    }\n",
       "\n",
       "    .dataframe thead th {\n",
       "        text-align: right;\n",
       "    }\n",
       "</style>\n",
       "<table border=\"1\" class=\"dataframe\">\n",
       "  <thead>\n",
       "    <tr style=\"text-align: right;\">\n",
       "      <th></th>\n",
       "      <th>eps</th>\n",
       "      <th>min_samples</th>\n",
       "      <th>metric</th>\n",
       "      <th>score</th>\n",
       "      <th>n_clusters</th>\n",
       "      <th>outliers</th>\n",
       "    </tr>\n",
       "  </thead>\n",
       "  <tbody>\n",
       "    <tr>\n",
       "      <th>0</th>\n",
       "      <td>0.1</td>\n",
       "      <td>1</td>\n",
       "      <td>cityblock</td>\n",
       "      <td>nan</td>\n",
       "      <td>151</td>\n",
       "      <td>0</td>\n",
       "    </tr>\n",
       "    <tr>\n",
       "      <th>1</th>\n",
       "      <td>0.1</td>\n",
       "      <td>1</td>\n",
       "      <td>euclidean</td>\n",
       "      <td>nan</td>\n",
       "      <td>151</td>\n",
       "      <td>0</td>\n",
       "    </tr>\n",
       "    <tr>\n",
       "      <th>2</th>\n",
       "      <td>0.1</td>\n",
       "      <td>1</td>\n",
       "      <td>manhattan</td>\n",
       "      <td>nan</td>\n",
       "      <td>151</td>\n",
       "      <td>0</td>\n",
       "    </tr>\n",
       "    <tr>\n",
       "      <th>6</th>\n",
       "      <td>0.2</td>\n",
       "      <td>1</td>\n",
       "      <td>cityblock</td>\n",
       "      <td>nan</td>\n",
       "      <td>151</td>\n",
       "      <td>0</td>\n",
       "    </tr>\n",
       "    <tr>\n",
       "      <th>7</th>\n",
       "      <td>0.2</td>\n",
       "      <td>1</td>\n",
       "      <td>euclidean</td>\n",
       "      <td>nan</td>\n",
       "      <td>151</td>\n",
       "      <td>0</td>\n",
       "    </tr>\n",
       "    <tr>\n",
       "      <th>...</th>\n",
       "      <td>...</td>\n",
       "      <td>...</td>\n",
       "      <td>...</td>\n",
       "      <td>...</td>\n",
       "      <td>...</td>\n",
       "      <td>...</td>\n",
       "    </tr>\n",
       "    <tr>\n",
       "      <th>2011</th>\n",
       "      <td>33.6</td>\n",
       "      <td>1</td>\n",
       "      <td>euclidean</td>\n",
       "      <td>-0.0006748904294609316</td>\n",
       "      <td>145</td>\n",
       "      <td>0</td>\n",
       "    </tr>\n",
       "    <tr>\n",
       "      <th>2017</th>\n",
       "      <td>33.7</td>\n",
       "      <td>1</td>\n",
       "      <td>euclidean</td>\n",
       "      <td>-0.0006748904294609316</td>\n",
       "      <td>145</td>\n",
       "      <td>0</td>\n",
       "    </tr>\n",
       "    <tr>\n",
       "      <th>2023</th>\n",
       "      <td>33.800000000000004</td>\n",
       "      <td>1</td>\n",
       "      <td>euclidean</td>\n",
       "      <td>-0.0005219255992454332</td>\n",
       "      <td>144</td>\n",
       "      <td>0</td>\n",
       "    </tr>\n",
       "    <tr>\n",
       "      <th>2005</th>\n",
       "      <td>33.5</td>\n",
       "      <td>1</td>\n",
       "      <td>euclidean</td>\n",
       "      <td>-0.0003941119606060529</td>\n",
       "      <td>146</td>\n",
       "      <td>0</td>\n",
       "    </tr>\n",
       "    <tr>\n",
       "      <th>2323</th>\n",
       "      <td>38.800000000000004</td>\n",
       "      <td>1</td>\n",
       "      <td>euclidean</td>\n",
       "      <td>-0.00013007313767071134</td>\n",
       "      <td>128</td>\n",
       "      <td>0</td>\n",
       "    </tr>\n",
       "  </tbody>\n",
       "</table>\n",
       "<p>14034 rows × 6 columns</p>\n",
       "</div>"
      ],
      "text/plain": [
       "                     eps min_samples     metric                    score  \\\n",
       "0                    0.1           1  cityblock                      nan   \n",
       "1                    0.1           1  euclidean                      nan   \n",
       "2                    0.1           1  manhattan                      nan   \n",
       "6                    0.2           1  cityblock                      nan   \n",
       "7                    0.2           1  euclidean                      nan   \n",
       "...                  ...         ...        ...                      ...   \n",
       "2011                33.6           1  euclidean   -0.0006748904294609316   \n",
       "2017                33.7           1  euclidean   -0.0006748904294609316   \n",
       "2023  33.800000000000004           1  euclidean   -0.0005219255992454332   \n",
       "2005                33.5           1  euclidean   -0.0003941119606060529   \n",
       "2323  38.800000000000004           1  euclidean  -0.00013007313767071134   \n",
       "\n",
       "     n_clusters outliers  \n",
       "0           151        0  \n",
       "1           151        0  \n",
       "2           151        0  \n",
       "6           151        0  \n",
       "7           151        0  \n",
       "...         ...      ...  \n",
       "2011        145        0  \n",
       "2017        145        0  \n",
       "2023        144        0  \n",
       "2005        146        0  \n",
       "2323        128        0  \n",
       "\n",
       "[14034 rows x 6 columns]"
      ]
     },
     "execution_count": 37,
     "metadata": {},
     "output_type": "execute_result"
    }
   ],
   "source": [
    "# Transformacion a df de los parametros investigados\n",
    "\n",
    "df_score = pd.DataFrame(data    = np.array(dbscan_params),\n",
    "                        columns = [\"eps\", \"min_samples\", \"metric\", \"score\", \"n_clusters\", \"outliers\"])\n"
   ]
  },
  {
   "cell_type": "code",
   "execution_count": null,
   "id": "9a28f7b8",
   "metadata": {},
   "outputs": [],
   "source": [
    "# Guardar el DataFrame en un .csv\n",
    "\n",
    "df_score.to_csv(\"data_dbscan.csv\", index = False)"
   ]
  },
  {
   "cell_type": "code",
   "execution_count": 40,
   "id": "da7fdfcc",
   "metadata": {},
   "outputs": [],
   "source": [
    "#Trabajar el modelo de DBSCAN a partir del DataFrame anterior\n",
    "\n",
    "df_score = pd.read_csv(\"data_dbscan.csv\")"
   ]
  },
  {
   "cell_type": "code",
   "execution_count": 41,
   "id": "2a91c6b0",
   "metadata": {},
   "outputs": [
    {
     "data": {
      "text/html": [
       "<div>\n",
       "<style scoped>\n",
       "    .dataframe tbody tr th:only-of-type {\n",
       "        vertical-align: middle;\n",
       "    }\n",
       "\n",
       "    .dataframe tbody tr th {\n",
       "        vertical-align: top;\n",
       "    }\n",
       "\n",
       "    .dataframe thead th {\n",
       "        text-align: right;\n",
       "    }\n",
       "</style>\n",
       "<table border=\"1\" class=\"dataframe\">\n",
       "  <thead>\n",
       "    <tr style=\"text-align: right;\">\n",
       "      <th></th>\n",
       "      <th>eps</th>\n",
       "      <th>min_samples</th>\n",
       "      <th>metric</th>\n",
       "      <th>score</th>\n",
       "      <th>n_clusters</th>\n",
       "      <th>outliers</th>\n",
       "    </tr>\n",
       "  </thead>\n",
       "  <tbody>\n",
       "    <tr>\n",
       "      <th>3487</th>\n",
       "      <td>58.2</td>\n",
       "      <td>1</td>\n",
       "      <td>euclidean</td>\n",
       "      <td>0.200789</td>\n",
       "      <td>2</td>\n",
       "      <td>0</td>\n",
       "    </tr>\n",
       "    <tr>\n",
       "      <th>3493</th>\n",
       "      <td>58.3</td>\n",
       "      <td>1</td>\n",
       "      <td>euclidean</td>\n",
       "      <td>0.200789</td>\n",
       "      <td>2</td>\n",
       "      <td>0</td>\n",
       "    </tr>\n",
       "    <tr>\n",
       "      <th>3499</th>\n",
       "      <td>58.4</td>\n",
       "      <td>1</td>\n",
       "      <td>euclidean</td>\n",
       "      <td>0.200789</td>\n",
       "      <td>2</td>\n",
       "      <td>0</td>\n",
       "    </tr>\n",
       "    <tr>\n",
       "      <th>3505</th>\n",
       "      <td>58.5</td>\n",
       "      <td>1</td>\n",
       "      <td>euclidean</td>\n",
       "      <td>0.200789</td>\n",
       "      <td>2</td>\n",
       "      <td>0</td>\n",
       "    </tr>\n",
       "    <tr>\n",
       "      <th>3511</th>\n",
       "      <td>58.6</td>\n",
       "      <td>1</td>\n",
       "      <td>euclidean</td>\n",
       "      <td>0.200789</td>\n",
       "      <td>2</td>\n",
       "      <td>0</td>\n",
       "    </tr>\n",
       "    <tr>\n",
       "      <th>...</th>\n",
       "      <td>...</td>\n",
       "      <td>...</td>\n",
       "      <td>...</td>\n",
       "      <td>...</td>\n",
       "      <td>...</td>\n",
       "      <td>...</td>\n",
       "    </tr>\n",
       "    <tr>\n",
       "      <th>14027</th>\n",
       "      <td>233.8</td>\n",
       "      <td>152</td>\n",
       "      <td>manhattan</td>\n",
       "      <td>NaN</td>\n",
       "      <td>1</td>\n",
       "      <td>1</td>\n",
       "    </tr>\n",
       "    <tr>\n",
       "      <th>14029</th>\n",
       "      <td>233.9</td>\n",
       "      <td>1</td>\n",
       "      <td>euclidean</td>\n",
       "      <td>NaN</td>\n",
       "      <td>1</td>\n",
       "      <td>0</td>\n",
       "    </tr>\n",
       "    <tr>\n",
       "      <th>14031</th>\n",
       "      <td>233.9</td>\n",
       "      <td>152</td>\n",
       "      <td>cityblock</td>\n",
       "      <td>NaN</td>\n",
       "      <td>1</td>\n",
       "      <td>1</td>\n",
       "    </tr>\n",
       "    <tr>\n",
       "      <th>14032</th>\n",
       "      <td>233.9</td>\n",
       "      <td>152</td>\n",
       "      <td>euclidean</td>\n",
       "      <td>NaN</td>\n",
       "      <td>1</td>\n",
       "      <td>1</td>\n",
       "    </tr>\n",
       "    <tr>\n",
       "      <th>14033</th>\n",
       "      <td>233.9</td>\n",
       "      <td>152</td>\n",
       "      <td>manhattan</td>\n",
       "      <td>NaN</td>\n",
       "      <td>1</td>\n",
       "      <td>1</td>\n",
       "    </tr>\n",
       "  </tbody>\n",
       "</table>\n",
       "<p>14034 rows × 6 columns</p>\n",
       "</div>"
      ],
      "text/plain": [
       "         eps  min_samples     metric     score  n_clusters  outliers\n",
       "3487    58.2            1  euclidean  0.200789           2         0\n",
       "3493    58.3            1  euclidean  0.200789           2         0\n",
       "3499    58.4            1  euclidean  0.200789           2         0\n",
       "3505    58.5            1  euclidean  0.200789           2         0\n",
       "3511    58.6            1  euclidean  0.200789           2         0\n",
       "...      ...          ...        ...       ...         ...       ...\n",
       "14027  233.8          152  manhattan       NaN           1         1\n",
       "14029  233.9            1  euclidean       NaN           1         0\n",
       "14031  233.9          152  cityblock       NaN           1         1\n",
       "14032  233.9          152  euclidean       NaN           1         1\n",
       "14033  233.9          152  manhattan       NaN           1         1\n",
       "\n",
       "[14034 rows x 6 columns]"
      ]
     },
     "execution_count": 41,
     "metadata": {},
     "output_type": "execute_result"
    }
   ],
   "source": [
    "# Mejores parametros para DBSCAN\n",
    "\n",
    "df_score= df_score.sort_values(by = [\"score\", \"n_clusters\"], ascending = False)\n",
    "df_score"
   ]
  },
  {
   "cell_type": "code",
   "execution_count": 42,
   "id": "ed651de0",
   "metadata": {},
   "outputs": [
    {
     "data": {
      "text/html": [
       "<div>\n",
       "<style scoped>\n",
       "    .dataframe tbody tr th:only-of-type {\n",
       "        vertical-align: middle;\n",
       "    }\n",
       "\n",
       "    .dataframe tbody tr th {\n",
       "        vertical-align: top;\n",
       "    }\n",
       "\n",
       "    .dataframe thead th {\n",
       "        text-align: right;\n",
       "    }\n",
       "</style>\n",
       "<table border=\"1\" class=\"dataframe\">\n",
       "  <thead>\n",
       "    <tr style=\"text-align: right;\">\n",
       "      <th></th>\n",
       "      <th>eps</th>\n",
       "      <th>min_samples</th>\n",
       "      <th>metric</th>\n",
       "      <th>score</th>\n",
       "      <th>n_clusters</th>\n",
       "      <th>outliers</th>\n",
       "    </tr>\n",
       "  </thead>\n",
       "  <tbody>\n",
       "  </tbody>\n",
       "</table>\n",
       "</div>"
      ],
      "text/plain": [
       "Empty DataFrame\n",
       "Columns: [eps, min_samples, metric, score, n_clusters, outliers]\n",
       "Index: []"
      ]
     },
     "execution_count": 42,
     "metadata": {},
     "output_type": "execute_result"
    }
   ],
   "source": [
    "df_score[(df_score[\"min_samples\"] > 1) & (df_score[\"outliers\"] == 0)] # No hay resultados que tomen mas de 1 sample que no contengan outliers\n"
   ]
  },
  {
   "cell_type": "code",
   "execution_count": 43,
   "id": "e6a15c1b",
   "metadata": {},
   "outputs": [
    {
     "data": {
      "text/html": [
       "<style>#sk-container-id-2 {color: black;background-color: white;}#sk-container-id-2 pre{padding: 0;}#sk-container-id-2 div.sk-toggleable {background-color: white;}#sk-container-id-2 label.sk-toggleable__label {cursor: pointer;display: block;width: 100%;margin-bottom: 0;padding: 0.3em;box-sizing: border-box;text-align: center;}#sk-container-id-2 label.sk-toggleable__label-arrow:before {content: \"▸\";float: left;margin-right: 0.25em;color: #696969;}#sk-container-id-2 label.sk-toggleable__label-arrow:hover:before {color: black;}#sk-container-id-2 div.sk-estimator:hover label.sk-toggleable__label-arrow:before {color: black;}#sk-container-id-2 div.sk-toggleable__content {max-height: 0;max-width: 0;overflow: hidden;text-align: left;background-color: #f0f8ff;}#sk-container-id-2 div.sk-toggleable__content pre {margin: 0.2em;color: black;border-radius: 0.25em;background-color: #f0f8ff;}#sk-container-id-2 input.sk-toggleable__control:checked~div.sk-toggleable__content {max-height: 200px;max-width: 100%;overflow: auto;}#sk-container-id-2 input.sk-toggleable__control:checked~label.sk-toggleable__label-arrow:before {content: \"▾\";}#sk-container-id-2 div.sk-estimator input.sk-toggleable__control:checked~label.sk-toggleable__label {background-color: #d4ebff;}#sk-container-id-2 div.sk-label input.sk-toggleable__control:checked~label.sk-toggleable__label {background-color: #d4ebff;}#sk-container-id-2 input.sk-hidden--visually {border: 0;clip: rect(1px 1px 1px 1px);clip: rect(1px, 1px, 1px, 1px);height: 1px;margin: -1px;overflow: hidden;padding: 0;position: absolute;width: 1px;}#sk-container-id-2 div.sk-estimator {font-family: monospace;background-color: #f0f8ff;border: 1px dotted black;border-radius: 0.25em;box-sizing: border-box;margin-bottom: 0.5em;}#sk-container-id-2 div.sk-estimator:hover {background-color: #d4ebff;}#sk-container-id-2 div.sk-parallel-item::after {content: \"\";width: 100%;border-bottom: 1px solid gray;flex-grow: 1;}#sk-container-id-2 div.sk-label:hover label.sk-toggleable__label {background-color: #d4ebff;}#sk-container-id-2 div.sk-serial::before {content: \"\";position: absolute;border-left: 1px solid gray;box-sizing: border-box;top: 0;bottom: 0;left: 50%;z-index: 0;}#sk-container-id-2 div.sk-serial {display: flex;flex-direction: column;align-items: center;background-color: white;padding-right: 0.2em;padding-left: 0.2em;position: relative;}#sk-container-id-2 div.sk-item {position: relative;z-index: 1;}#sk-container-id-2 div.sk-parallel {display: flex;align-items: stretch;justify-content: center;background-color: white;position: relative;}#sk-container-id-2 div.sk-item::before, #sk-container-id-2 div.sk-parallel-item::before {content: \"\";position: absolute;border-left: 1px solid gray;box-sizing: border-box;top: 0;bottom: 0;left: 50%;z-index: -1;}#sk-container-id-2 div.sk-parallel-item {display: flex;flex-direction: column;z-index: 1;position: relative;background-color: white;}#sk-container-id-2 div.sk-parallel-item:first-child::after {align-self: flex-end;width: 50%;}#sk-container-id-2 div.sk-parallel-item:last-child::after {align-self: flex-start;width: 50%;}#sk-container-id-2 div.sk-parallel-item:only-child::after {width: 0;}#sk-container-id-2 div.sk-dashed-wrapped {border: 1px dashed gray;margin: 0 0.4em 0.5em 0.4em;box-sizing: border-box;padding-bottom: 0.4em;background-color: white;}#sk-container-id-2 div.sk-label label {font-family: monospace;font-weight: bold;display: inline-block;line-height: 1.2em;}#sk-container-id-2 div.sk-label-container {text-align: center;}#sk-container-id-2 div.sk-container {/* jupyter's `normalize.less` sets `[hidden] { display: none; }` but bootstrap.min.css set `[hidden] { display: none !important; }` so we also need the `!important` here to be able to override the default hidden behavior on the sphinx rendered scikit-learn.org. See: https://github.com/scikit-learn/scikit-learn/issues/21755 */display: inline-block !important;position: relative;}#sk-container-id-2 div.sk-text-repr-fallback {display: none;}</style><div id=\"sk-container-id-2\" class=\"sk-top-container\"><div class=\"sk-text-repr-fallback\"><pre>DBSCAN(eps=58.2, min_samples=1)</pre><b>In a Jupyter environment, please rerun this cell to show the HTML representation or trust the notebook. <br />On GitHub, the HTML representation is unable to render, please try loading this page with nbviewer.org.</b></div><div class=\"sk-container\" hidden><div class=\"sk-item\"><div class=\"sk-estimator sk-toggleable\"><input class=\"sk-toggleable__control sk-hidden--visually\" id=\"sk-estimator-id-2\" type=\"checkbox\" checked><label for=\"sk-estimator-id-2\" class=\"sk-toggleable__label sk-toggleable__label-arrow\">DBSCAN</label><div class=\"sk-toggleable__content\"><pre>DBSCAN(eps=58.2, min_samples=1)</pre></div></div></div></div></div>"
      ],
      "text/plain": [
       "DBSCAN(eps=58.2, min_samples=1)"
      ]
     },
     "execution_count": 43,
     "metadata": {},
     "output_type": "execute_result"
    }
   ],
   "source": [
    "# #58.2\teps, 1 min_sample, euclidean metric es el mejor resultado obtenido en la exploracion \n",
    "\n",
    "dbscan = DBSCAN(eps = 58.2, min_samples= 1, metric= \"euclidean\") \n",
    "dbscan.fit(X)"
   ]
  },
  {
   "cell_type": "code",
   "execution_count": 45,
   "id": "3e590371",
   "metadata": {},
   "outputs": [
    {
     "data": {
      "text/plain": [
       "array([0, 0, 0, 0, 0, 0, 0, 0, 0, 0, 0, 0, 0, 0, 0, 0, 0, 0, 0, 0, 0, 0,\n",
       "       0, 0, 0, 0, 0, 0, 0, 0, 0, 0, 0, 0, 0, 0, 0, 0, 0, 0, 0, 0, 0, 0,\n",
       "       0, 0, 0, 0, 0, 0, 0, 0, 0, 0, 0, 0, 0, 0, 0, 0, 0, 0, 0, 0, 0, 0,\n",
       "       0, 0, 0, 0, 0, 0, 0, 0, 1, 0, 0, 0, 0, 0, 0, 0, 0, 0, 0, 0, 0, 0,\n",
       "       0, 0, 0, 0, 0, 0, 0, 0, 0, 0, 0, 0, 0, 0, 0, 0, 0, 0, 0, 0, 0, 0,\n",
       "       0, 0, 0, 0, 0, 0, 0, 0, 0, 0, 0, 0, 0, 0, 0, 0, 0, 0, 0, 0, 0, 0,\n",
       "       0, 0, 0, 0, 0, 0, 0, 0, 0, 0, 0, 0, 0, 0, 0, 0, 0, 0, 0],\n",
       "      dtype=int64)"
      ]
     },
     "execution_count": 45,
     "metadata": {},
     "output_type": "execute_result"
    }
   ],
   "source": [
    "# .labels_ retorna la \"prediccion\" de etiquetas del modelo de clustering\n",
    "\n",
    "dbscan.labels_ # DBSCAN solo obtiene 2 grupos, uno de ellos con solo 1 componente de los 151 totales"
   ]
  },
  {
   "cell_type": "code",
   "execution_count": 46,
   "id": "b2452e26",
   "metadata": {},
   "outputs": [
    {
     "data": {
      "text/plain": [
       "Counter({0: 150, 1: 1})"
      ]
     },
     "execution_count": 46,
     "metadata": {},
     "output_type": "execute_result"
    }
   ],
   "source": [
    "#Counter para ver la cantidad de valores en cada grupo\n",
    "\n",
    "Counter(dbscan.labels_) "
   ]
  },
  {
   "cell_type": "markdown",
   "id": "c0c0c6f4",
   "metadata": {},
   "source": [
    " **Conclusion**: *el clustering con DBSCAN es objetivamente malo, solo encuentra dos grupos, uno de ellos con solo un elemento*"
   ]
  },
  {
   "cell_type": "code",
   "execution_count": null,
   "id": "c0ebd932",
   "metadata": {},
   "outputs": [],
   "source": [
    "################################################################################################################"
   ]
  },
  {
   "cell_type": "markdown",
   "id": "e5c5fe9e",
   "metadata": {},
   "source": [
    "### **4. Enfoque hacia aplicacion de reduccion de dimensionalidad previa a clustering, basado en varianza y percentiles**"
   ]
  },
  {
   "cell_type": "markdown",
   "id": "87200dfc",
   "metadata": {},
   "source": [
    "*Se pretende alcanzar reduccion suficiente de dimensionalidad que provoque una clusterizacion correcta, sin perdida notable de informacion explicativa*"
   ]
  },
  {
   "cell_type": "code",
   "execution_count": 47,
   "id": "ad9f2ffb",
   "metadata": {},
   "outputs": [
    {
     "data": {
      "image/png": "[encoded data removed]",
      "text/plain": [
       "<Figure size 640x480 with 1 Axes>"
      ]
     },
     "metadata": {},
     "output_type": "display_data"
    }
   ],
   "source": [
    "#Aplicacion de PCA\n",
    " \n",
    "\n",
    "pca_plot = PCA().fit(X)\n",
    "\n",
    "plt.plot(np.cumsum(pca_plot.explained_variance_ratio_))\n",
    "\n",
    "plt.xlabel('num_variables')\n",
    "\n",
    "plt.ylabel('varianza acumulada')\n",
    "\n",
    "plt.grid()"
   ]
  },
  {
   "cell_type": "markdown",
   "id": "ebc5f9ed",
   "metadata": {},
   "source": [
    "*Con una reduccion a 120-140 variables podriamos mantener el 95-100% de la varianza explicativa*"
   ]
  },
  {
   "cell_type": "code",
   "execution_count": 48,
   "id": "a755655a",
   "metadata": {},
   "outputs": [
    {
     "data": {
      "text/plain": [
       "4.945326185153333"
      ]
     },
     "execution_count": 48,
     "metadata": {},
     "output_type": "execute_result"
    }
   ],
   "source": [
    "# Obtencion del umbral minimo de varianza explicativa a conservar en el dataset resultante\n",
    "\n",
    "df_filtrado = df.drop( labels= [\"samples\",\"type\"] ,  axis = 1) # Eliminacion de columnas que no deben entrar al clustering\n",
    "\n",
    "varianzas = df_filtrado.var().sort_values(ascending = False).values # Obtencion array con valores de varianza de mayor a menor\n",
    "\n",
    "thresh = np.quantile(a = varianzas,  # Aplicacion de filtrado del array en base a percentil de variables y obtencion del umbral de varianza para aplicar al df \n",
    "                     q = 0.9975)\n",
    "\n",
    "thresh"
   ]
  },
  {
   "cell_type": "code",
   "execution_count": 49,
   "id": "61d815ef",
   "metadata": {},
   "outputs": [
    {
     "data": {
      "text/plain": [
       "(151, 135)"
      ]
     },
     "execution_count": 49,
     "metadata": {},
     "output_type": "execute_result"
    }
   ],
   "source": [
    "# Obtener array reduciendo cantidad variables en base al umbral de varianza\n",
    "\n",
    "vt = VarianceThreshold(threshold = thresh)\n",
    "\n",
    "df_var = vt.fit_transform(df_filtrado)\n",
    "\n",
    "df_var.shape # Resulta una reduccion a 135 variables con alta varianza, por lo que hay cerca del 100% de varianza explicativa segun el estudio de PCA"
   ]
  },
  {
   "cell_type": "code",
   "execution_count": 50,
   "id": "f5585193",
   "metadata": {},
   "outputs": [
    {
     "data": {
      "text/html": [
       "<div>\n",
       "<style scoped>\n",
       "    .dataframe tbody tr th:only-of-type {\n",
       "        vertical-align: middle;\n",
       "    }\n",
       "\n",
       "    .dataframe tbody tr th {\n",
       "        vertical-align: top;\n",
       "    }\n",
       "\n",
       "    .dataframe thead th {\n",
       "        text-align: right;\n",
       "    }\n",
       "</style>\n",
       "<table border=\"1\" class=\"dataframe\">\n",
       "  <thead>\n",
       "    <tr style=\"text-align: right;\">\n",
       "      <th></th>\n",
       "      <th>1553394_a_at</th>\n",
       "      <th>1553434_at</th>\n",
       "      <th>1553602_at</th>\n",
       "      <th>1555745_a_at</th>\n",
       "      <th>1555778_a_at</th>\n",
       "      <th>1558034_s_at</th>\n",
       "      <th>200795_at</th>\n",
       "      <th>201525_at</th>\n",
       "      <th>201744_s_at</th>\n",
       "      <th>201852_x_at</th>\n",
       "      <th>...</th>\n",
       "      <th>234764_x_at</th>\n",
       "      <th>237086_at</th>\n",
       "      <th>237339_at</th>\n",
       "      <th>237395_at</th>\n",
       "      <th>238481_at</th>\n",
       "      <th>240304_s_at</th>\n",
       "      <th>242579_at</th>\n",
       "      <th>243241_at</th>\n",
       "      <th>37892_at</th>\n",
       "      <th>AFFX-HUMRGE/M10098_5_at</th>\n",
       "    </tr>\n",
       "  </thead>\n",
       "  <tbody>\n",
       "    <tr>\n",
       "      <th>0</th>\n",
       "      <td>4.233874</td>\n",
       "      <td>3.265404</td>\n",
       "      <td>5.550369</td>\n",
       "      <td>7.978587</td>\n",
       "      <td>10.149991</td>\n",
       "      <td>8.472089</td>\n",
       "      <td>9.253729</td>\n",
       "      <td>4.869761</td>\n",
       "      <td>10.393279</td>\n",
       "      <td>11.796615</td>\n",
       "      <td>...</td>\n",
       "      <td>11.049998</td>\n",
       "      <td>3.196762</td>\n",
       "      <td>3.421710</td>\n",
       "      <td>3.062842</td>\n",
       "      <td>6.041615</td>\n",
       "      <td>5.417186</td>\n",
       "      <td>7.765471</td>\n",
       "      <td>3.410798</td>\n",
       "      <td>9.247128</td>\n",
       "      <td>14.750905</td>\n",
       "    </tr>\n",
       "    <tr>\n",
       "      <th>1</th>\n",
       "      <td>4.365289</td>\n",
       "      <td>3.039451</td>\n",
       "      <td>5.082131</td>\n",
       "      <td>8.209669</td>\n",
       "      <td>10.565070</td>\n",
       "      <td>10.885585</td>\n",
       "      <td>8.723529</td>\n",
       "      <td>10.443652</td>\n",
       "      <td>10.555914</td>\n",
       "      <td>11.994220</td>\n",
       "      <td>...</td>\n",
       "      <td>7.026088</td>\n",
       "      <td>3.589533</td>\n",
       "      <td>3.854429</td>\n",
       "      <td>3.433153</td>\n",
       "      <td>8.768485</td>\n",
       "      <td>9.040942</td>\n",
       "      <td>3.953117</td>\n",
       "      <td>3.527696</td>\n",
       "      <td>9.709350</td>\n",
       "      <td>9.938357</td>\n",
       "    </tr>\n",
       "    <tr>\n",
       "      <th>2</th>\n",
       "      <td>3.968636</td>\n",
       "      <td>3.218806</td>\n",
       "      <td>5.058542</td>\n",
       "      <td>7.069091</td>\n",
       "      <td>6.458419</td>\n",
       "      <td>6.681809</td>\n",
       "      <td>7.790371</td>\n",
       "      <td>4.994940</td>\n",
       "      <td>7.228274</td>\n",
       "      <td>8.401393</td>\n",
       "      <td>...</td>\n",
       "      <td>8.037242</td>\n",
       "      <td>3.590720</td>\n",
       "      <td>3.914056</td>\n",
       "      <td>2.946176</td>\n",
       "      <td>11.163068</td>\n",
       "      <td>4.715663</td>\n",
       "      <td>8.247427</td>\n",
       "      <td>3.736870</td>\n",
       "      <td>5.286003</td>\n",
       "      <td>13.605901</td>\n",
       "    </tr>\n",
       "    <tr>\n",
       "      <th>3</th>\n",
       "      <td>3.957113</td>\n",
       "      <td>3.123551</td>\n",
       "      <td>4.941430</td>\n",
       "      <td>10.828737</td>\n",
       "      <td>10.472814</td>\n",
       "      <td>4.925068</td>\n",
       "      <td>9.533376</td>\n",
       "      <td>9.251773</td>\n",
       "      <td>11.059959</td>\n",
       "      <td>12.153453</td>\n",
       "      <td>...</td>\n",
       "      <td>9.791557</td>\n",
       "      <td>3.077316</td>\n",
       "      <td>3.875099</td>\n",
       "      <td>3.642785</td>\n",
       "      <td>5.307583</td>\n",
       "      <td>4.041742</td>\n",
       "      <td>3.756744</td>\n",
       "      <td>3.383925</td>\n",
       "      <td>8.137780</td>\n",
       "      <td>12.146083</td>\n",
       "    </tr>\n",
       "    <tr>\n",
       "      <th>4</th>\n",
       "      <td>4.172743</td>\n",
       "      <td>3.379377</td>\n",
       "      <td>4.553402</td>\n",
       "      <td>9.644561</td>\n",
       "      <td>10.336155</td>\n",
       "      <td>8.033157</td>\n",
       "      <td>9.711141</td>\n",
       "      <td>5.770348</td>\n",
       "      <td>11.116482</td>\n",
       "      <td>11.971752</td>\n",
       "      <td>...</td>\n",
       "      <td>9.564089</td>\n",
       "      <td>3.293097</td>\n",
       "      <td>3.851047</td>\n",
       "      <td>3.200595</td>\n",
       "      <td>7.451804</td>\n",
       "      <td>4.324159</td>\n",
       "      <td>6.240655</td>\n",
       "      <td>3.530320</td>\n",
       "      <td>9.572701</td>\n",
       "      <td>12.598456</td>\n",
       "    </tr>\n",
       "    <tr>\n",
       "      <th>...</th>\n",
       "      <td>...</td>\n",
       "      <td>...</td>\n",
       "      <td>...</td>\n",
       "      <td>...</td>\n",
       "      <td>...</td>\n",
       "      <td>...</td>\n",
       "      <td>...</td>\n",
       "      <td>...</td>\n",
       "      <td>...</td>\n",
       "      <td>...</td>\n",
       "      <td>...</td>\n",
       "      <td>...</td>\n",
       "      <td>...</td>\n",
       "      <td>...</td>\n",
       "      <td>...</td>\n",
       "      <td>...</td>\n",
       "      <td>...</td>\n",
       "      <td>...</td>\n",
       "      <td>...</td>\n",
       "      <td>...</td>\n",
       "      <td>...</td>\n",
       "    </tr>\n",
       "    <tr>\n",
       "      <th>146</th>\n",
       "      <td>9.434317</td>\n",
       "      <td>4.283417</td>\n",
       "      <td>11.294522</td>\n",
       "      <td>5.472975</td>\n",
       "      <td>10.170533</td>\n",
       "      <td>5.329359</td>\n",
       "      <td>9.565351</td>\n",
       "      <td>7.991633</td>\n",
       "      <td>12.005291</td>\n",
       "      <td>12.068921</td>\n",
       "      <td>...</td>\n",
       "      <td>5.773449</td>\n",
       "      <td>8.856752</td>\n",
       "      <td>10.534218</td>\n",
       "      <td>5.976024</td>\n",
       "      <td>5.500146</td>\n",
       "      <td>10.163966</td>\n",
       "      <td>11.044550</td>\n",
       "      <td>6.115136</td>\n",
       "      <td>11.126593</td>\n",
       "      <td>9.923589</td>\n",
       "    </tr>\n",
       "    <tr>\n",
       "      <th>147</th>\n",
       "      <td>3.975292</td>\n",
       "      <td>3.960576</td>\n",
       "      <td>7.174051</td>\n",
       "      <td>3.746878</td>\n",
       "      <td>11.831214</td>\n",
       "      <td>3.632642</td>\n",
       "      <td>9.304357</td>\n",
       "      <td>8.285264</td>\n",
       "      <td>12.077609</td>\n",
       "      <td>12.773526</td>\n",
       "      <td>...</td>\n",
       "      <td>6.569463</td>\n",
       "      <td>9.941070</td>\n",
       "      <td>3.995993</td>\n",
       "      <td>3.628036</td>\n",
       "      <td>8.114911</td>\n",
       "      <td>6.583352</td>\n",
       "      <td>4.508672</td>\n",
       "      <td>8.058744</td>\n",
       "      <td>10.900590</td>\n",
       "      <td>9.430705</td>\n",
       "    </tr>\n",
       "    <tr>\n",
       "      <th>148</th>\n",
       "      <td>4.504307</td>\n",
       "      <td>3.234825</td>\n",
       "      <td>7.732858</td>\n",
       "      <td>8.672920</td>\n",
       "      <td>11.567906</td>\n",
       "      <td>7.800081</td>\n",
       "      <td>10.568175</td>\n",
       "      <td>9.194895</td>\n",
       "      <td>11.720064</td>\n",
       "      <td>12.766966</td>\n",
       "      <td>...</td>\n",
       "      <td>6.610460</td>\n",
       "      <td>8.386519</td>\n",
       "      <td>3.702366</td>\n",
       "      <td>4.501794</td>\n",
       "      <td>9.134859</td>\n",
       "      <td>4.503098</td>\n",
       "      <td>4.429813</td>\n",
       "      <td>5.282924</td>\n",
       "      <td>8.741613</td>\n",
       "      <td>7.918535</td>\n",
       "    </tr>\n",
       "    <tr>\n",
       "      <th>149</th>\n",
       "      <td>4.203309</td>\n",
       "      <td>8.622734</td>\n",
       "      <td>11.178786</td>\n",
       "      <td>4.548085</td>\n",
       "      <td>12.865115</td>\n",
       "      <td>3.941158</td>\n",
       "      <td>11.988042</td>\n",
       "      <td>10.009357</td>\n",
       "      <td>12.523438</td>\n",
       "      <td>13.869308</td>\n",
       "      <td>...</td>\n",
       "      <td>9.686360</td>\n",
       "      <td>9.495707</td>\n",
       "      <td>11.823017</td>\n",
       "      <td>5.992303</td>\n",
       "      <td>8.246486</td>\n",
       "      <td>10.211326</td>\n",
       "      <td>6.080322</td>\n",
       "      <td>8.255200</td>\n",
       "      <td>10.176057</td>\n",
       "      <td>6.612476</td>\n",
       "    </tr>\n",
       "    <tr>\n",
       "      <th>150</th>\n",
       "      <td>4.206629</td>\n",
       "      <td>10.101810</td>\n",
       "      <td>14.660967</td>\n",
       "      <td>6.668109</td>\n",
       "      <td>11.502176</td>\n",
       "      <td>4.161001</td>\n",
       "      <td>10.782496</td>\n",
       "      <td>13.273132</td>\n",
       "      <td>11.740447</td>\n",
       "      <td>13.040624</td>\n",
       "      <td>...</td>\n",
       "      <td>7.189146</td>\n",
       "      <td>9.195663</td>\n",
       "      <td>8.185380</td>\n",
       "      <td>8.677244</td>\n",
       "      <td>7.389548</td>\n",
       "      <td>9.974182</td>\n",
       "      <td>7.821401</td>\n",
       "      <td>8.191447</td>\n",
       "      <td>9.501738</td>\n",
       "      <td>8.244619</td>\n",
       "    </tr>\n",
       "  </tbody>\n",
       "</table>\n",
       "<p>151 rows × 135 columns</p>\n",
       "</div>"
      ],
      "text/plain": [
       "     1553394_a_at  1553434_at  1553602_at  1555745_a_at  1555778_a_at  \\\n",
       "0        4.233874    3.265404    5.550369      7.978587     10.149991   \n",
       "1        4.365289    3.039451    5.082131      8.209669     10.565070   \n",
       "2        3.968636    3.218806    5.058542      7.069091      6.458419   \n",
       "3        3.957113    3.123551    4.941430     10.828737     10.472814   \n",
       "4        4.172743    3.379377    4.553402      9.644561     10.336155   \n",
       "..            ...         ...         ...           ...           ...   \n",
       "146      9.434317    4.283417   11.294522      5.472975     10.170533   \n",
       "147      3.975292    3.960576    7.174051      3.746878     11.831214   \n",
       "148      4.504307    3.234825    7.732858      8.672920     11.567906   \n",
       "149      4.203309    8.622734   11.178786      4.548085     12.865115   \n",
       "150      4.206629   10.101810   14.660967      6.668109     11.502176   \n",
       "\n",
       "     1558034_s_at  200795_at  201525_at  201744_s_at  201852_x_at  ...  \\\n",
       "0        8.472089   9.253729   4.869761    10.393279    11.796615  ...   \n",
       "1       10.885585   8.723529  10.443652    10.555914    11.994220  ...   \n",
       "2        6.681809   7.790371   4.994940     7.228274     8.401393  ...   \n",
       "3        4.925068   9.533376   9.251773    11.059959    12.153453  ...   \n",
       "4        8.033157   9.711141   5.770348    11.116482    11.971752  ...   \n",
       "..            ...        ...        ...          ...          ...  ...   \n",
       "146      5.329359   9.565351   7.991633    12.005291    12.068921  ...   \n",
       "147      3.632642   9.304357   8.285264    12.077609    12.773526  ...   \n",
       "148      7.800081  10.568175   9.194895    11.720064    12.766966  ...   \n",
       "149      3.941158  11.988042  10.009357    12.523438    13.869308  ...   \n",
       "150      4.161001  10.782496  13.273132    11.740447    13.040624  ...   \n",
       "\n",
       "     234764_x_at  237086_at  237339_at  237395_at  238481_at  240304_s_at  \\\n",
       "0      11.049998   3.196762   3.421710   3.062842   6.041615     5.417186   \n",
       "1       7.026088   3.589533   3.854429   3.433153   8.768485     9.040942   \n",
       "2       8.037242   3.590720   3.914056   2.946176  11.163068     4.715663   \n",
       "3       9.791557   3.077316   3.875099   3.642785   5.307583     4.041742   \n",
       "4       9.564089   3.293097   3.851047   3.200595   7.451804     4.324159   \n",
       "..           ...        ...        ...        ...        ...          ...   \n",
       "146     5.773449   8.856752  10.534218   5.976024   5.500146    10.163966   \n",
       "147     6.569463   9.941070   3.995993   3.628036   8.114911     6.583352   \n",
       "148     6.610460   8.386519   3.702366   4.501794   9.134859     4.503098   \n",
       "149     9.686360   9.495707  11.823017   5.992303   8.246486    10.211326   \n",
       "150     7.189146   9.195663   8.185380   8.677244   7.389548     9.974182   \n",
       "\n",
       "     242579_at  243241_at   37892_at  AFFX-HUMRGE/M10098_5_at  \n",
       "0     7.765471   3.410798   9.247128                14.750905  \n",
       "1     3.953117   3.527696   9.709350                 9.938357  \n",
       "2     8.247427   3.736870   5.286003                13.605901  \n",
       "3     3.756744   3.383925   8.137780                12.146083  \n",
       "4     6.240655   3.530320   9.572701                12.598456  \n",
       "..         ...        ...        ...                      ...  \n",
       "146  11.044550   6.115136  11.126593                 9.923589  \n",
       "147   4.508672   8.058744  10.900590                 9.430705  \n",
       "148   4.429813   5.282924   8.741613                 7.918535  \n",
       "149   6.080322   8.255200  10.176057                 6.612476  \n",
       "150   7.821401   8.191447   9.501738                 8.244619  \n",
       "\n",
       "[151 rows x 135 columns]"
      ]
     },
     "execution_count": 50,
     "metadata": {},
     "output_type": "execute_result"
    }
   ],
   "source": [
    "#Transformacion de los array en df usando los datos del array filtrado por varianzas\n",
    "\n",
    "df_var = pd.DataFrame(data = df_var,\n",
    "                      columns = df_filtrado.columns[vt.get_support()])\n",
    "\n",
    "df_var"
   ]
  },
  {
   "cell_type": "markdown",
   "id": "b81d3045",
   "metadata": {},
   "source": [
    "### **5.Clustering con dataset reducido en dimensionalidad**"
   ]
  },
  {
   "cell_type": "markdown",
   "id": "43d76ff8",
   "metadata": {},
   "source": [
    "### **5.1 Clustering con DBSCAN**"
   ]
  },
  {
   "cell_type": "code",
   "execution_count": 51,
   "id": "7e5bf6d3",
   "metadata": {},
   "outputs": [
    {
     "data": {
      "text/plain": [
       "11.61895003862225"
      ]
     },
     "execution_count": 51,
     "metadata": {},
     "output_type": "execute_result"
    }
   ],
   "source": [
    "# Valor de referencia para el rango maximo del parametro eps en la busqueda por parametros para DBSCAN\n",
    "\n",
    "np.sqrt(135)"
   ]
  },
  {
   "cell_type": "code",
   "execution_count": null,
   "id": "75194aab",
   "metadata": {},
   "outputs": [
    {
     "name": "stdout",
     "output_type": "stream",
     "text": [
      "CPU times: total: 2h 19min 45s\n",
      "Wall time: 2h 7min 1s\n"
     ]
    }
   ],
   "source": [
    "#Busqueda de mejores paramentros DBSCAN para el nuevo df reducido\n",
    "\n",
    "%%time\n",
    "\n",
    "dbscan_params = list()\n",
    "\n",
    "df_var_scaler = MinMaxScaler().fit_transform(df_var) # Normalizacion de datos\n",
    "\n",
    "for eps in np.arange(0.1, 24, 0.1): # Aunque el valor de referencia estimado es 11-12, se duplica para mas opciones\n",
    "    \n",
    "    for min_samples in range(1, 152): # El valor de referencia suele ser 2*n_variables pero 270 es un numero demasiado grande y sin sentido, se limita al tamaño de n_filas\n",
    "        \n",
    "        for metric in [\"euclidean\"]:\n",
    "            \n",
    "            # DBSCAN\n",
    "            dbscan = DBSCAN(eps = eps, min_samples = min_samples, metric = metric)\n",
    "            dbscan.fit(df_var_scaler)\n",
    "            \n",
    "            # Clusters\n",
    "            n_clusters = len(set(dbscan.labels_))\n",
    "            \n",
    "            # Outliers\n",
    "            outliers = 1 if -1 in set(dbscan.labels_) else 0 \n",
    "            \n",
    "            # Score (shilouette score)\n",
    "            try:\n",
    "                sil_score = silhouette_score(X = X, labels = dbscan.labels_) \n",
    "            except:\n",
    "                sil_score = np.nan\n",
    "            \n",
    "            dbscan_params.append([eps, min_samples, metric, sil_score, n_clusters, outliers])"
   ]
  },
  {
   "cell_type": "code",
   "execution_count": null,
   "id": "782d8e8e",
   "metadata": {},
   "outputs": [],
   "source": [
    "# df con los resultados obtenidos\n",
    "\n",
    "dfvar_score = pd.DataFrame(data    = np.array(dbscan_params),\n",
    "                        columns = [\"eps\", \"min_samples\", \"metric\", \"score\", \"n_clusters\", \"outliers\"])"
   ]
  },
  {
   "cell_type": "code",
   "execution_count": null,
   "id": "0cd6f6d2",
   "metadata": {},
   "outputs": [],
   "source": [
    "# Guardar en archivo .csv\n",
    "\n",
    "dfvar_score.to_csv(\"data_dbscanvar2.csv\", index = False)"
   ]
  },
  {
   "cell_type": "code",
   "execution_count": 52,
   "id": "5797261a",
   "metadata": {},
   "outputs": [
    {
     "data": {
      "text/html": [
       "<div>\n",
       "<style scoped>\n",
       "    .dataframe tbody tr th:only-of-type {\n",
       "        vertical-align: middle;\n",
       "    }\n",
       "\n",
       "    .dataframe tbody tr th {\n",
       "        vertical-align: top;\n",
       "    }\n",
       "\n",
       "    .dataframe thead th {\n",
       "        text-align: right;\n",
       "    }\n",
       "</style>\n",
       "<table border=\"1\" class=\"dataframe\">\n",
       "  <thead>\n",
       "    <tr style=\"text-align: right;\">\n",
       "      <th></th>\n",
       "      <th>eps</th>\n",
       "      <th>min_samples</th>\n",
       "      <th>metric</th>\n",
       "      <th>score</th>\n",
       "      <th>n_clusters</th>\n",
       "      <th>outliers</th>\n",
       "    </tr>\n",
       "  </thead>\n",
       "  <tbody>\n",
       "    <tr>\n",
       "      <th>4832</th>\n",
       "      <td>3.3</td>\n",
       "      <td>1</td>\n",
       "      <td>euclidean</td>\n",
       "      <td>0.20144</td>\n",
       "      <td>2</td>\n",
       "      <td>0</td>\n",
       "    </tr>\n",
       "    <tr>\n",
       "      <th>4833</th>\n",
       "      <td>3.3</td>\n",
       "      <td>2</td>\n",
       "      <td>euclidean</td>\n",
       "      <td>0.20144</td>\n",
       "      <td>2</td>\n",
       "      <td>0</td>\n",
       "    </tr>\n",
       "    <tr>\n",
       "      <th>4834</th>\n",
       "      <td>3.3</td>\n",
       "      <td>3</td>\n",
       "      <td>euclidean</td>\n",
       "      <td>0.20144</td>\n",
       "      <td>2</td>\n",
       "      <td>0</td>\n",
       "    </tr>\n",
       "    <tr>\n",
       "      <th>4835</th>\n",
       "      <td>3.3</td>\n",
       "      <td>4</td>\n",
       "      <td>euclidean</td>\n",
       "      <td>0.20144</td>\n",
       "      <td>2</td>\n",
       "      <td>0</td>\n",
       "    </tr>\n",
       "    <tr>\n",
       "      <th>4836</th>\n",
       "      <td>3.3</td>\n",
       "      <td>5</td>\n",
       "      <td>euclidean</td>\n",
       "      <td>0.20144</td>\n",
       "      <td>2</td>\n",
       "      <td>0</td>\n",
       "    </tr>\n",
       "    <tr>\n",
       "      <th>4837</th>\n",
       "      <td>3.3</td>\n",
       "      <td>6</td>\n",
       "      <td>euclidean</td>\n",
       "      <td>0.20144</td>\n",
       "      <td>2</td>\n",
       "      <td>0</td>\n",
       "    </tr>\n",
       "    <tr>\n",
       "      <th>4838</th>\n",
       "      <td>3.3</td>\n",
       "      <td>7</td>\n",
       "      <td>euclidean</td>\n",
       "      <td>0.20144</td>\n",
       "      <td>2</td>\n",
       "      <td>0</td>\n",
       "    </tr>\n",
       "    <tr>\n",
       "      <th>4839</th>\n",
       "      <td>3.3</td>\n",
       "      <td>8</td>\n",
       "      <td>euclidean</td>\n",
       "      <td>0.20144</td>\n",
       "      <td>2</td>\n",
       "      <td>0</td>\n",
       "    </tr>\n",
       "    <tr>\n",
       "      <th>4840</th>\n",
       "      <td>3.3</td>\n",
       "      <td>9</td>\n",
       "      <td>euclidean</td>\n",
       "      <td>0.20144</td>\n",
       "      <td>2</td>\n",
       "      <td>0</td>\n",
       "    </tr>\n",
       "    <tr>\n",
       "      <th>4983</th>\n",
       "      <td>3.4</td>\n",
       "      <td>1</td>\n",
       "      <td>euclidean</td>\n",
       "      <td>0.20144</td>\n",
       "      <td>2</td>\n",
       "      <td>0</td>\n",
       "    </tr>\n",
       "    <tr>\n",
       "      <th>4984</th>\n",
       "      <td>3.4</td>\n",
       "      <td>2</td>\n",
       "      <td>euclidean</td>\n",
       "      <td>0.20144</td>\n",
       "      <td>2</td>\n",
       "      <td>0</td>\n",
       "    </tr>\n",
       "    <tr>\n",
       "      <th>4985</th>\n",
       "      <td>3.4</td>\n",
       "      <td>3</td>\n",
       "      <td>euclidean</td>\n",
       "      <td>0.20144</td>\n",
       "      <td>2</td>\n",
       "      <td>0</td>\n",
       "    </tr>\n",
       "    <tr>\n",
       "      <th>4986</th>\n",
       "      <td>3.4</td>\n",
       "      <td>4</td>\n",
       "      <td>euclidean</td>\n",
       "      <td>0.20144</td>\n",
       "      <td>2</td>\n",
       "      <td>0</td>\n",
       "    </tr>\n",
       "    <tr>\n",
       "      <th>4987</th>\n",
       "      <td>3.4</td>\n",
       "      <td>5</td>\n",
       "      <td>euclidean</td>\n",
       "      <td>0.20144</td>\n",
       "      <td>2</td>\n",
       "      <td>0</td>\n",
       "    </tr>\n",
       "    <tr>\n",
       "      <th>4988</th>\n",
       "      <td>3.4</td>\n",
       "      <td>6</td>\n",
       "      <td>euclidean</td>\n",
       "      <td>0.20144</td>\n",
       "      <td>2</td>\n",
       "      <td>0</td>\n",
       "    </tr>\n",
       "    <tr>\n",
       "      <th>4989</th>\n",
       "      <td>3.4</td>\n",
       "      <td>7</td>\n",
       "      <td>euclidean</td>\n",
       "      <td>0.20144</td>\n",
       "      <td>2</td>\n",
       "      <td>0</td>\n",
       "    </tr>\n",
       "    <tr>\n",
       "      <th>4990</th>\n",
       "      <td>3.4</td>\n",
       "      <td>8</td>\n",
       "      <td>euclidean</td>\n",
       "      <td>0.20144</td>\n",
       "      <td>2</td>\n",
       "      <td>0</td>\n",
       "    </tr>\n",
       "    <tr>\n",
       "      <th>4991</th>\n",
       "      <td>3.4</td>\n",
       "      <td>9</td>\n",
       "      <td>euclidean</td>\n",
       "      <td>0.20144</td>\n",
       "      <td>2</td>\n",
       "      <td>0</td>\n",
       "    </tr>\n",
       "    <tr>\n",
       "      <th>4992</th>\n",
       "      <td>3.4</td>\n",
       "      <td>10</td>\n",
       "      <td>euclidean</td>\n",
       "      <td>0.20144</td>\n",
       "      <td>2</td>\n",
       "      <td>0</td>\n",
       "    </tr>\n",
       "    <tr>\n",
       "      <th>4993</th>\n",
       "      <td>3.4</td>\n",
       "      <td>11</td>\n",
       "      <td>euclidean</td>\n",
       "      <td>0.20144</td>\n",
       "      <td>2</td>\n",
       "      <td>0</td>\n",
       "    </tr>\n",
       "    <tr>\n",
       "      <th>4994</th>\n",
       "      <td>3.4</td>\n",
       "      <td>12</td>\n",
       "      <td>euclidean</td>\n",
       "      <td>0.20144</td>\n",
       "      <td>2</td>\n",
       "      <td>0</td>\n",
       "    </tr>\n",
       "    <tr>\n",
       "      <th>4996</th>\n",
       "      <td>3.4</td>\n",
       "      <td>14</td>\n",
       "      <td>euclidean</td>\n",
       "      <td>0.20144</td>\n",
       "      <td>2</td>\n",
       "      <td>1</td>\n",
       "    </tr>\n",
       "    <tr>\n",
       "      <th>5149</th>\n",
       "      <td>3.5</td>\n",
       "      <td>16</td>\n",
       "      <td>euclidean</td>\n",
       "      <td>0.20144</td>\n",
       "      <td>2</td>\n",
       "      <td>1</td>\n",
       "    </tr>\n",
       "    <tr>\n",
       "      <th>5150</th>\n",
       "      <td>3.5</td>\n",
       "      <td>17</td>\n",
       "      <td>euclidean</td>\n",
       "      <td>0.20144</td>\n",
       "      <td>2</td>\n",
       "      <td>1</td>\n",
       "    </tr>\n",
       "    <tr>\n",
       "      <th>5151</th>\n",
       "      <td>3.5</td>\n",
       "      <td>18</td>\n",
       "      <td>euclidean</td>\n",
       "      <td>0.20144</td>\n",
       "      <td>2</td>\n",
       "      <td>1</td>\n",
       "    </tr>\n",
       "    <tr>\n",
       "      <th>5152</th>\n",
       "      <td>3.5</td>\n",
       "      <td>19</td>\n",
       "      <td>euclidean</td>\n",
       "      <td>0.20144</td>\n",
       "      <td>2</td>\n",
       "      <td>1</td>\n",
       "    </tr>\n",
       "    <tr>\n",
       "      <th>5153</th>\n",
       "      <td>3.5</td>\n",
       "      <td>20</td>\n",
       "      <td>euclidean</td>\n",
       "      <td>0.20144</td>\n",
       "      <td>2</td>\n",
       "      <td>1</td>\n",
       "    </tr>\n",
       "    <tr>\n",
       "      <th>5154</th>\n",
       "      <td>3.5</td>\n",
       "      <td>21</td>\n",
       "      <td>euclidean</td>\n",
       "      <td>0.20144</td>\n",
       "      <td>2</td>\n",
       "      <td>1</td>\n",
       "    </tr>\n",
       "    <tr>\n",
       "      <th>5155</th>\n",
       "      <td>3.5</td>\n",
       "      <td>22</td>\n",
       "      <td>euclidean</td>\n",
       "      <td>0.20144</td>\n",
       "      <td>2</td>\n",
       "      <td>1</td>\n",
       "    </tr>\n",
       "    <tr>\n",
       "      <th>5156</th>\n",
       "      <td>3.5</td>\n",
       "      <td>23</td>\n",
       "      <td>euclidean</td>\n",
       "      <td>0.20144</td>\n",
       "      <td>2</td>\n",
       "      <td>1</td>\n",
       "    </tr>\n",
       "    <tr>\n",
       "      <th>5157</th>\n",
       "      <td>3.5</td>\n",
       "      <td>24</td>\n",
       "      <td>euclidean</td>\n",
       "      <td>0.20144</td>\n",
       "      <td>2</td>\n",
       "      <td>1</td>\n",
       "    </tr>\n",
       "    <tr>\n",
       "      <th>5158</th>\n",
       "      <td>3.5</td>\n",
       "      <td>25</td>\n",
       "      <td>euclidean</td>\n",
       "      <td>0.20144</td>\n",
       "      <td>2</td>\n",
       "      <td>1</td>\n",
       "    </tr>\n",
       "    <tr>\n",
       "      <th>5159</th>\n",
       "      <td>3.5</td>\n",
       "      <td>26</td>\n",
       "      <td>euclidean</td>\n",
       "      <td>0.20144</td>\n",
       "      <td>2</td>\n",
       "      <td>1</td>\n",
       "    </tr>\n",
       "    <tr>\n",
       "      <th>5160</th>\n",
       "      <td>3.5</td>\n",
       "      <td>27</td>\n",
       "      <td>euclidean</td>\n",
       "      <td>0.20144</td>\n",
       "      <td>2</td>\n",
       "      <td>1</td>\n",
       "    </tr>\n",
       "    <tr>\n",
       "      <th>5161</th>\n",
       "      <td>3.5</td>\n",
       "      <td>28</td>\n",
       "      <td>euclidean</td>\n",
       "      <td>0.20144</td>\n",
       "      <td>2</td>\n",
       "      <td>1</td>\n",
       "    </tr>\n",
       "    <tr>\n",
       "      <th>5162</th>\n",
       "      <td>3.5</td>\n",
       "      <td>29</td>\n",
       "      <td>euclidean</td>\n",
       "      <td>0.20144</td>\n",
       "      <td>2</td>\n",
       "      <td>1</td>\n",
       "    </tr>\n",
       "    <tr>\n",
       "      <th>5163</th>\n",
       "      <td>3.5</td>\n",
       "      <td>30</td>\n",
       "      <td>euclidean</td>\n",
       "      <td>0.20144</td>\n",
       "      <td>2</td>\n",
       "      <td>1</td>\n",
       "    </tr>\n",
       "    <tr>\n",
       "      <th>5164</th>\n",
       "      <td>3.5</td>\n",
       "      <td>31</td>\n",
       "      <td>euclidean</td>\n",
       "      <td>0.20144</td>\n",
       "      <td>2</td>\n",
       "      <td>1</td>\n",
       "    </tr>\n",
       "    <tr>\n",
       "      <th>5165</th>\n",
       "      <td>3.5</td>\n",
       "      <td>32</td>\n",
       "      <td>euclidean</td>\n",
       "      <td>0.20144</td>\n",
       "      <td>2</td>\n",
       "      <td>1</td>\n",
       "    </tr>\n",
       "    <tr>\n",
       "      <th>5166</th>\n",
       "      <td>3.5</td>\n",
       "      <td>33</td>\n",
       "      <td>euclidean</td>\n",
       "      <td>0.20144</td>\n",
       "      <td>2</td>\n",
       "      <td>1</td>\n",
       "    </tr>\n",
       "    <tr>\n",
       "      <th>5305</th>\n",
       "      <td>3.6</td>\n",
       "      <td>21</td>\n",
       "      <td>euclidean</td>\n",
       "      <td>0.20144</td>\n",
       "      <td>2</td>\n",
       "      <td>1</td>\n",
       "    </tr>\n",
       "    <tr>\n",
       "      <th>5306</th>\n",
       "      <td>3.6</td>\n",
       "      <td>22</td>\n",
       "      <td>euclidean</td>\n",
       "      <td>0.20144</td>\n",
       "      <td>2</td>\n",
       "      <td>1</td>\n",
       "    </tr>\n",
       "    <tr>\n",
       "      <th>5307</th>\n",
       "      <td>3.6</td>\n",
       "      <td>23</td>\n",
       "      <td>euclidean</td>\n",
       "      <td>0.20144</td>\n",
       "      <td>2</td>\n",
       "      <td>1</td>\n",
       "    </tr>\n",
       "    <tr>\n",
       "      <th>5308</th>\n",
       "      <td>3.6</td>\n",
       "      <td>24</td>\n",
       "      <td>euclidean</td>\n",
       "      <td>0.20144</td>\n",
       "      <td>2</td>\n",
       "      <td>1</td>\n",
       "    </tr>\n",
       "    <tr>\n",
       "      <th>5309</th>\n",
       "      <td>3.6</td>\n",
       "      <td>25</td>\n",
       "      <td>euclidean</td>\n",
       "      <td>0.20144</td>\n",
       "      <td>2</td>\n",
       "      <td>1</td>\n",
       "    </tr>\n",
       "    <tr>\n",
       "      <th>5310</th>\n",
       "      <td>3.6</td>\n",
       "      <td>26</td>\n",
       "      <td>euclidean</td>\n",
       "      <td>0.20144</td>\n",
       "      <td>2</td>\n",
       "      <td>1</td>\n",
       "    </tr>\n",
       "    <tr>\n",
       "      <th>5311</th>\n",
       "      <td>3.6</td>\n",
       "      <td>27</td>\n",
       "      <td>euclidean</td>\n",
       "      <td>0.20144</td>\n",
       "      <td>2</td>\n",
       "      <td>1</td>\n",
       "    </tr>\n",
       "    <tr>\n",
       "      <th>5312</th>\n",
       "      <td>3.6</td>\n",
       "      <td>28</td>\n",
       "      <td>euclidean</td>\n",
       "      <td>0.20144</td>\n",
       "      <td>2</td>\n",
       "      <td>1</td>\n",
       "    </tr>\n",
       "    <tr>\n",
       "      <th>5313</th>\n",
       "      <td>3.6</td>\n",
       "      <td>29</td>\n",
       "      <td>euclidean</td>\n",
       "      <td>0.20144</td>\n",
       "      <td>2</td>\n",
       "      <td>1</td>\n",
       "    </tr>\n",
       "    <tr>\n",
       "      <th>5314</th>\n",
       "      <td>3.6</td>\n",
       "      <td>30</td>\n",
       "      <td>euclidean</td>\n",
       "      <td>0.20144</td>\n",
       "      <td>2</td>\n",
       "      <td>1</td>\n",
       "    </tr>\n",
       "  </tbody>\n",
       "</table>\n",
       "</div>"
      ],
      "text/plain": [
       "      eps  min_samples     metric    score  n_clusters  outliers\n",
       "4832  3.3            1  euclidean  0.20144           2         0\n",
       "4833  3.3            2  euclidean  0.20144           2         0\n",
       "4834  3.3            3  euclidean  0.20144           2         0\n",
       "4835  3.3            4  euclidean  0.20144           2         0\n",
       "4836  3.3            5  euclidean  0.20144           2         0\n",
       "4837  3.3            6  euclidean  0.20144           2         0\n",
       "4838  3.3            7  euclidean  0.20144           2         0\n",
       "4839  3.3            8  euclidean  0.20144           2         0\n",
       "4840  3.3            9  euclidean  0.20144           2         0\n",
       "4983  3.4            1  euclidean  0.20144           2         0\n",
       "4984  3.4            2  euclidean  0.20144           2         0\n",
       "4985  3.4            3  euclidean  0.20144           2         0\n",
       "4986  3.4            4  euclidean  0.20144           2         0\n",
       "4987  3.4            5  euclidean  0.20144           2         0\n",
       "4988  3.4            6  euclidean  0.20144           2         0\n",
       "4989  3.4            7  euclidean  0.20144           2         0\n",
       "4990  3.4            8  euclidean  0.20144           2         0\n",
       "4991  3.4            9  euclidean  0.20144           2         0\n",
       "4992  3.4           10  euclidean  0.20144           2         0\n",
       "4993  3.4           11  euclidean  0.20144           2         0\n",
       "4994  3.4           12  euclidean  0.20144           2         0\n",
       "4996  3.4           14  euclidean  0.20144           2         1\n",
       "5149  3.5           16  euclidean  0.20144           2         1\n",
       "5150  3.5           17  euclidean  0.20144           2         1\n",
       "5151  3.5           18  euclidean  0.20144           2         1\n",
       "5152  3.5           19  euclidean  0.20144           2         1\n",
       "5153  3.5           20  euclidean  0.20144           2         1\n",
       "5154  3.5           21  euclidean  0.20144           2         1\n",
       "5155  3.5           22  euclidean  0.20144           2         1\n",
       "5156  3.5           23  euclidean  0.20144           2         1\n",
       "5157  3.5           24  euclidean  0.20144           2         1\n",
       "5158  3.5           25  euclidean  0.20144           2         1\n",
       "5159  3.5           26  euclidean  0.20144           2         1\n",
       "5160  3.5           27  euclidean  0.20144           2         1\n",
       "5161  3.5           28  euclidean  0.20144           2         1\n",
       "5162  3.5           29  euclidean  0.20144           2         1\n",
       "5163  3.5           30  euclidean  0.20144           2         1\n",
       "5164  3.5           31  euclidean  0.20144           2         1\n",
       "5165  3.5           32  euclidean  0.20144           2         1\n",
       "5166  3.5           33  euclidean  0.20144           2         1\n",
       "5305  3.6           21  euclidean  0.20144           2         1\n",
       "5306  3.6           22  euclidean  0.20144           2         1\n",
       "5307  3.6           23  euclidean  0.20144           2         1\n",
       "5308  3.6           24  euclidean  0.20144           2         1\n",
       "5309  3.6           25  euclidean  0.20144           2         1\n",
       "5310  3.6           26  euclidean  0.20144           2         1\n",
       "5311  3.6           27  euclidean  0.20144           2         1\n",
       "5312  3.6           28  euclidean  0.20144           2         1\n",
       "5313  3.6           29  euclidean  0.20144           2         1\n",
       "5314  3.6           30  euclidean  0.20144           2         1"
      ]
     },
     "execution_count": 52,
     "metadata": {},
     "output_type": "execute_result"
    }
   ],
   "source": [
    "# parametros optimos con DBSCAN\n",
    "\n",
    "dfvar_score = pd.read_csv(\"data_dbscanvar2.csv\")\n",
    "\n",
    "dfvar_score= dfvar_score.sort_values(by = [ \"score\",\"n_clusters\" ], ascending = False)\n",
    "dfvar_score.head(50)"
   ]
  },
  {
   "cell_type": "code",
   "execution_count": 53,
   "id": "2fd71e62",
   "metadata": {},
   "outputs": [],
   "source": [
    "#Normalizacion datos\n",
    "\n",
    "df_var_scaler = MinMaxScaler().fit_transform(df_var) "
   ]
  },
  {
   "cell_type": "code",
   "execution_count": 54,
   "id": "78ee43b7",
   "metadata": {},
   "outputs": [
    {
     "data": {
      "text/html": [
       "<style>#sk-container-id-3 {color: black;background-color: white;}#sk-container-id-3 pre{padding: 0;}#sk-container-id-3 div.sk-toggleable {background-color: white;}#sk-container-id-3 label.sk-toggleable__label {cursor: pointer;display: block;width: 100%;margin-bottom: 0;padding: 0.3em;box-sizing: border-box;text-align: center;}#sk-container-id-3 label.sk-toggleable__label-arrow:before {content: \"▸\";float: left;margin-right: 0.25em;color: #696969;}#sk-container-id-3 label.sk-toggleable__label-arrow:hover:before {color: black;}#sk-container-id-3 div.sk-estimator:hover label.sk-toggleable__label-arrow:before {color: black;}#sk-container-id-3 div.sk-toggleable__content {max-height: 0;max-width: 0;overflow: hidden;text-align: left;background-color: #f0f8ff;}#sk-container-id-3 div.sk-toggleable__content pre {margin: 0.2em;color: black;border-radius: 0.25em;background-color: #f0f8ff;}#sk-container-id-3 input.sk-toggleable__control:checked~div.sk-toggleable__content {max-height: 200px;max-width: 100%;overflow: auto;}#sk-container-id-3 input.sk-toggleable__control:checked~label.sk-toggleable__label-arrow:before {content: \"▾\";}#sk-container-id-3 div.sk-estimator input.sk-toggleable__control:checked~label.sk-toggleable__label {background-color: #d4ebff;}#sk-container-id-3 div.sk-label input.sk-toggleable__control:checked~label.sk-toggleable__label {background-color: #d4ebff;}#sk-container-id-3 input.sk-hidden--visually {border: 0;clip: rect(1px 1px 1px 1px);clip: rect(1px, 1px, 1px, 1px);height: 1px;margin: -1px;overflow: hidden;padding: 0;position: absolute;width: 1px;}#sk-container-id-3 div.sk-estimator {font-family: monospace;background-color: #f0f8ff;border: 1px dotted black;border-radius: 0.25em;box-sizing: border-box;margin-bottom: 0.5em;}#sk-container-id-3 div.sk-estimator:hover {background-color: #d4ebff;}#sk-container-id-3 div.sk-parallel-item::after {content: \"\";width: 100%;border-bottom: 1px solid gray;flex-grow: 1;}#sk-container-id-3 div.sk-label:hover label.sk-toggleable__label {background-color: #d4ebff;}#sk-container-id-3 div.sk-serial::before {content: \"\";position: absolute;border-left: 1px solid gray;box-sizing: border-box;top: 0;bottom: 0;left: 50%;z-index: 0;}#sk-container-id-3 div.sk-serial {display: flex;flex-direction: column;align-items: center;background-color: white;padding-right: 0.2em;padding-left: 0.2em;position: relative;}#sk-container-id-3 div.sk-item {position: relative;z-index: 1;}#sk-container-id-3 div.sk-parallel {display: flex;align-items: stretch;justify-content: center;background-color: white;position: relative;}#sk-container-id-3 div.sk-item::before, #sk-container-id-3 div.sk-parallel-item::before {content: \"\";position: absolute;border-left: 1px solid gray;box-sizing: border-box;top: 0;bottom: 0;left: 50%;z-index: -1;}#sk-container-id-3 div.sk-parallel-item {display: flex;flex-direction: column;z-index: 1;position: relative;background-color: white;}#sk-container-id-3 div.sk-parallel-item:first-child::after {align-self: flex-end;width: 50%;}#sk-container-id-3 div.sk-parallel-item:last-child::after {align-self: flex-start;width: 50%;}#sk-container-id-3 div.sk-parallel-item:only-child::after {width: 0;}#sk-container-id-3 div.sk-dashed-wrapped {border: 1px dashed gray;margin: 0 0.4em 0.5em 0.4em;box-sizing: border-box;padding-bottom: 0.4em;background-color: white;}#sk-container-id-3 div.sk-label label {font-family: monospace;font-weight: bold;display: inline-block;line-height: 1.2em;}#sk-container-id-3 div.sk-label-container {text-align: center;}#sk-container-id-3 div.sk-container {/* jupyter's `normalize.less` sets `[hidden] { display: none; }` but bootstrap.min.css set `[hidden] { display: none !important; }` so we also need the `!important` here to be able to override the default hidden behavior on the sphinx rendered scikit-learn.org. See: https://github.com/scikit-learn/scikit-learn/issues/21755 */display: inline-block !important;position: relative;}#sk-container-id-3 div.sk-text-repr-fallback {display: none;}</style><div id=\"sk-container-id-3\" class=\"sk-top-container\"><div class=\"sk-text-repr-fallback\"><pre>DBSCAN(eps=3.3, min_samples=9)</pre><b>In a Jupyter environment, please rerun this cell to show the HTML representation or trust the notebook. <br />On GitHub, the HTML representation is unable to render, please try loading this page with nbviewer.org.</b></div><div class=\"sk-container\" hidden><div class=\"sk-item\"><div class=\"sk-estimator sk-toggleable\"><input class=\"sk-toggleable__control sk-hidden--visually\" id=\"sk-estimator-id-3\" type=\"checkbox\" checked><label for=\"sk-estimator-id-3\" class=\"sk-toggleable__label sk-toggleable__label-arrow\">DBSCAN</label><div class=\"sk-toggleable__content\"><pre>DBSCAN(eps=3.3, min_samples=9)</pre></div></div></div></div></div>"
      ],
      "text/plain": [
       "DBSCAN(eps=3.3, min_samples=9)"
      ]
     },
     "execution_count": 54,
     "metadata": {},
     "output_type": "execute_result"
    }
   ],
   "source": [
    "# Mejores valores sin outliers eps 3.3, min_samples 9\n",
    "\n",
    "dbscan = DBSCAN(eps = 3.3, min_samples= 9, metric= \"euclidean\") \n",
    "dbscan.fit(df_var_scaler)"
   ]
  },
  {
   "cell_type": "code",
   "execution_count": 55,
   "id": "7b8af2fa",
   "metadata": {},
   "outputs": [
    {
     "data": {
      "text/plain": [
       "array([0, 0, 0, 0, 0, 0, 0, 0, 0, 0, 0, 0, 0, 0, 0, 0, 0, 0, 0, 0, 0, 0,\n",
       "       0, 0, 0, 0, 0, 0, 0, 0, 0, 0, 0, 0, 0, 0, 0, 0, 0, 0, 0, 0, 0, 0,\n",
       "       0, 0, 0, 0, 0, 0, 0, 0, 0, 0, 0, 0, 0, 0, 0, 0, 0, 0, 0, 0, 0, 0,\n",
       "       0, 0, 0, 0, 0, 1, 1, 1, 1, 1, 1, 1, 1, 1, 1, 1, 1, 1, 1, 0, 0, 0,\n",
       "       0, 0, 0, 0, 0, 0, 0, 0, 0, 0, 0, 0, 0, 0, 0, 0, 0, 0, 0, 0, 0, 0,\n",
       "       0, 0, 0, 0, 0, 0, 0, 0, 0, 0, 0, 0, 0, 0, 0, 0, 0, 0, 0, 0, 0, 0,\n",
       "       0, 0, 0, 0, 0, 0, 0, 0, 0, 0, 0, 0, 0, 0, 0, 0, 0, 0, 0],\n",
       "      dtype=int64)"
      ]
     },
     "execution_count": 55,
     "metadata": {},
     "output_type": "execute_result"
    }
   ],
   "source": [
    "dbscan.labels_"
   ]
  },
  {
   "cell_type": "code",
   "execution_count": 56,
   "id": "cbd2563b",
   "metadata": {},
   "outputs": [
    {
     "data": {
      "text/plain": [
       "Counter({0: 137, 1: 14})"
      ]
     },
     "execution_count": 56,
     "metadata": {},
     "output_type": "execute_result"
    }
   ],
   "source": [
    "# Obtencion de solo 2 clusters nuevamente\n",
    "\n",
    "Counter(dbscan.labels_) "
   ]
  },
  {
   "cell_type": "markdown",
   "id": "0c7437a2",
   "metadata": {},
   "source": [
    " **Conclusion**: \n",
    "  - el clustering con DBSCAN mejora ligeramente al incluir mas elementos en el cluster minoritario, aunque sigue sin parecerse a la variable target real\n",
    "  "
   ]
  },
  {
   "cell_type": "code",
   "execution_count": null,
   "id": "c49eee66",
   "metadata": {},
   "outputs": [],
   "source": [
    "########################################################################################################"
   ]
  },
  {
   "cell_type": "markdown",
   "id": "ba187ec5",
   "metadata": {},
   "source": [
    "### **5.2 Clustering con K-Means**"
   ]
  },
  {
   "cell_type": "code",
   "execution_count": 57,
   "id": "65da767b",
   "metadata": {},
   "outputs": [
    {
     "name": "stderr",
     "output_type": "stream",
     "text": [
      "c:\\Users\\mary_\\anaconda3\\Lib\\site-packages\\sklearn\\cluster\\_kmeans.py:870: FutureWarning:\n",
      "\n",
      "The default value of `n_init` will change from 10 to 'auto' in 1.4. Set the value of `n_init` explicitly to suppress the warning\n",
      "\n",
      "c:\\Users\\mary_\\anaconda3\\Lib\\site-packages\\sklearn\\cluster\\_kmeans.py:1382: UserWarning:\n",
      "\n",
      "KMeans is known to have a memory leak on Windows with MKL, when there are less chunks than available threads. You can avoid it by setting the environment variable OMP_NUM_THREADS=1.\n",
      "\n"
     ]
    },
    {
     "data": {
      "text/html": [
       "<style>#sk-container-id-4 {color: black;background-color: white;}#sk-container-id-4 pre{padding: 0;}#sk-container-id-4 div.sk-toggleable {background-color: white;}#sk-container-id-4 label.sk-toggleable__label {cursor: pointer;display: block;width: 100%;margin-bottom: 0;padding: 0.3em;box-sizing: border-box;text-align: center;}#sk-container-id-4 label.sk-toggleable__label-arrow:before {content: \"▸\";float: left;margin-right: 0.25em;color: #696969;}#sk-container-id-4 label.sk-toggleable__label-arrow:hover:before {color: black;}#sk-container-id-4 div.sk-estimator:hover label.sk-toggleable__label-arrow:before {color: black;}#sk-container-id-4 div.sk-toggleable__content {max-height: 0;max-width: 0;overflow: hidden;text-align: left;background-color: #f0f8ff;}#sk-container-id-4 div.sk-toggleable__content pre {margin: 0.2em;color: black;border-radius: 0.25em;background-color: #f0f8ff;}#sk-container-id-4 input.sk-toggleable__control:checked~div.sk-toggleable__content {max-height: 200px;max-width: 100%;overflow: auto;}#sk-container-id-4 input.sk-toggleable__control:checked~label.sk-toggleable__label-arrow:before {content: \"▾\";}#sk-container-id-4 div.sk-estimator input.sk-toggleable__control:checked~label.sk-toggleable__label {background-color: #d4ebff;}#sk-container-id-4 div.sk-label input.sk-toggleable__control:checked~label.sk-toggleable__label {background-color: #d4ebff;}#sk-container-id-4 input.sk-hidden--visually {border: 0;clip: rect(1px 1px 1px 1px);clip: rect(1px, 1px, 1px, 1px);height: 1px;margin: -1px;overflow: hidden;padding: 0;position: absolute;width: 1px;}#sk-container-id-4 div.sk-estimator {font-family: monospace;background-color: #f0f8ff;border: 1px dotted black;border-radius: 0.25em;box-sizing: border-box;margin-bottom: 0.5em;}#sk-container-id-4 div.sk-estimator:hover {background-color: #d4ebff;}#sk-container-id-4 div.sk-parallel-item::after {content: \"\";width: 100%;border-bottom: 1px solid gray;flex-grow: 1;}#sk-container-id-4 div.sk-label:hover label.sk-toggleable__label {background-color: #d4ebff;}#sk-container-id-4 div.sk-serial::before {content: \"\";position: absolute;border-left: 1px solid gray;box-sizing: border-box;top: 0;bottom: 0;left: 50%;z-index: 0;}#sk-container-id-4 div.sk-serial {display: flex;flex-direction: column;align-items: center;background-color: white;padding-right: 0.2em;padding-left: 0.2em;position: relative;}#sk-container-id-4 div.sk-item {position: relative;z-index: 1;}#sk-container-id-4 div.sk-parallel {display: flex;align-items: stretch;justify-content: center;background-color: white;position: relative;}#sk-container-id-4 div.sk-item::before, #sk-container-id-4 div.sk-parallel-item::before {content: \"\";position: absolute;border-left: 1px solid gray;box-sizing: border-box;top: 0;bottom: 0;left: 50%;z-index: -1;}#sk-container-id-4 div.sk-parallel-item {display: flex;flex-direction: column;z-index: 1;position: relative;background-color: white;}#sk-container-id-4 div.sk-parallel-item:first-child::after {align-self: flex-end;width: 50%;}#sk-container-id-4 div.sk-parallel-item:last-child::after {align-self: flex-start;width: 50%;}#sk-container-id-4 div.sk-parallel-item:only-child::after {width: 0;}#sk-container-id-4 div.sk-dashed-wrapped {border: 1px dashed gray;margin: 0 0.4em 0.5em 0.4em;box-sizing: border-box;padding-bottom: 0.4em;background-color: white;}#sk-container-id-4 div.sk-label label {font-family: monospace;font-weight: bold;display: inline-block;line-height: 1.2em;}#sk-container-id-4 div.sk-label-container {text-align: center;}#sk-container-id-4 div.sk-container {/* jupyter's `normalize.less` sets `[hidden] { display: none; }` but bootstrap.min.css set `[hidden] { display: none !important; }` so we also need the `!important` here to be able to override the default hidden behavior on the sphinx rendered scikit-learn.org. See: https://github.com/scikit-learn/scikit-learn/issues/21755 */display: inline-block !important;position: relative;}#sk-container-id-4 div.sk-text-repr-fallback {display: none;}</style><div id=\"sk-container-id-4\" class=\"sk-top-container\"><div class=\"sk-text-repr-fallback\"><pre>KMeans(n_clusters=6, random_state=42)</pre><b>In a Jupyter environment, please rerun this cell to show the HTML representation or trust the notebook. <br />On GitHub, the HTML representation is unable to render, please try loading this page with nbviewer.org.</b></div><div class=\"sk-container\" hidden><div class=\"sk-item\"><div class=\"sk-estimator sk-toggleable\"><input class=\"sk-toggleable__control sk-hidden--visually\" id=\"sk-estimator-id-4\" type=\"checkbox\" checked><label for=\"sk-estimator-id-4\" class=\"sk-toggleable__label sk-toggleable__label-arrow\">KMeans</label><div class=\"sk-toggleable__content\"><pre>KMeans(n_clusters=6, random_state=42)</pre></div></div></div></div></div>"
      ],
      "text/plain": [
       "KMeans(n_clusters=6, random_state=42)"
      ]
     },
     "execution_count": 57,
     "metadata": {},
     "output_type": "execute_result"
    }
   ],
   "source": [
    "kmeans = KMeans(n_clusters = 6, random_state = 42)\n",
    "\n",
    "kmeans.fit(df_var_scaler)"
   ]
  },
  {
   "cell_type": "code",
   "execution_count": 58,
   "id": "8ddfa428",
   "metadata": {},
   "outputs": [
    {
     "data": {
      "text/plain": [
       "array([1, 1, 1, 1, 1, 1, 1, 1, 1, 1, 1, 1, 0, 1, 1, 1, 1, 1, 1, 1, 1, 1,\n",
       "       1, 1, 1, 1, 0, 1, 1, 1, 1, 1, 1, 1, 1, 1, 5, 1, 1, 1, 1, 0, 0, 0,\n",
       "       0, 0, 0, 0, 0, 0, 0, 0, 5, 0, 0, 0, 0, 0, 0, 0, 0, 0, 0, 0, 0, 1,\n",
       "       1, 0, 0, 5, 0, 3, 3, 3, 3, 3, 3, 3, 3, 3, 3, 3, 3, 3, 3, 4, 4, 4,\n",
       "       4, 4, 4, 4, 2, 2, 2, 2, 2, 5, 2, 2, 5, 2, 5, 2, 2, 2, 2, 5, 2, 2,\n",
       "       2, 2, 5, 2, 2, 5, 2, 5, 2, 2, 5, 5, 5, 5, 5, 5, 5, 5, 5, 5, 5, 5,\n",
       "       5, 2, 5, 5, 5, 0, 0, 5, 5, 5, 5, 5, 0, 0, 5, 5, 5, 5, 0])"
      ]
     },
     "execution_count": 58,
     "metadata": {},
     "output_type": "execute_result"
    }
   ],
   "source": [
    "kmeans.labels_"
   ]
  },
  {
   "cell_type": "code",
   "execution_count": 59,
   "id": "5fe9a3e1",
   "metadata": {},
   "outputs": [
    {
     "data": {
      "text/plain": [
       "array([[0.63024894, 0.54879284, 0.78680093, 0.51670918, 0.81267041,\n",
       "        0.4335184 , 0.75552058, 0.53057904, 0.88054056, 0.8793531 ,\n",
       "        0.64020532, 0.21648876, 0.24652914, 0.4597088 , 0.90153955,\n",
       "        0.90827627, 0.78252521, 0.4494464 , 0.66833333, 0.60044832,\n",
       "        0.63811565, 0.51435938, 0.30089032, 0.50482459, 0.72668442,\n",
       "        0.71734196, 0.61550385, 0.64983898, 0.40972381, 0.45400298,\n",
       "        0.7992231 , 0.45339117, 0.66736603, 0.30745159, 0.18348984,\n",
       "        0.22257862, 0.37145836, 0.67049931, 0.31008549, 0.3605503 ,\n",
       "        0.49786211, 0.08391364, 0.08274672, 0.56325724, 0.50516794,\n",
       "        0.57818384, 0.73244826, 0.6632436 , 0.54462097, 0.44990251,\n",
       "        0.58347653, 0.35953739, 0.13883944, 0.36043841, 0.80445156,\n",
       "        0.74323053, 0.32217484, 0.76330132, 0.24634397, 0.54942694,\n",
       "        0.42046093, 0.35728997, 0.24975085, 0.1737422 , 0.77555286,\n",
       "        0.26608604, 0.89770967, 0.51783014, 0.87438358, 0.84085318,\n",
       "        0.63056949, 0.59691723, 0.6465303 , 0.45293304, 0.68227169,\n",
       "        0.74488836, 0.26739629, 0.51132339, 0.78822431, 0.40567239,\n",
       "        0.69471861, 0.26078023, 0.8500904 , 0.54492413, 0.78753707,\n",
       "        0.92859595, 0.80628074, 0.66055496, 0.81894911, 0.2441971 ,\n",
       "        0.77730959, 0.7808854 , 0.7396221 , 0.62227125, 0.44288716,\n",
       "        0.29055343, 0.70603849, 0.29475184, 0.5132329 , 0.70113409,\n",
       "        0.30809367, 0.85718659, 0.85977398, 0.17223358, 0.43880206,\n",
       "        0.76696339, 0.46555599, 0.78048015, 0.42977512, 0.06840075,\n",
       "        0.44709042, 0.86762693, 0.24779696, 0.69631163, 0.28115699,\n",
       "        0.42909342, 0.5145965 , 0.20265169, 0.29263126, 0.1107788 ,\n",
       "        0.68123646, 0.11607104, 0.23130009, 0.1891668 , 0.26177492,\n",
       "        0.53374353, 0.74852821, 0.41950846, 0.55646193, 0.46676371,\n",
       "        0.61589156, 0.21310282, 0.11800635, 0.74469451, 0.52540721],\n",
       "       [0.08233598, 0.03815941, 0.21273483, 0.52939241, 0.67819494,\n",
       "        0.42088652, 0.68756629, 0.28112953, 0.79072238, 0.79427193,\n",
       "        0.58084082, 0.59019406, 0.68061456, 0.57570295, 0.81343229,\n",
       "        0.82542241, 0.6258833 , 0.37582528, 0.49618397, 0.12604104,\n",
       "        0.63956109, 0.29407793, 0.25607003, 0.71239086, 0.59508755,\n",
       "        0.47776212, 0.5107526 , 0.74402393, 0.21551798, 0.08222548,\n",
       "        0.16004366, 0.43299006, 0.57555352, 0.05998433, 0.41975456,\n",
       "        0.75815837, 0.36429216, 0.46330781, 0.22034325, 0.16955089,\n",
       "        0.52890716, 0.26255295, 0.02481238, 0.3584679 , 0.68128712,\n",
       "        0.34673595, 0.49600025, 0.08186527, 0.09908988, 0.56302121,\n",
       "        0.12999808, 0.08055882, 0.11790708, 0.06252421, 0.80179292,\n",
       "        0.13571175, 0.45084077, 0.51206114, 0.45446389, 0.60713259,\n",
       "        0.74165987, 0.70339325, 0.15855894, 0.1321469 , 0.81354781,\n",
       "        0.23360393, 0.81087349, 0.57427383, 0.78626199, 0.84444973,\n",
       "        0.62822792, 0.61255713, 0.16018907, 0.48797956, 0.6513622 ,\n",
       "        0.76836753, 0.52192107, 0.61850655, 0.78987788, 0.05816193,\n",
       "        0.12048788, 0.22706496, 0.84767176, 0.54044551, 0.23973561,\n",
       "        0.85986499, 0.80319517, 0.66682281, 0.81513313, 0.51051729,\n",
       "        0.23872331, 0.68804485, 0.45801469, 0.09023342, 0.41537027,\n",
       "        0.57345901, 0.52918463, 0.11565578, 0.08802024, 0.53427837,\n",
       "        0.62557775, 0.83878735, 0.84166376, 0.40888553, 0.39629114,\n",
       "        0.57425312, 0.5793696 , 0.65061122, 0.18454912, 0.64845496,\n",
       "        0.09908177, 0.84861651, 0.18620544, 0.17291636, 0.18080173,\n",
       "        0.38625817, 0.1647779 , 0.15816236, 0.06852217, 0.06191367,\n",
       "        0.13187047, 0.55482785, 0.12247076, 0.20412779, 0.11903334,\n",
       "        0.54870289, 0.11469337, 0.07497676, 0.07540222, 0.54742044,\n",
       "        0.14660152, 0.2240744 , 0.03843041, 0.60820034, 0.58580025],\n",
       "       [0.62916064, 0.54579503, 0.53501768, 0.41895423, 0.87673171,\n",
       "        0.09207932, 0.92572132, 0.61087542, 0.93141886, 0.93422093,\n",
       "        0.64031864, 0.42132749, 0.49990526, 0.76425769, 0.93930208,\n",
       "        0.95888547, 0.187951  , 0.43417597, 0.10497317, 0.25693175,\n",
       "        0.49054104, 0.80808918, 0.48269799, 0.44699884, 0.68266516,\n",
       "        0.33220539, 0.15329291, 0.45332   , 0.11769   , 0.48801858,\n",
       "        0.8584953 , 0.14748454, 0.15114062, 0.5684679 , 0.07755946,\n",
       "        0.36587175, 0.20327578, 0.77678724, 0.76690199, 0.57237678,\n",
       "        0.39716314, 0.53967058, 0.21509389, 0.7256337 , 0.47564528,\n",
       "        0.08563101, 0.77878722, 0.30821023, 0.62295286, 0.32968128,\n",
       "        0.61110286, 0.45131405, 0.27986498, 0.06897917, 0.80399834,\n",
       "        0.76582997, 0.45669574, 0.85237193, 0.52822709, 0.56790506,\n",
       "        0.42272096, 0.35821952, 0.15732467, 0.41133493, 0.69895796,\n",
       "        0.04374815, 0.94201254, 0.29364329, 0.93253041, 0.76716934,\n",
       "        0.5746538 , 0.54595452, 0.28396284, 0.4348224 , 0.79411849,\n",
       "        0.70940055, 0.29025388, 0.47117724, 0.73805185, 0.45133659,\n",
       "        0.72333673, 0.03590594, 0.85153419, 0.46070297, 0.60638048,\n",
       "        0.97137615, 0.80809432, 0.62258939, 0.82181045, 0.0542017 ,\n",
       "        0.60532987, 0.88594563, 0.80742145, 0.26750175, 0.71377903,\n",
       "        0.34960276, 0.88879879, 0.72806546, 0.63094382, 0.17347807,\n",
       "        0.28139474, 0.85861163, 0.86410895, 0.16808876, 0.71728957,\n",
       "        0.8933701 , 0.1062541 , 0.94391254, 0.58908189, 0.0441125 ,\n",
       "        0.77623202, 0.86795044, 0.38549522, 0.77561856, 0.71937405,\n",
       "        0.13220504, 0.65401924, 0.6423038 , 0.77440502, 0.61131897,\n",
       "        0.80860622, 0.13056668, 0.64234437, 0.49850847, 0.66270484,\n",
       "        0.44647099, 0.83004151, 0.83985507, 0.57373426, 0.75054002,\n",
       "        0.70088156, 0.45529784, 0.58137412, 0.69534368, 0.19139258],\n",
       "       [0.05409334, 0.06680474, 0.15206209, 0.0520011 , 0.13252032,\n",
       "        0.23391231, 0.04880435, 0.08884593, 0.16966359, 0.19263141,\n",
       "        0.18755207, 0.36862967, 0.42776844, 0.43052793, 0.21358259,\n",
       "        0.16068472, 0.45833967, 0.06241204, 0.47257098, 0.19892132,\n",
       "        0.05724025, 0.34273893, 0.08105225, 0.28978199, 0.07588262,\n",
       "        0.51827376, 0.0965409 , 0.15448375, 0.55320455, 0.10204569,\n",
       "        0.34210701, 0.27639355, 0.22775399, 0.07002758, 0.07247701,\n",
       "        0.27869871, 0.63154501, 0.23278007, 0.16310153, 0.38605421,\n",
       "        0.04544825, 0.09402619, 0.06113565, 0.0966709 , 0.12576341,\n",
       "        0.27882795, 0.07926027, 0.25859032, 0.0517023 , 0.46192934,\n",
       "        0.14784308, 0.06218546, 0.04914721, 0.07932788, 0.05343289,\n",
       "        0.28824845, 0.21054558, 0.31929147, 0.38408163, 0.11912595,\n",
       "        0.32018959, 0.31016727, 0.07411232, 0.05686722, 0.11787972,\n",
       "        0.33780066, 0.13867817, 0.12238836, 0.16118084, 0.04706253,\n",
       "        0.12843334, 0.0771672 , 0.22690035, 0.46704156, 0.07459911,\n",
       "        0.03952682, 0.35295077, 0.05680325, 0.05450697, 0.28017367,\n",
       "        0.07156027, 0.33910661, 0.10953155, 0.05006467, 0.04786277,\n",
       "        0.21761427, 0.07303569, 0.04724291, 0.07533076, 0.37401619,\n",
       "        0.04580043, 0.05473587, 0.06821397, 0.24136151, 0.17979185,\n",
       "        0.27102125, 0.06835847, 0.06310338, 0.2640699 , 0.27558162,\n",
       "        0.19680183, 0.06497695, 0.0834784 , 0.51461202, 0.15769171,\n",
       "        0.1469918 , 0.87196453, 0.14646607, 0.46257712, 0.41914913,\n",
       "        0.09333895, 0.070532  , 0.09863979, 0.15017189, 0.17165349,\n",
       "        0.26929953, 0.25297237, 0.09220735, 0.05707562, 0.06851525,\n",
       "        0.199964  , 0.09595524, 0.09330118, 0.19753277, 0.06979428,\n",
       "        0.06212878, 0.26722624, 0.04928713, 0.1323988 , 0.1050983 ,\n",
       "        0.3182655 , 0.165582  , 0.05269521, 0.05976255, 0.19780023],\n",
       "       [0.47196716, 0.18942914, 0.81392739, 0.10025903, 0.45557943,\n",
       "        0.18281147, 0.96434516, 0.82293082, 0.87323006, 0.7518656 ,\n",
       "        0.74608037, 0.87167567, 0.91717599, 0.66354905, 0.79568861,\n",
       "        0.73519631, 0.24368744, 0.19527637, 0.17192274, 0.12319828,\n",
       "        0.19013077, 0.61349882, 0.88664139, 0.6843281 , 0.18532754,\n",
       "        0.07601735, 0.03990482, 0.18243809, 0.07480441, 0.45565011,\n",
       "        0.50421574, 0.20558469, 0.17261759, 0.47130089, 0.35276659,\n",
       "        0.73907237, 0.31998256, 0.55500912, 0.57677601, 0.53959231,\n",
       "        0.3361033 , 0.51940779, 0.19729971, 0.11955761, 0.31291204,\n",
       "        0.07030405, 0.12557934, 0.14639015, 0.78456116, 0.2837363 ,\n",
       "        0.78424221, 0.6892721 , 0.78258513, 0.07538712, 0.74197575,\n",
       "        0.58513901, 0.60372669, 0.87045874, 0.81784731, 0.53140554,\n",
       "        0.55970922, 0.50650188, 0.53754012, 0.80586352, 0.47456892,\n",
       "        0.09331867, 0.74397367, 0.05184013, 0.80668394, 0.59556642,\n",
       "        0.40614669, 0.33612892, 0.1506569 , 0.51735002, 0.77268437,\n",
       "        0.46993533, 0.4189033 , 0.34911764, 0.54735675, 0.22145857,\n",
       "        0.64481339, 0.08190077, 0.80412092, 0.35920585, 0.43625639,\n",
       "        0.8396232 , 0.75921608, 0.43162311, 0.76098274, 0.19039108,\n",
       "        0.41330153, 0.90034565, 0.06545476, 0.15875856, 0.75343074,\n",
       "        0.39744234, 0.50845844, 0.517396  , 0.3364963 , 0.37424393,\n",
       "        0.67484983, 0.80816062, 0.80993972, 0.33118902, 0.70204224,\n",
       "        0.76276176, 0.26196273, 0.72333541, 0.46538488, 0.02174286,\n",
       "        0.39413057, 0.81166788, 0.86554632, 0.66194697, 0.5628258 ,\n",
       "        0.24395226, 0.47660231, 0.30986973, 0.45076209, 0.49465207,\n",
       "        0.51530307, 0.30124429, 0.62167919, 0.13067921, 0.45546408,\n",
       "        0.33037003, 0.32310615, 0.65279436, 0.35410768, 0.60031513,\n",
       "        0.40155614, 0.14354689, 0.22508696, 0.18439508, 0.30987767],\n",
       "       [0.28799191, 0.29689148, 0.3569914 , 0.32768176, 0.80348316,\n",
       "        0.14764031, 0.80277587, 0.47215359, 0.88274322, 0.87393241,\n",
       "        0.30422538, 0.15591521, 0.18302954, 0.67298382, 0.89221363,\n",
       "        0.91376457, 0.32099663, 0.36243033, 0.19848163, 0.54969001,\n",
       "        0.49595523, 0.78075704, 0.37609646, 0.23573491, 0.68838696,\n",
       "        0.52411213, 0.32691266, 0.52918279, 0.14398117, 0.66356151,\n",
       "        0.86412013, 0.19130175, 0.27119351, 0.60379607, 0.04154276,\n",
       "        0.18426484, 0.30577356, 0.80086954, 0.75586205, 0.46954177,\n",
       "        0.33588216, 0.44138066, 0.30221347, 0.60851137, 0.39928388,\n",
       "        0.12573078, 0.69921852, 0.10069733, 0.51960061, 0.24370353,\n",
       "        0.48559831, 0.35793015, 0.18404942, 0.22286663, 0.68114236,\n",
       "        0.86751419, 0.39013205, 0.74151178, 0.25197015, 0.46192131,\n",
       "        0.31705443, 0.25762937, 0.06040303, 0.20281485, 0.72557497,\n",
       "        0.11707041, 0.90834118, 0.35422297, 0.87523914, 0.73886773,\n",
       "        0.44519421, 0.40243481, 0.59297045, 0.49435057, 0.55911691,\n",
       "        0.67805171, 0.1827864 , 0.39129788, 0.72177725, 0.4078558 ,\n",
       "        0.34777445, 0.11663411, 0.74672747, 0.32227658, 0.72646335,\n",
       "        0.92537932, 0.68617644, 0.47752897, 0.69999462, 0.06315323,\n",
       "        0.7151101 , 0.69800845, 0.70990138, 0.08590032, 0.57808437,\n",
       "        0.30157076, 0.72321512, 0.48920512, 0.39848509, 0.3114765 ,\n",
       "        0.23474644, 0.72586598, 0.73192129, 0.07979369, 0.57430249,\n",
       "        0.7801459 , 0.12967379, 0.82145118, 0.67978763, 0.04004099,\n",
       "        0.51636189, 0.73596541, 0.1658006 , 0.69321036, 0.66800184,\n",
       "        0.18993556, 0.41648224, 0.38742093, 0.82924751, 0.38979083,\n",
       "        0.77307836, 0.08524382, 0.50955404, 0.54812575, 0.61455471,\n",
       "        0.3900916 , 0.79868348, 0.56635825, 0.29942008, 0.52558761,\n",
       "        0.47365951, 0.53726301, 0.51789981, 0.70270221, 0.27139246]])"
      ]
     },
     "execution_count": 59,
     "metadata": {},
     "output_type": "execute_result"
    }
   ],
   "source": [
    "kmeans.cluster_centers_"
   ]
  },
  {
   "cell_type": "code",
   "execution_count": 60,
   "id": "7cf95d5b",
   "metadata": {},
   "outputs": [
    {
     "data": {
      "text/plain": [
       "746.3604965080206"
      ]
     },
     "execution_count": 60,
     "metadata": {},
     "output_type": "execute_result"
    }
   ],
   "source": [
    "kmeans.inertia_"
   ]
  },
  {
   "cell_type": "code",
   "execution_count": 62,
   "id": "358c5b93",
   "metadata": {},
   "outputs": [
    {
     "data": {
      "text/html": [
       "<div>\n",
       "<style scoped>\n",
       "    .dataframe tbody tr th:only-of-type {\n",
       "        vertical-align: middle;\n",
       "    }\n",
       "\n",
       "    .dataframe tbody tr th {\n",
       "        vertical-align: top;\n",
       "    }\n",
       "\n",
       "    .dataframe thead th {\n",
       "        text-align: right;\n",
       "    }\n",
       "</style>\n",
       "<table border=\"1\" class=\"dataframe\">\n",
       "  <thead>\n",
       "    <tr style=\"text-align: right;\">\n",
       "      <th></th>\n",
       "      <th>type</th>\n",
       "      <th>1553394_a_at</th>\n",
       "      <th>1553434_at</th>\n",
       "      <th>1553602_at</th>\n",
       "      <th>1555745_a_at</th>\n",
       "      <th>1555778_a_at</th>\n",
       "      <th>1558034_s_at</th>\n",
       "      <th>200795_at</th>\n",
       "      <th>201525_at</th>\n",
       "      <th>201744_s_at</th>\n",
       "      <th>...</th>\n",
       "      <th>234764_x_at</th>\n",
       "      <th>237086_at</th>\n",
       "      <th>237339_at</th>\n",
       "      <th>237395_at</th>\n",
       "      <th>238481_at</th>\n",
       "      <th>240304_s_at</th>\n",
       "      <th>242579_at</th>\n",
       "      <th>243241_at</th>\n",
       "      <th>37892_at</th>\n",
       "      <th>AFFX-HUMRGE/M10098_5_at</th>\n",
       "    </tr>\n",
       "  </thead>\n",
       "  <tbody>\n",
       "    <tr>\n",
       "      <th>0</th>\n",
       "      <td>0</td>\n",
       "      <td>4.233874</td>\n",
       "      <td>3.265404</td>\n",
       "      <td>5.550369</td>\n",
       "      <td>7.978587</td>\n",
       "      <td>10.149991</td>\n",
       "      <td>8.472089</td>\n",
       "      <td>9.253729</td>\n",
       "      <td>4.869761</td>\n",
       "      <td>10.393279</td>\n",
       "      <td>...</td>\n",
       "      <td>11.049998</td>\n",
       "      <td>3.196762</td>\n",
       "      <td>3.421710</td>\n",
       "      <td>3.062842</td>\n",
       "      <td>6.041615</td>\n",
       "      <td>5.417186</td>\n",
       "      <td>7.765471</td>\n",
       "      <td>3.410798</td>\n",
       "      <td>9.247128</td>\n",
       "      <td>14.750905</td>\n",
       "    </tr>\n",
       "    <tr>\n",
       "      <th>1</th>\n",
       "      <td>0</td>\n",
       "      <td>4.365289</td>\n",
       "      <td>3.039451</td>\n",
       "      <td>5.082131</td>\n",
       "      <td>8.209669</td>\n",
       "      <td>10.565070</td>\n",
       "      <td>10.885585</td>\n",
       "      <td>8.723529</td>\n",
       "      <td>10.443652</td>\n",
       "      <td>10.555914</td>\n",
       "      <td>...</td>\n",
       "      <td>7.026088</td>\n",
       "      <td>3.589533</td>\n",
       "      <td>3.854429</td>\n",
       "      <td>3.433153</td>\n",
       "      <td>8.768485</td>\n",
       "      <td>9.040942</td>\n",
       "      <td>3.953117</td>\n",
       "      <td>3.527696</td>\n",
       "      <td>9.709350</td>\n",
       "      <td>9.938357</td>\n",
       "    </tr>\n",
       "    <tr>\n",
       "      <th>2</th>\n",
       "      <td>0</td>\n",
       "      <td>3.968636</td>\n",
       "      <td>3.218806</td>\n",
       "      <td>5.058542</td>\n",
       "      <td>7.069091</td>\n",
       "      <td>6.458419</td>\n",
       "      <td>6.681809</td>\n",
       "      <td>7.790371</td>\n",
       "      <td>4.994940</td>\n",
       "      <td>7.228274</td>\n",
       "      <td>...</td>\n",
       "      <td>8.037242</td>\n",
       "      <td>3.590720</td>\n",
       "      <td>3.914056</td>\n",
       "      <td>2.946176</td>\n",
       "      <td>11.163068</td>\n",
       "      <td>4.715663</td>\n",
       "      <td>8.247427</td>\n",
       "      <td>3.736870</td>\n",
       "      <td>5.286003</td>\n",
       "      <td>13.605901</td>\n",
       "    </tr>\n",
       "    <tr>\n",
       "      <th>3</th>\n",
       "      <td>0</td>\n",
       "      <td>3.957113</td>\n",
       "      <td>3.123551</td>\n",
       "      <td>4.941430</td>\n",
       "      <td>10.828737</td>\n",
       "      <td>10.472814</td>\n",
       "      <td>4.925068</td>\n",
       "      <td>9.533376</td>\n",
       "      <td>9.251773</td>\n",
       "      <td>11.059959</td>\n",
       "      <td>...</td>\n",
       "      <td>9.791557</td>\n",
       "      <td>3.077316</td>\n",
       "      <td>3.875099</td>\n",
       "      <td>3.642785</td>\n",
       "      <td>5.307583</td>\n",
       "      <td>4.041742</td>\n",
       "      <td>3.756744</td>\n",
       "      <td>3.383925</td>\n",
       "      <td>8.137780</td>\n",
       "      <td>12.146083</td>\n",
       "    </tr>\n",
       "    <tr>\n",
       "      <th>4</th>\n",
       "      <td>0</td>\n",
       "      <td>4.172743</td>\n",
       "      <td>3.379377</td>\n",
       "      <td>4.553402</td>\n",
       "      <td>9.644561</td>\n",
       "      <td>10.336155</td>\n",
       "      <td>8.033157</td>\n",
       "      <td>9.711141</td>\n",
       "      <td>5.770348</td>\n",
       "      <td>11.116482</td>\n",
       "      <td>...</td>\n",
       "      <td>9.564089</td>\n",
       "      <td>3.293097</td>\n",
       "      <td>3.851047</td>\n",
       "      <td>3.200595</td>\n",
       "      <td>7.451804</td>\n",
       "      <td>4.324159</td>\n",
       "      <td>6.240655</td>\n",
       "      <td>3.530320</td>\n",
       "      <td>9.572701</td>\n",
       "      <td>12.598456</td>\n",
       "    </tr>\n",
       "    <tr>\n",
       "      <th>...</th>\n",
       "      <td>...</td>\n",
       "      <td>...</td>\n",
       "      <td>...</td>\n",
       "      <td>...</td>\n",
       "      <td>...</td>\n",
       "      <td>...</td>\n",
       "      <td>...</td>\n",
       "      <td>...</td>\n",
       "      <td>...</td>\n",
       "      <td>...</td>\n",
       "      <td>...</td>\n",
       "      <td>...</td>\n",
       "      <td>...</td>\n",
       "      <td>...</td>\n",
       "      <td>...</td>\n",
       "      <td>...</td>\n",
       "      <td>...</td>\n",
       "      <td>...</td>\n",
       "      <td>...</td>\n",
       "      <td>...</td>\n",
       "      <td>...</td>\n",
       "    </tr>\n",
       "    <tr>\n",
       "      <th>146</th>\n",
       "      <td>5</td>\n",
       "      <td>9.434317</td>\n",
       "      <td>4.283417</td>\n",
       "      <td>11.294522</td>\n",
       "      <td>5.472975</td>\n",
       "      <td>10.170533</td>\n",
       "      <td>5.329359</td>\n",
       "      <td>9.565351</td>\n",
       "      <td>7.991633</td>\n",
       "      <td>12.005291</td>\n",
       "      <td>...</td>\n",
       "      <td>5.773449</td>\n",
       "      <td>8.856752</td>\n",
       "      <td>10.534218</td>\n",
       "      <td>5.976024</td>\n",
       "      <td>5.500146</td>\n",
       "      <td>10.163966</td>\n",
       "      <td>11.044550</td>\n",
       "      <td>6.115136</td>\n",
       "      <td>11.126593</td>\n",
       "      <td>9.923589</td>\n",
       "    </tr>\n",
       "    <tr>\n",
       "      <th>147</th>\n",
       "      <td>5</td>\n",
       "      <td>3.975292</td>\n",
       "      <td>3.960576</td>\n",
       "      <td>7.174051</td>\n",
       "      <td>3.746878</td>\n",
       "      <td>11.831214</td>\n",
       "      <td>3.632642</td>\n",
       "      <td>9.304357</td>\n",
       "      <td>8.285264</td>\n",
       "      <td>12.077609</td>\n",
       "      <td>...</td>\n",
       "      <td>6.569463</td>\n",
       "      <td>9.941070</td>\n",
       "      <td>3.995993</td>\n",
       "      <td>3.628036</td>\n",
       "      <td>8.114911</td>\n",
       "      <td>6.583352</td>\n",
       "      <td>4.508672</td>\n",
       "      <td>8.058744</td>\n",
       "      <td>10.900590</td>\n",
       "      <td>9.430705</td>\n",
       "    </tr>\n",
       "    <tr>\n",
       "      <th>148</th>\n",
       "      <td>5</td>\n",
       "      <td>4.504307</td>\n",
       "      <td>3.234825</td>\n",
       "      <td>7.732858</td>\n",
       "      <td>8.672920</td>\n",
       "      <td>11.567906</td>\n",
       "      <td>7.800081</td>\n",
       "      <td>10.568175</td>\n",
       "      <td>9.194895</td>\n",
       "      <td>11.720064</td>\n",
       "      <td>...</td>\n",
       "      <td>6.610460</td>\n",
       "      <td>8.386519</td>\n",
       "      <td>3.702366</td>\n",
       "      <td>4.501794</td>\n",
       "      <td>9.134859</td>\n",
       "      <td>4.503098</td>\n",
       "      <td>4.429813</td>\n",
       "      <td>5.282924</td>\n",
       "      <td>8.741613</td>\n",
       "      <td>7.918535</td>\n",
       "    </tr>\n",
       "    <tr>\n",
       "      <th>149</th>\n",
       "      <td>5</td>\n",
       "      <td>4.203309</td>\n",
       "      <td>8.622734</td>\n",
       "      <td>11.178786</td>\n",
       "      <td>4.548085</td>\n",
       "      <td>12.865115</td>\n",
       "      <td>3.941158</td>\n",
       "      <td>11.988042</td>\n",
       "      <td>10.009357</td>\n",
       "      <td>12.523438</td>\n",
       "      <td>...</td>\n",
       "      <td>9.686360</td>\n",
       "      <td>9.495707</td>\n",
       "      <td>11.823017</td>\n",
       "      <td>5.992303</td>\n",
       "      <td>8.246486</td>\n",
       "      <td>10.211326</td>\n",
       "      <td>6.080322</td>\n",
       "      <td>8.255200</td>\n",
       "      <td>10.176057</td>\n",
       "      <td>6.612476</td>\n",
       "    </tr>\n",
       "    <tr>\n",
       "      <th>150</th>\n",
       "      <td>5</td>\n",
       "      <td>4.206629</td>\n",
       "      <td>10.101810</td>\n",
       "      <td>14.660967</td>\n",
       "      <td>6.668109</td>\n",
       "      <td>11.502176</td>\n",
       "      <td>4.161001</td>\n",
       "      <td>10.782496</td>\n",
       "      <td>13.273132</td>\n",
       "      <td>11.740447</td>\n",
       "      <td>...</td>\n",
       "      <td>7.189146</td>\n",
       "      <td>9.195663</td>\n",
       "      <td>8.185380</td>\n",
       "      <td>8.677244</td>\n",
       "      <td>7.389548</td>\n",
       "      <td>9.974182</td>\n",
       "      <td>7.821401</td>\n",
       "      <td>8.191447</td>\n",
       "      <td>9.501738</td>\n",
       "      <td>8.244619</td>\n",
       "    </tr>\n",
       "  </tbody>\n",
       "</table>\n",
       "<p>151 rows × 136 columns</p>\n",
       "</div>"
      ],
      "text/plain": [
       "     type  1553394_a_at  1553434_at  1553602_at  1555745_a_at  1555778_a_at  \\\n",
       "0       0      4.233874    3.265404    5.550369      7.978587     10.149991   \n",
       "1       0      4.365289    3.039451    5.082131      8.209669     10.565070   \n",
       "2       0      3.968636    3.218806    5.058542      7.069091      6.458419   \n",
       "3       0      3.957113    3.123551    4.941430     10.828737     10.472814   \n",
       "4       0      4.172743    3.379377    4.553402      9.644561     10.336155   \n",
       "..    ...           ...         ...         ...           ...           ...   \n",
       "146     5      9.434317    4.283417   11.294522      5.472975     10.170533   \n",
       "147     5      3.975292    3.960576    7.174051      3.746878     11.831214   \n",
       "148     5      4.504307    3.234825    7.732858      8.672920     11.567906   \n",
       "149     5      4.203309    8.622734   11.178786      4.548085     12.865115   \n",
       "150     5      4.206629   10.101810   14.660967      6.668109     11.502176   \n",
       "\n",
       "     1558034_s_at  200795_at  201525_at  201744_s_at  ...  234764_x_at  \\\n",
       "0        8.472089   9.253729   4.869761    10.393279  ...    11.049998   \n",
       "1       10.885585   8.723529  10.443652    10.555914  ...     7.026088   \n",
       "2        6.681809   7.790371   4.994940     7.228274  ...     8.037242   \n",
       "3        4.925068   9.533376   9.251773    11.059959  ...     9.791557   \n",
       "4        8.033157   9.711141   5.770348    11.116482  ...     9.564089   \n",
       "..            ...        ...        ...          ...  ...          ...   \n",
       "146      5.329359   9.565351   7.991633    12.005291  ...     5.773449   \n",
       "147      3.632642   9.304357   8.285264    12.077609  ...     6.569463   \n",
       "148      7.800081  10.568175   9.194895    11.720064  ...     6.610460   \n",
       "149      3.941158  11.988042  10.009357    12.523438  ...     9.686360   \n",
       "150      4.161001  10.782496  13.273132    11.740447  ...     7.189146   \n",
       "\n",
       "     237086_at  237339_at  237395_at  238481_at  240304_s_at  242579_at  \\\n",
       "0     3.196762   3.421710   3.062842   6.041615     5.417186   7.765471   \n",
       "1     3.589533   3.854429   3.433153   8.768485     9.040942   3.953117   \n",
       "2     3.590720   3.914056   2.946176  11.163068     4.715663   8.247427   \n",
       "3     3.077316   3.875099   3.642785   5.307583     4.041742   3.756744   \n",
       "4     3.293097   3.851047   3.200595   7.451804     4.324159   6.240655   \n",
       "..         ...        ...        ...        ...          ...        ...   \n",
       "146   8.856752  10.534218   5.976024   5.500146    10.163966  11.044550   \n",
       "147   9.941070   3.995993   3.628036   8.114911     6.583352   4.508672   \n",
       "148   8.386519   3.702366   4.501794   9.134859     4.503098   4.429813   \n",
       "149   9.495707  11.823017   5.992303   8.246486    10.211326   6.080322   \n",
       "150   9.195663   8.185380   8.677244   7.389548     9.974182   7.821401   \n",
       "\n",
       "     243241_at   37892_at  AFFX-HUMRGE/M10098_5_at  \n",
       "0     3.410798   9.247128                14.750905  \n",
       "1     3.527696   9.709350                 9.938357  \n",
       "2     3.736870   5.286003                13.605901  \n",
       "3     3.383925   8.137780                12.146083  \n",
       "4     3.530320   9.572701                12.598456  \n",
       "..         ...        ...                      ...  \n",
       "146   6.115136  11.126593                 9.923589  \n",
       "147   8.058744  10.900590                 9.430705  \n",
       "148   5.282924   8.741613                 7.918535  \n",
       "149   8.255200  10.176057                 6.612476  \n",
       "150   8.191447   9.501738                 8.244619  \n",
       "\n",
       "[151 rows x 136 columns]"
      ]
     },
     "execution_count": 62,
     "metadata": {},
     "output_type": "execute_result"
    }
   ],
   "source": [
    "#se devuelve la columna \"type\" al df, es necesaria para el reetiquetado correcto de los clusters\n",
    "\n",
    "df_var.insert(0, \"type\", df[\"type\"])\n",
    "df_var"
   ]
  },
  {
   "cell_type": "code",
   "execution_count": 63,
   "id": "084d15ff",
   "metadata": {},
   "outputs": [
    {
     "data": {
      "text/html": [
       "<div>\n",
       "<style scoped>\n",
       "    .dataframe tbody tr th:only-of-type {\n",
       "        vertical-align: middle;\n",
       "    }\n",
       "\n",
       "    .dataframe tbody tr th {\n",
       "        vertical-align: top;\n",
       "    }\n",
       "\n",
       "    .dataframe thead th {\n",
       "        text-align: right;\n",
       "    }\n",
       "</style>\n",
       "<table border=\"1\" class=\"dataframe\">\n",
       "  <thead>\n",
       "    <tr style=\"text-align: right;\">\n",
       "      <th></th>\n",
       "      <th>type</th>\n",
       "      <th>cluster</th>\n",
       "      <th>distancia</th>\n",
       "    </tr>\n",
       "  </thead>\n",
       "  <tbody>\n",
       "    <tr>\n",
       "      <th>22</th>\n",
       "      <td>3</td>\n",
       "      <td>4</td>\n",
       "      <td>0.000000</td>\n",
       "    </tr>\n",
       "    <tr>\n",
       "      <th>15</th>\n",
       "      <td>2</td>\n",
       "      <td>3</td>\n",
       "      <td>0.000000</td>\n",
       "    </tr>\n",
       "    <tr>\n",
       "      <th>1</th>\n",
       "      <td>0</td>\n",
       "      <td>1</td>\n",
       "      <td>2.108064</td>\n",
       "    </tr>\n",
       "    <tr>\n",
       "      <th>6</th>\n",
       "      <td>1</td>\n",
       "      <td>0</td>\n",
       "      <td>2.833730</td>\n",
       "    </tr>\n",
       "    <tr>\n",
       "      <th>26</th>\n",
       "      <td>4</td>\n",
       "      <td>2</td>\n",
       "      <td>4.901491</td>\n",
       "    </tr>\n",
       "    <tr>\n",
       "      <th>35</th>\n",
       "      <td>5</td>\n",
       "      <td>5</td>\n",
       "      <td>5.350738</td>\n",
       "    </tr>\n",
       "    <tr>\n",
       "      <th>29</th>\n",
       "      <td>4</td>\n",
       "      <td>5</td>\n",
       "      <td>12.319684</td>\n",
       "    </tr>\n",
       "    <tr>\n",
       "      <th>32</th>\n",
       "      <td>5</td>\n",
       "      <td>2</td>\n",
       "      <td>15.389296</td>\n",
       "    </tr>\n",
       "    <tr>\n",
       "      <th>30</th>\n",
       "      <td>5</td>\n",
       "      <td>0</td>\n",
       "      <td>18.683727</td>\n",
       "    </tr>\n",
       "    <tr>\n",
       "      <th>11</th>\n",
       "      <td>1</td>\n",
       "      <td>5</td>\n",
       "      <td>22.236546</td>\n",
       "    </tr>\n",
       "    <tr>\n",
       "      <th>8</th>\n",
       "      <td>1</td>\n",
       "      <td>2</td>\n",
       "      <td>25.484710</td>\n",
       "    </tr>\n",
       "    <tr>\n",
       "      <th>24</th>\n",
       "      <td>4</td>\n",
       "      <td>0</td>\n",
       "      <td>25.746274</td>\n",
       "    </tr>\n",
       "    <tr>\n",
       "      <th>20</th>\n",
       "      <td>3</td>\n",
       "      <td>2</td>\n",
       "      <td>26.039440</td>\n",
       "    </tr>\n",
       "    <tr>\n",
       "      <th>7</th>\n",
       "      <td>1</td>\n",
       "      <td>1</td>\n",
       "      <td>26.507712</td>\n",
       "    </tr>\n",
       "    <tr>\n",
       "      <th>0</th>\n",
       "      <td>0</td>\n",
       "      <td>0</td>\n",
       "      <td>26.640065</td>\n",
       "    </tr>\n",
       "    <tr>\n",
       "      <th>28</th>\n",
       "      <td>4</td>\n",
       "      <td>4</td>\n",
       "      <td>27.037321</td>\n",
       "    </tr>\n",
       "    <tr>\n",
       "      <th>34</th>\n",
       "      <td>5</td>\n",
       "      <td>4</td>\n",
       "      <td>29.459377</td>\n",
       "    </tr>\n",
       "    <tr>\n",
       "      <th>23</th>\n",
       "      <td>3</td>\n",
       "      <td>5</td>\n",
       "      <td>29.912482</td>\n",
       "    </tr>\n",
       "    <tr>\n",
       "      <th>5</th>\n",
       "      <td>0</td>\n",
       "      <td>5</td>\n",
       "      <td>32.177425</td>\n",
       "    </tr>\n",
       "    <tr>\n",
       "      <th>31</th>\n",
       "      <td>5</td>\n",
       "      <td>1</td>\n",
       "      <td>32.212474</td>\n",
       "    </tr>\n",
       "    <tr>\n",
       "      <th>10</th>\n",
       "      <td>1</td>\n",
       "      <td>4</td>\n",
       "      <td>32.592140</td>\n",
       "    </tr>\n",
       "    <tr>\n",
       "      <th>18</th>\n",
       "      <td>3</td>\n",
       "      <td>0</td>\n",
       "      <td>33.182219</td>\n",
       "    </tr>\n",
       "    <tr>\n",
       "      <th>4</th>\n",
       "      <td>0</td>\n",
       "      <td>4</td>\n",
       "      <td>34.071663</td>\n",
       "    </tr>\n",
       "    <tr>\n",
       "      <th>19</th>\n",
       "      <td>3</td>\n",
       "      <td>1</td>\n",
       "      <td>34.622765</td>\n",
       "    </tr>\n",
       "    <tr>\n",
       "      <th>2</th>\n",
       "      <td>0</td>\n",
       "      <td>2</td>\n",
       "      <td>35.900681</td>\n",
       "    </tr>\n",
       "    <tr>\n",
       "      <th>25</th>\n",
       "      <td>4</td>\n",
       "      <td>1</td>\n",
       "      <td>36.850815</td>\n",
       "    </tr>\n",
       "    <tr>\n",
       "      <th>3</th>\n",
       "      <td>0</td>\n",
       "      <td>3</td>\n",
       "      <td>42.057080</td>\n",
       "    </tr>\n",
       "    <tr>\n",
       "      <th>13</th>\n",
       "      <td>2</td>\n",
       "      <td>1</td>\n",
       "      <td>42.358750</td>\n",
       "    </tr>\n",
       "    <tr>\n",
       "      <th>17</th>\n",
       "      <td>2</td>\n",
       "      <td>5</td>\n",
       "      <td>47.921189</td>\n",
       "    </tr>\n",
       "    <tr>\n",
       "      <th>9</th>\n",
       "      <td>1</td>\n",
       "      <td>3</td>\n",
       "      <td>47.921439</td>\n",
       "    </tr>\n",
       "    <tr>\n",
       "      <th>21</th>\n",
       "      <td>3</td>\n",
       "      <td>3</td>\n",
       "      <td>47.988049</td>\n",
       "    </tr>\n",
       "    <tr>\n",
       "      <th>16</th>\n",
       "      <td>2</td>\n",
       "      <td>4</td>\n",
       "      <td>47.988049</td>\n",
       "    </tr>\n",
       "    <tr>\n",
       "      <th>33</th>\n",
       "      <td>5</td>\n",
       "      <td>3</td>\n",
       "      <td>48.712580</td>\n",
       "    </tr>\n",
       "    <tr>\n",
       "      <th>12</th>\n",
       "      <td>2</td>\n",
       "      <td>0</td>\n",
       "      <td>49.339762</td>\n",
       "    </tr>\n",
       "    <tr>\n",
       "      <th>27</th>\n",
       "      <td>4</td>\n",
       "      <td>3</td>\n",
       "      <td>53.545176</td>\n",
       "    </tr>\n",
       "    <tr>\n",
       "      <th>14</th>\n",
       "      <td>2</td>\n",
       "      <td>2</td>\n",
       "      <td>55.220841</td>\n",
       "    </tr>\n",
       "  </tbody>\n",
       "</table>\n",
       "</div>"
      ],
      "text/plain": [
       "    type  cluster  distancia\n",
       "22     3        4   0.000000\n",
       "15     2        3   0.000000\n",
       "1      0        1   2.108064\n",
       "6      1        0   2.833730\n",
       "26     4        2   4.901491\n",
       "35     5        5   5.350738\n",
       "29     4        5  12.319684\n",
       "32     5        2  15.389296\n",
       "30     5        0  18.683727\n",
       "11     1        5  22.236546\n",
       "8      1        2  25.484710\n",
       "24     4        0  25.746274\n",
       "20     3        2  26.039440\n",
       "7      1        1  26.507712\n",
       "0      0        0  26.640065\n",
       "28     4        4  27.037321\n",
       "34     5        4  29.459377\n",
       "23     3        5  29.912482\n",
       "5      0        5  32.177425\n",
       "31     5        1  32.212474\n",
       "10     1        4  32.592140\n",
       "18     3        0  33.182219\n",
       "4      0        4  34.071663\n",
       "19     3        1  34.622765\n",
       "2      0        2  35.900681\n",
       "25     4        1  36.850815\n",
       "3      0        3  42.057080\n",
       "13     2        1  42.358750\n",
       "17     2        5  47.921189\n",
       "9      1        3  47.921439\n",
       "21     3        3  47.988049\n",
       "16     2        4  47.988049\n",
       "33     5        3  48.712580\n",
       "12     2        0  49.339762\n",
       "27     4        3  53.545176\n",
       "14     2        2  55.220841"
      ]
     },
     "execution_count": 63,
     "metadata": {},
     "output_type": "execute_result"
    }
   ],
   "source": [
    "# Para permutar las etiquetas y hacer que coincidan con las de la variable \"type\" se calculan las distancias entre puntos de los clusters y puntos de \"type\"\n",
    "\n",
    "def distance_cluster(P1, P2): # Funcion para calcular distancias entre valores de etiquetas de clustering vs valores de etiquetas de clase de la variable \"type\"\n",
    "    \n",
    "    return np.sqrt(np.sum([(x - y)**2 for x, y in zip(P1, P2)])) # Calculo de la distancia euclideana entre puntos\n",
    "                                                                 # Las distancias mas bajas entre cluster y clase real \"type\" corresponderan a las etiquetas correctas para el clustering\n",
    "\n",
    "df_var[\"cluster\"] = kmeans.labels_ \n",
    "\n",
    "#####################################################################################\n",
    "\n",
    "mean_type = df_var.drop(\"cluster\", axis = 1).groupby(\"type\", as_index = False).mean() # Calculo de la media agrupando por los valores de \"type\"\n",
    "\n",
    "mean_cluster = df_var.drop(\"type\", axis = 1).groupby(\"cluster\", as_index = False).mean() # Calculo de la media agrupando por los valores de \"cluster\"\n",
    "\n",
    "#####################################################################################\n",
    "\n",
    "# Se crea DataFrame con los valores de etiquetas \"type\", \"cluster\" y el calculo de distancias entre grupos\n",
    "\n",
    "distancias = list()\n",
    "\n",
    "for t in mean_type[\"type\"]: \n",
    "    for c in mean_cluster[\"cluster\"]:\n",
    "                \n",
    "        d = distance_cluster(mean_type[mean_type[\"type\"] == t].iloc[:, 1:].values, mean_cluster[mean_cluster[\"cluster\"] == c].iloc[:, 1:].values)\n",
    "        \n",
    "        distancias.append([t, c, d])\n",
    "        \n",
    "        \n",
    "df_var_distancias = pd.DataFrame(data = distancias, columns = [\"type\", \"cluster\", \"distancia\"])\n",
    "\n",
    "#####################################################################################\n",
    "\n",
    "pd.concat([df_var_distancias[df_var_distancias[\"type\"] == i].sort_values(by = \"distancia\") for i in range(0, 6)]).sort_values(\"distancia\")"
   ]
  },
  {
   "cell_type": "code",
   "execution_count": 64,
   "id": "f190e94d",
   "metadata": {},
   "outputs": [
    {
     "data": {
      "application/vnd.plotly.v1+json": {
       "config": {
        "plotlyServerURL": "https://plot.ly"
       },
       "data": [
        {
         "alignmentgroup": "True",
         "hovertemplate": "label=%{x}<br>cat=type<br>count=%{y}<extra></extra>",
         "legendgroup": "basal",
         "marker": {
          "color": "#636efa",
          "pattern": {
           "shape": ""
          }
         },
         "name": "basal",
         "offsetgroup": "basal",
         "orientation": "v",
         "showlegend": true,
         "textposition": "auto",
         "type": "bar",
         "x": [
          "basal"
         ],
         "xaxis": "x",
         "y": [
          41
         ],
         "yaxis": "y"
        },
        {
         "alignmentgroup": "True",
         "hovertemplate": "label=%{x}<br>cat=cluster<br>count=%{y}<extra></extra>",
         "legendgroup": "basal",
         "marker": {
          "color": "#636efa",
          "pattern": {
           "shape": ""
          }
         },
         "name": "basal",
         "offsetgroup": "basal",
         "orientation": "v",
         "showlegend": false,
         "textposition": "auto",
         "type": "bar",
         "x": [
          "basal"
         ],
         "xaxis": "x2",
         "y": [
          40
         ],
         "yaxis": "y2"
        },
        {
         "alignmentgroup": "True",
         "hovertemplate": "label=%{x}<br>cat=type<br>count=%{y}<extra></extra>",
         "legendgroup": "HER",
         "marker": {
          "color": "#EF553B",
          "pattern": {
           "shape": ""
          }
         },
         "name": "HER",
         "offsetgroup": "HER",
         "orientation": "v",
         "showlegend": true,
         "textposition": "auto",
         "type": "bar",
         "x": [
          "HER"
         ],
         "xaxis": "x",
         "y": [
          30
         ],
         "yaxis": "y"
        },
        {
         "alignmentgroup": "True",
         "hovertemplate": "label=%{x}<br>cat=cluster<br>count=%{y}<extra></extra>",
         "legendgroup": "HER",
         "marker": {
          "color": "#EF553B",
          "pattern": {
           "shape": ""
          }
         },
         "name": "HER",
         "offsetgroup": "HER",
         "orientation": "v",
         "showlegend": false,
         "textposition": "auto",
         "type": "bar",
         "x": [
          "HER"
         ],
         "xaxis": "x2",
         "y": [
          33
         ],
         "yaxis": "y2"
        },
        {
         "alignmentgroup": "True",
         "hovertemplate": "label=%{x}<br>cat=type<br>count=%{y}<extra></extra>",
         "legendgroup": "cell_line",
         "marker": {
          "color": "#00cc96",
          "pattern": {
           "shape": ""
          }
         },
         "name": "cell_line",
         "offsetgroup": "cell_line",
         "orientation": "v",
         "showlegend": true,
         "textposition": "auto",
         "type": "bar",
         "x": [
          "cell_line"
         ],
         "xaxis": "x",
         "y": [
          14
         ],
         "yaxis": "y"
        },
        {
         "alignmentgroup": "True",
         "hovertemplate": "label=%{x}<br>cat=cluster<br>count=%{y}<extra></extra>",
         "legendgroup": "cell_line",
         "marker": {
          "color": "#00cc96",
          "pattern": {
           "shape": ""
          }
         },
         "name": "cell_line",
         "offsetgroup": "cell_line",
         "orientation": "v",
         "showlegend": false,
         "textposition": "auto",
         "type": "bar",
         "x": [
          "cell_line"
         ],
         "xaxis": "x2",
         "y": [
          14
         ],
         "yaxis": "y2"
        },
        {
         "alignmentgroup": "True",
         "hovertemplate": "label=%{x}<br>cat=type<br>count=%{y}<extra></extra>",
         "legendgroup": "normal",
         "marker": {
          "color": "#ab63fa",
          "pattern": {
           "shape": ""
          }
         },
         "name": "normal",
         "offsetgroup": "normal",
         "orientation": "v",
         "showlegend": true,
         "textposition": "auto",
         "type": "bar",
         "x": [
          "normal"
         ],
         "xaxis": "x",
         "y": [
          7
         ],
         "yaxis": "y"
        },
        {
         "alignmentgroup": "True",
         "hovertemplate": "label=%{x}<br>cat=cluster<br>count=%{y}<extra></extra>",
         "legendgroup": "normal",
         "marker": {
          "color": "#ab63fa",
          "pattern": {
           "shape": ""
          }
         },
         "name": "normal",
         "offsetgroup": "normal",
         "orientation": "v",
         "showlegend": false,
         "textposition": "auto",
         "type": "bar",
         "x": [
          "normal"
         ],
         "xaxis": "x2",
         "y": [
          7
         ],
         "yaxis": "y2"
        },
        {
         "alignmentgroup": "True",
         "hovertemplate": "label=%{x}<br>cat=type<br>count=%{y}<extra></extra>",
         "legendgroup": "luminal_A",
         "marker": {
          "color": "#FFA15A",
          "pattern": {
           "shape": ""
          }
         },
         "name": "luminal_A",
         "offsetgroup": "luminal_A",
         "orientation": "v",
         "showlegend": true,
         "textposition": "auto",
         "type": "bar",
         "x": [
          "luminal_A"
         ],
         "xaxis": "x",
         "y": [
          29
         ],
         "yaxis": "y"
        },
        {
         "alignmentgroup": "True",
         "hovertemplate": "label=%{x}<br>cat=cluster<br>count=%{y}<extra></extra>",
         "legendgroup": "luminal_A",
         "marker": {
          "color": "#FFA15A",
          "pattern": {
           "shape": ""
          }
         },
         "name": "luminal_A",
         "offsetgroup": "luminal_A",
         "orientation": "v",
         "showlegend": false,
         "textposition": "auto",
         "type": "bar",
         "x": [
          "luminal_A"
         ],
         "xaxis": "x2",
         "y": [
          22
         ],
         "yaxis": "y2"
        },
        {
         "alignmentgroup": "True",
         "hovertemplate": "label=%{x}<br>cat=type<br>count=%{y}<extra></extra>",
         "legendgroup": "luminal_B",
         "marker": {
          "color": "#19d3f3",
          "pattern": {
           "shape": ""
          }
         },
         "name": "luminal_B",
         "offsetgroup": "luminal_B",
         "orientation": "v",
         "showlegend": true,
         "textposition": "auto",
         "type": "bar",
         "x": [
          "luminal_B"
         ],
         "xaxis": "x",
         "y": [
          30
         ],
         "yaxis": "y"
        },
        {
         "alignmentgroup": "True",
         "hovertemplate": "label=%{x}<br>cat=cluster<br>count=%{y}<extra></extra>",
         "legendgroup": "luminal_B",
         "marker": {
          "color": "#19d3f3",
          "pattern": {
           "shape": ""
          }
         },
         "name": "luminal_B",
         "offsetgroup": "luminal_B",
         "orientation": "v",
         "showlegend": false,
         "textposition": "auto",
         "type": "bar",
         "x": [
          "luminal_B"
         ],
         "xaxis": "x2",
         "y": [
          35
         ],
         "yaxis": "y2"
        }
       ],
       "layout": {
        "annotations": [
         {
          "font": {},
          "showarrow": false,
          "text": "cat=type",
          "x": 0.245,
          "xanchor": "center",
          "xref": "paper",
          "y": 1,
          "yanchor": "bottom",
          "yref": "paper"
         },
         {
          "font": {},
          "showarrow": false,
          "text": "cat=cluster",
          "x": 0.755,
          "xanchor": "center",
          "xref": "paper",
          "y": 1,
          "yanchor": "bottom",
          "yref": "paper"
         }
        ],
        "barmode": "relative",
        "legend": {
         "title": {
          "text": "label"
         },
         "tracegroupgap": 0
        },
        "margin": {
         "t": 60
        },
        "template": {
         "data": {
          "bar": [
           {
            "error_x": {
             "color": "#2a3f5f"
            },
            "error_y": {
             "color": "#2a3f5f"
            },
            "marker": {
             "line": {
              "color": "#E5ECF6",
              "width": 0.5
             },
             "pattern": {
              "fillmode": "overlay",
              "size": 10,
              "solidity": 0.2
             }
            },
            "type": "bar"
           }
          ],
          "barpolar": [
           {
            "marker": {
             "line": {
              "color": "#E5ECF6",
              "width": 0.5
             },
             "pattern": {
              "fillmode": "overlay",
              "size": 10,
              "solidity": 0.2
             }
            },
            "type": "barpolar"
           }
          ],
          "carpet": [
           {
            "aaxis": {
             "endlinecolor": "#2a3f5f",
             "gridcolor": "white",
             "linecolor": "white",
             "minorgridcolor": "white",
             "startlinecolor": "#2a3f5f"
            },
            "baxis": {
             "endlinecolor": "#2a3f5f",
             "gridcolor": "white",
             "linecolor": "white",
             "minorgridcolor": "white",
             "startlinecolor": "#2a3f5f"
            },
            "type": "carpet"
           }
          ],
          "choropleth": [
           {
            "colorbar": {
             "outlinewidth": 0,
             "ticks": ""
            },
            "type": "choropleth"
           }
          ],
          "contour": [
           {
            "colorbar": {
             "outlinewidth": 0,
             "ticks": ""
            },
            "colorscale": [
             [
              0,
              "#0d0887"
             ],
             [
              0.1111111111111111,
              "#46039f"
             ],
             [
              0.2222222222222222,
              "#7201a8"
             ],
             [
              0.3333333333333333,
              "#9c179e"
             ],
             [
              0.4444444444444444,
              "#bd3786"
             ],
             [
              0.5555555555555556,
              "#d8576b"
             ],
             [
              0.6666666666666666,
              "#ed7953"
             ],
             [
              0.7777777777777778,
              "#fb9f3a"
             ],
             [
              0.8888888888888888,
              "#fdca26"
             ],
             [
              1,
              "#f0f921"
             ]
            ],
            "type": "contour"
           }
          ],
          "contourcarpet": [
           {
            "colorbar": {
             "outlinewidth": 0,
             "ticks": ""
            },
            "type": "contourcarpet"
           }
          ],
          "heatmap": [
           {
            "colorbar": {
             "outlinewidth": 0,
             "ticks": ""
            },
            "colorscale": [
             [
              0,
              "#0d0887"
             ],
             [
              0.1111111111111111,
              "#46039f"
             ],
             [
              0.2222222222222222,
              "#7201a8"
             ],
             [
              0.3333333333333333,
              "#9c179e"
             ],
             [
              0.4444444444444444,
              "#bd3786"
             ],
             [
              0.5555555555555556,
              "#d8576b"
             ],
             [
              0.6666666666666666,
              "#ed7953"
             ],
             [
              0.7777777777777778,
              "#fb9f3a"
             ],
             [
              0.8888888888888888,
              "#fdca26"
             ],
             [
              1,
              "#f0f921"
             ]
            ],
            "type": "heatmap"
           }
          ],
          "heatmapgl": [
           {
            "colorbar": {
             "outlinewidth": 0,
             "ticks": ""
            },
            "colorscale": [
             [
              0,
              "#0d0887"
             ],
             [
              0.1111111111111111,
              "#46039f"
             ],
             [
              0.2222222222222222,
              "#7201a8"
             ],
             [
              0.3333333333333333,
              "#9c179e"
             ],
             [
              0.4444444444444444,
              "#bd3786"
             ],
             [
              0.5555555555555556,
              "#d8576b"
             ],
             [
              0.6666666666666666,
              "#ed7953"
             ],
             [
              0.7777777777777778,
              "#fb9f3a"
             ],
             [
              0.8888888888888888,
              "#fdca26"
             ],
             [
              1,
              "#f0f921"
             ]
            ],
            "type": "heatmapgl"
           }
          ],
          "histogram": [
           {
            "marker": {
             "pattern": {
              "fillmode": "overlay",
              "size": 10,
              "solidity": 0.2
             }
            },
            "type": "histogram"
           }
          ],
          "histogram2d": [
           {
            "colorbar": {
             "outlinewidth": 0,
             "ticks": ""
            },
            "colorscale": [
             [
              0,
              "#0d0887"
             ],
             [
              0.1111111111111111,
              "#46039f"
             ],
             [
              0.2222222222222222,
              "#7201a8"
             ],
             [
              0.3333333333333333,
              "#9c179e"
             ],
             [
              0.4444444444444444,
              "#bd3786"
             ],
             [
              0.5555555555555556,
              "#d8576b"
             ],
             [
              0.6666666666666666,
              "#ed7953"
             ],
             [
              0.7777777777777778,
              "#fb9f3a"
             ],
             [
              0.8888888888888888,
              "#fdca26"
             ],
             [
              1,
              "#f0f921"
             ]
            ],
            "type": "histogram2d"
           }
          ],
          "histogram2dcontour": [
           {
            "colorbar": {
             "outlinewidth": 0,
             "ticks": ""
            },
            "colorscale": [
             [
              0,
              "#0d0887"
             ],
             [
              0.1111111111111111,
              "#46039f"
             ],
             [
              0.2222222222222222,
              "#7201a8"
             ],
             [
              0.3333333333333333,
              "#9c179e"
             ],
             [
              0.4444444444444444,
              "#bd3786"
             ],
             [
              0.5555555555555556,
              "#d8576b"
             ],
             [
              0.6666666666666666,
              "#ed7953"
             ],
             [
              0.7777777777777778,
              "#fb9f3a"
             ],
             [
              0.8888888888888888,
              "#fdca26"
             ],
             [
              1,
              "#f0f921"
             ]
            ],
            "type": "histogram2dcontour"
           }
          ],
          "mesh3d": [
           {
            "colorbar": {
             "outlinewidth": 0,
             "ticks": ""
            },
            "type": "mesh3d"
           }
          ],
          "parcoords": [
           {
            "line": {
             "colorbar": {
              "outlinewidth": 0,
              "ticks": ""
             }
            },
            "type": "parcoords"
           }
          ],
          "pie": [
           {
            "automargin": true,
            "type": "pie"
           }
          ],
          "scatter": [
           {
            "fillpattern": {
             "fillmode": "overlay",
             "size": 10,
             "solidity": 0.2
            },
            "type": "scatter"
           }
          ],
          "scatter3d": [
           {
            "line": {
             "colorbar": {
              "outlinewidth": 0,
              "ticks": ""
             }
            },
            "marker": {
             "colorbar": {
              "outlinewidth": 0,
              "ticks": ""
             }
            },
            "type": "scatter3d"
           }
          ],
          "scattercarpet": [
           {
            "marker": {
             "colorbar": {
              "outlinewidth": 0,
              "ticks": ""
             }
            },
            "type": "scattercarpet"
           }
          ],
          "scattergeo": [
           {
            "marker": {
             "colorbar": {
              "outlinewidth": 0,
              "ticks": ""
             }
            },
            "type": "scattergeo"
           }
          ],
          "scattergl": [
           {
            "marker": {
             "colorbar": {
              "outlinewidth": 0,
              "ticks": ""
             }
            },
            "type": "scattergl"
           }
          ],
          "scattermapbox": [
           {
            "marker": {
             "colorbar": {
              "outlinewidth": 0,
              "ticks": ""
             }
            },
            "type": "scattermapbox"
           }
          ],
          "scatterpolar": [
           {
            "marker": {
             "colorbar": {
              "outlinewidth": 0,
              "ticks": ""
             }
            },
            "type": "scatterpolar"
           }
          ],
          "scatterpolargl": [
           {
            "marker": {
             "colorbar": {
              "outlinewidth": 0,
              "ticks": ""
             }
            },
            "type": "scatterpolargl"
           }
          ],
          "scatterternary": [
           {
            "marker": {
             "colorbar": {
              "outlinewidth": 0,
              "ticks": ""
             }
            },
            "type": "scatterternary"
           }
          ],
          "surface": [
           {
            "colorbar": {
             "outlinewidth": 0,
             "ticks": ""
            },
            "colorscale": [
             [
              0,
              "#0d0887"
             ],
             [
              0.1111111111111111,
              "#46039f"
             ],
             [
              0.2222222222222222,
              "#7201a8"
             ],
             [
              0.3333333333333333,
              "#9c179e"
             ],
             [
              0.4444444444444444,
              "#bd3786"
             ],
             [
              0.5555555555555556,
              "#d8576b"
             ],
             [
              0.6666666666666666,
              "#ed7953"
             ],
             [
              0.7777777777777778,
              "#fb9f3a"
             ],
             [
              0.8888888888888888,
              "#fdca26"
             ],
             [
              1,
              "#f0f921"
             ]
            ],
            "type": "surface"
           }
          ],
          "table": [
           {
            "cells": {
             "fill": {
              "color": "#EBF0F8"
             },
             "line": {
              "color": "white"
             }
            },
            "header": {
             "fill": {
              "color": "#C8D4E3"
             },
             "line": {
              "color": "white"
             }
            },
            "type": "table"
           }
          ]
         },
         "layout": {
          "annotationdefaults": {
           "arrowcolor": "#2a3f5f",
           "arrowhead": 0,
           "arrowwidth": 1
          },
          "autotypenumbers": "strict",
          "coloraxis": {
           "colorbar": {
            "outlinewidth": 0,
            "ticks": ""
           }
          },
          "colorscale": {
           "diverging": [
            [
             0,
             "#8e0152"
            ],
            [
             0.1,
             "#c51b7d"
            ],
            [
             0.2,
             "#de77ae"
            ],
            [
             0.3,
             "#f1b6da"
            ],
            [
             0.4,
             "#fde0ef"
            ],
            [
             0.5,
             "#f7f7f7"
            ],
            [
             0.6,
             "#e6f5d0"
            ],
            [
             0.7,
             "#b8e186"
            ],
            [
             0.8,
             "#7fbc41"
            ],
            [
             0.9,
             "#4d9221"
            ],
            [
             1,
             "#276419"
            ]
           ],
           "sequential": [
            [
             0,
             "#0d0887"
            ],
            [
             0.1111111111111111,
             "#46039f"
            ],
            [
             0.2222222222222222,
             "#7201a8"
            ],
            [
             0.3333333333333333,
             "#9c179e"
            ],
            [
             0.4444444444444444,
             "#bd3786"
            ],
            [
             0.5555555555555556,
             "#d8576b"
            ],
            [
             0.6666666666666666,
             "#ed7953"
            ],
            [
             0.7777777777777778,
             "#fb9f3a"
            ],
            [
             0.8888888888888888,
             "#fdca26"
            ],
            [
             1,
             "#f0f921"
            ]
           ],
           "sequentialminus": [
            [
             0,
             "#0d0887"
            ],
            [
             0.1111111111111111,
             "#46039f"
            ],
            [
             0.2222222222222222,
             "#7201a8"
            ],
            [
             0.3333333333333333,
             "#9c179e"
            ],
            [
             0.4444444444444444,
             "#bd3786"
            ],
            [
             0.5555555555555556,
             "#d8576b"
            ],
            [
             0.6666666666666666,
             "#ed7953"
            ],
            [
             0.7777777777777778,
             "#fb9f3a"
            ],
            [
             0.8888888888888888,
             "#fdca26"
            ],
            [
             1,
             "#f0f921"
            ]
           ]
          },
          "colorway": [
           "#636efa",
           "#EF553B",
           "#00cc96",
           "#ab63fa",
           "#FFA15A",
           "#19d3f3",
           "#FF6692",
           "#B6E880",
           "#FF97FF",
           "#FECB52"
          ],
          "font": {
           "color": "#2a3f5f"
          },
          "geo": {
           "bgcolor": "white",
           "lakecolor": "white",
           "landcolor": "#E5ECF6",
           "showlakes": true,
           "showland": true,
           "subunitcolor": "white"
          },
          "hoverlabel": {
           "align": "left"
          },
          "hovermode": "closest",
          "mapbox": {
           "style": "light"
          },
          "paper_bgcolor": "white",
          "plot_bgcolor": "#E5ECF6",
          "polar": {
           "angularaxis": {
            "gridcolor": "white",
            "linecolor": "white",
            "ticks": ""
           },
           "bgcolor": "#E5ECF6",
           "radialaxis": {
            "gridcolor": "white",
            "linecolor": "white",
            "ticks": ""
           }
          },
          "scene": {
           "xaxis": {
            "backgroundcolor": "#E5ECF6",
            "gridcolor": "white",
            "gridwidth": 2,
            "linecolor": "white",
            "showbackground": true,
            "ticks": "",
            "zerolinecolor": "white"
           },
           "yaxis": {
            "backgroundcolor": "#E5ECF6",
            "gridcolor": "white",
            "gridwidth": 2,
            "linecolor": "white",
            "showbackground": true,
            "ticks": "",
            "zerolinecolor": "white"
           },
           "zaxis": {
            "backgroundcolor": "#E5ECF6",
            "gridcolor": "white",
            "gridwidth": 2,
            "linecolor": "white",
            "showbackground": true,
            "ticks": "",
            "zerolinecolor": "white"
           }
          },
          "shapedefaults": {
           "line": {
            "color": "#2a3f5f"
           }
          },
          "ternary": {
           "aaxis": {
            "gridcolor": "white",
            "linecolor": "white",
            "ticks": ""
           },
           "baxis": {
            "gridcolor": "white",
            "linecolor": "white",
            "ticks": ""
           },
           "bgcolor": "#E5ECF6",
           "caxis": {
            "gridcolor": "white",
            "linecolor": "white",
            "ticks": ""
           }
          },
          "title": {
           "x": 0.05
          },
          "xaxis": {
           "automargin": true,
           "gridcolor": "white",
           "linecolor": "white",
           "ticks": "",
           "title": {
            "standoff": 15
           },
           "zerolinecolor": "white",
           "zerolinewidth": 2
          },
          "yaxis": {
           "automargin": true,
           "gridcolor": "white",
           "linecolor": "white",
           "ticks": "",
           "title": {
            "standoff": 15
           },
           "zerolinecolor": "white",
           "zerolinewidth": 2
          }
         }
        },
        "xaxis": {
         "anchor": "y",
         "categoryarray": [
          "basal",
          "HER",
          "cell_line",
          "normal",
          "luminal_A",
          "luminal_B"
         ],
         "categoryorder": "array",
         "domain": [
          0,
          0.49
         ],
         "title": {
          "text": "label"
         }
        },
        "xaxis2": {
         "anchor": "y2",
         "categoryarray": [
          "basal",
          "HER",
          "cell_line",
          "normal",
          "luminal_A",
          "luminal_B"
         ],
         "categoryorder": "array",
         "domain": [
          0.51,
          1
         ],
         "matches": "x",
         "title": {
          "text": "label"
         }
        },
        "yaxis": {
         "anchor": "x",
         "domain": [
          0,
          1
         ],
         "title": {
          "text": "count"
         }
        },
        "yaxis2": {
         "anchor": "x2",
         "domain": [
          0,
          1
         ],
         "matches": "y",
         "showticklabels": false
        }
       }
      }
     },
     "metadata": {},
     "output_type": "display_data"
    }
   ],
   "source": [
    "#Codigo para reasignar la etiqueta de clustering a la etiqueta mas correcta de la variable type en base a las distancias calculadas anteriormente\n",
    "\n",
    "map_cluster = {0 : 1, #Que valor de cluster corresponde a que valor de \"type\" en base a distancia minima\n",
    "               1 : 0,\n",
    "               2 : 4,\n",
    "               3 : 2,\n",
    "               4 : 3,\n",
    "               5 : 5}\n",
    "\n",
    "dict_type3 = {v : k for k, v in dict_type.items()}\n",
    "\n",
    "df_var[\"cluster\"] = df_var[\"cluster\"].apply(lambda x : map_cluster[x]) # Reasignar etiquetas a los clusters en base al mapeo anterior\n",
    "\n",
    "############################################################################################\n",
    "\n",
    "df_var_1 = pd.DataFrame(df_var.value_counts([\"type\"])).reset_index()  # df1 con conteos de variable \"type\"\n",
    "\n",
    "df_var_1.columns = [\"label\", \"count\"]\n",
    "\n",
    "df_var_1[\"cat\"] = \"type\"\n",
    "\n",
    "df_var_2 = pd.DataFrame(df_var.value_counts([\"cluster\"])).reset_index()   # df2 con conteos de variable \"cluster\"\n",
    "\n",
    "df_var_2.columns = [\"label\", \"count\"]\n",
    "\n",
    "df_var_2[\"cat\"] = \"cluster\"\n",
    "\n",
    "df_var_final_cluster = pd.concat([df_var_1, df_var_2])  # Union de los dos dfs\n",
    "\n",
    "#############################################################################################\n",
    "\n",
    "# grafico de representacion de conteo de la variable type comparando con el conteo de los clusters reetiquetados por distancia\n",
    "\n",
    "df_var_final_cluster = df_var_final_cluster.sort_values(\"label\")\n",
    "\n",
    "df_var_final_cluster[\"label\"] = df_var_final_cluster[\"label\"].apply(lambda x : dict_type3[x])\n",
    "\n",
    "# df_final_cluster[\"label\"] = df_final_cluster[\"label\"].astype(\"str\")\n",
    "\n",
    "px.bar(data_frame = df_var_final_cluster, x = \"label\", y = \"count\", color = \"label\", facet_col = \"cat\", )"
   ]
  },
  {
   "cell_type": "markdown",
   "id": "9dc9793e",
   "metadata": {},
   "source": [
    "**Confusion Matrix**: sirve para evaluar la precisión de una clasificación"
   ]
  },
  {
   "cell_type": "code",
   "execution_count": 65,
   "id": "d816eabd",
   "metadata": {},
   "outputs": [
    {
     "data": {
      "text/plain": [
       "array([[38,  2,  0,  0,  0,  1],\n",
       "       [ 2, 26,  0,  0,  0,  2],\n",
       "       [ 0,  0, 14,  0,  0,  0],\n",
       "       [ 0,  0,  0,  7,  0,  0],\n",
       "       [ 0,  0,  0,  0, 21,  8],\n",
       "       [ 0,  5,  0,  0,  1, 24]], dtype=int64)"
      ]
     },
     "execution_count": 65,
     "metadata": {},
     "output_type": "execute_result"
    }
   ],
   "source": [
    "#Matriz de confusion entre prediccion de clustering y variable \"type\" original\n",
    "\n",
    "confusion_matrix(df_var[\"type\"], df_var[\"cluster\"])"
   ]
  },
  {
   "cell_type": "code",
   "execution_count": 66,
   "id": "a60cb29e",
   "metadata": {},
   "outputs": [
    {
     "data": {
      "image/png": "[encoded data removed]",
      "text/plain": [
       "<Figure size 640x480 with 2 Axes>"
      ]
     },
     "metadata": {},
     "output_type": "display_data"
    }
   ],
   "source": [
    "#Representacion de la confusion matrix en un mapa de calor\n",
    "\n",
    "conf_matrix = metrics.confusion_matrix(df_var[\"type\"], df_var[\"cluster\"])\n",
    "sns.heatmap(conf_matrix, annot = True)\n",
    "plt.xlabel(\"Predicciones\")\n",
    "plt.ylabel(\"Reales\")\n",
    "plt.show()"
   ]
  },
  {
   "cell_type": "markdown",
   "id": "79a3c317",
   "metadata": {},
   "source": [
    "**Accuracy**: de la prediccion por clustering con respecto a los datos reales"
   ]
  },
  {
   "cell_type": "code",
   "execution_count": 67,
   "id": "ab966f4b",
   "metadata": {},
   "outputs": [
    {
     "data": {
      "text/plain": [
       "0.8609271523178808"
      ]
     },
     "execution_count": 67,
     "metadata": {},
     "output_type": "execute_result"
    }
   ],
   "source": [
    "accuracy_score(df_var[\"type\"], df_var[\"cluster\"])"
   ]
  },
  {
   "cell_type": "code",
   "execution_count": 68,
   "id": "9eb6bb3c",
   "metadata": {},
   "outputs": [
    {
     "name": "stderr",
     "output_type": "stream",
     "text": [
      "c:\\Users\\mary_\\anaconda3\\Lib\\site-packages\\sklearn\\cluster\\_kmeans.py:870: FutureWarning:\n",
      "\n",
      "The default value of `n_init` will change from 10 to 'auto' in 1.4. Set the value of `n_init` explicitly to suppress the warning\n",
      "\n",
      "c:\\Users\\mary_\\anaconda3\\Lib\\site-packages\\sklearn\\cluster\\_kmeans.py:1382: UserWarning:\n",
      "\n",
      "KMeans is known to have a memory leak on Windows with MKL, when there are less chunks than available threads. You can avoid it by setting the environment variable OMP_NUM_THREADS=1.\n",
      "\n",
      "c:\\Users\\mary_\\anaconda3\\Lib\\site-packages\\sklearn\\cluster\\_kmeans.py:870: FutureWarning:\n",
      "\n",
      "The default value of `n_init` will change from 10 to 'auto' in 1.4. Set the value of `n_init` explicitly to suppress the warning\n",
      "\n",
      "c:\\Users\\mary_\\anaconda3\\Lib\\site-packages\\sklearn\\cluster\\_kmeans.py:1382: UserWarning:\n",
      "\n",
      "KMeans is known to have a memory leak on Windows with MKL, when there are less chunks than available threads. You can avoid it by setting the environment variable OMP_NUM_THREADS=1.\n",
      "\n",
      "c:\\Users\\mary_\\anaconda3\\Lib\\site-packages\\sklearn\\cluster\\_kmeans.py:870: FutureWarning:\n",
      "\n",
      "The default value of `n_init` will change from 10 to 'auto' in 1.4. Set the value of `n_init` explicitly to suppress the warning\n",
      "\n",
      "c:\\Users\\mary_\\anaconda3\\Lib\\site-packages\\sklearn\\cluster\\_kmeans.py:1382: UserWarning:\n",
      "\n",
      "KMeans is known to have a memory leak on Windows with MKL, when there are less chunks than available threads. You can avoid it by setting the environment variable OMP_NUM_THREADS=1.\n",
      "\n",
      "c:\\Users\\mary_\\anaconda3\\Lib\\site-packages\\sklearn\\cluster\\_kmeans.py:870: FutureWarning:\n",
      "\n",
      "The default value of `n_init` will change from 10 to 'auto' in 1.4. Set the value of `n_init` explicitly to suppress the warning\n",
      "\n",
      "c:\\Users\\mary_\\anaconda3\\Lib\\site-packages\\sklearn\\cluster\\_kmeans.py:1382: UserWarning:\n",
      "\n",
      "KMeans is known to have a memory leak on Windows with MKL, when there are less chunks than available threads. You can avoid it by setting the environment variable OMP_NUM_THREADS=1.\n",
      "\n",
      "c:\\Users\\mary_\\anaconda3\\Lib\\site-packages\\sklearn\\cluster\\_kmeans.py:870: FutureWarning:\n",
      "\n",
      "The default value of `n_init` will change from 10 to 'auto' in 1.4. Set the value of `n_init` explicitly to suppress the warning\n",
      "\n",
      "c:\\Users\\mary_\\anaconda3\\Lib\\site-packages\\sklearn\\cluster\\_kmeans.py:1382: UserWarning:\n",
      "\n",
      "KMeans is known to have a memory leak on Windows with MKL, when there are less chunks than available threads. You can avoid it by setting the environment variable OMP_NUM_THREADS=1.\n",
      "\n",
      "c:\\Users\\mary_\\anaconda3\\Lib\\site-packages\\sklearn\\cluster\\_kmeans.py:870: FutureWarning:\n",
      "\n",
      "The default value of `n_init` will change from 10 to 'auto' in 1.4. Set the value of `n_init` explicitly to suppress the warning\n",
      "\n",
      "c:\\Users\\mary_\\anaconda3\\Lib\\site-packages\\sklearn\\cluster\\_kmeans.py:1382: UserWarning:\n",
      "\n",
      "KMeans is known to have a memory leak on Windows with MKL, when there are less chunks than available threads. You can avoid it by setting the environment variable OMP_NUM_THREADS=1.\n",
      "\n",
      "c:\\Users\\mary_\\anaconda3\\Lib\\site-packages\\sklearn\\cluster\\_kmeans.py:870: FutureWarning:\n",
      "\n",
      "The default value of `n_init` will change from 10 to 'auto' in 1.4. Set the value of `n_init` explicitly to suppress the warning\n",
      "\n",
      "c:\\Users\\mary_\\anaconda3\\Lib\\site-packages\\sklearn\\cluster\\_kmeans.py:1382: UserWarning:\n",
      "\n",
      "KMeans is known to have a memory leak on Windows with MKL, when there are less chunks than available threads. You can avoid it by setting the environment variable OMP_NUM_THREADS=1.\n",
      "\n",
      "c:\\Users\\mary_\\anaconda3\\Lib\\site-packages\\sklearn\\cluster\\_kmeans.py:870: FutureWarning:\n",
      "\n",
      "The default value of `n_init` will change from 10 to 'auto' in 1.4. Set the value of `n_init` explicitly to suppress the warning\n",
      "\n",
      "c:\\Users\\mary_\\anaconda3\\Lib\\site-packages\\sklearn\\cluster\\_kmeans.py:1382: UserWarning:\n",
      "\n",
      "KMeans is known to have a memory leak on Windows with MKL, when there are less chunks than available threads. You can avoid it by setting the environment variable OMP_NUM_THREADS=1.\n",
      "\n",
      "c:\\Users\\mary_\\anaconda3\\Lib\\site-packages\\sklearn\\cluster\\_kmeans.py:870: FutureWarning:\n",
      "\n",
      "The default value of `n_init` will change from 10 to 'auto' in 1.4. Set the value of `n_init` explicitly to suppress the warning\n",
      "\n",
      "c:\\Users\\mary_\\anaconda3\\Lib\\site-packages\\sklearn\\cluster\\_kmeans.py:1382: UserWarning:\n",
      "\n",
      "KMeans is known to have a memory leak on Windows with MKL, when there are less chunks than available threads. You can avoid it by setting the environment variable OMP_NUM_THREADS=1.\n",
      "\n",
      "c:\\Users\\mary_\\anaconda3\\Lib\\site-packages\\sklearn\\cluster\\_kmeans.py:870: FutureWarning:\n",
      "\n",
      "The default value of `n_init` will change from 10 to 'auto' in 1.4. Set the value of `n_init` explicitly to suppress the warning\n",
      "\n",
      "c:\\Users\\mary_\\anaconda3\\Lib\\site-packages\\sklearn\\cluster\\_kmeans.py:1382: UserWarning:\n",
      "\n",
      "KMeans is known to have a memory leak on Windows with MKL, when there are less chunks than available threads. You can avoid it by setting the environment variable OMP_NUM_THREADS=1.\n",
      "\n"
     ]
    },
    {
     "data": {
      "text/plain": [
       "[1160.2884986699828,\n",
       " 957.6880662914856,\n",
       " 835.2011131348622,\n",
       " 781.6175990989472,\n",
       " 746.3604965080206,\n",
       " 716.9002797110219,\n",
       " 687.2912666554677,\n",
       " 667.6788752434263,\n",
       " 654.5706054223547,\n",
       " 636.4978965080645]"
      ]
     },
     "execution_count": 68,
     "metadata": {},
     "output_type": "execute_result"
    }
   ],
   "source": [
    "#Metodo del codo (Inercias, Shilouette)\n",
    "\n",
    "inercias = list() \n",
    "\n",
    "sil_score = list()\n",
    "\n",
    "for k in range(2, 12): \n",
    "    \n",
    "    kmeans = KMeans(n_clusters = k, random_state = 42)\n",
    "    kmeans.fit(df_var_scaler)    \n",
    "    \n",
    "    inercias.append(kmeans.inertia_) \n",
    "    sil_score.append(silhouette_score(df_var_scaler, kmeans.labels_))\n",
    "    \n",
    "inercias"
   ]
  },
  {
   "cell_type": "code",
   "execution_count": null,
   "id": "ba364f48",
   "metadata": {},
   "outputs": [
    {
     "data": {
      "text/plain": [
       "0.10998747086292292"
      ]
     },
     "execution_count": 46,
     "metadata": {},
     "output_type": "execute_result"
    }
   ],
   "source": [
    "#Valor de Silhouette Score\n",
    "\n",
    "silhouette_score(df_var_scaler, kmeans.labels_)"
   ]
  },
  {
   "cell_type": "markdown",
   "id": "052821b1",
   "metadata": {},
   "source": [
    " **Metodo del codo**: es una técnica utilizada en clustering (agrupamiento) para encontrar el número óptimo de clusters (grupos) en un conjunto de datos. "
   ]
  },
  {
   "cell_type": "code",
   "execution_count": 69,
   "id": "46984519",
   "metadata": {},
   "outputs": [
    {
     "data": {
      "image/png": "[encoded data removed]",
      "text/plain": [
       "<Figure size 1000x800 with 1 Axes>"
      ]
     },
     "metadata": {},
     "output_type": "display_data"
    }
   ],
   "source": [
    "#Elbow plot de inercias para distintos K´s [2-11]\n",
    "\n",
    "plt.figure(figsize = (10, 8))\n",
    "\n",
    "plt.plot(range(2, len(inercias) + 2), inercias, marker = \"x\", color = \"blue\")\n",
    "\n",
    "plt.xlabel(\"K's\") \n",
    "plt.ylabel(\"Inercia\") \n",
    "\n",
    "plt.grid()\n",
    "plt.show()"
   ]
  },
  {
   "cell_type": "markdown",
   "id": "c0a4e043",
   "metadata": {},
   "source": [
    "**Silhouette_score**:\n",
    "- es una métrica de evaluación de la calidad de un clustering que se utiliza para determinar cuán bien se han agrupado los clusters unos frente a otros.\n",
    "\n",
    "- valores cercanos a 1 indican correcta separacion entre clusters, cercanos a 0 superposicion, cercanos a -1 incorrecta asignacion de los puntos a los clusters asignados"
   ]
  },
  {
   "cell_type": "code",
   "execution_count": 70,
   "id": "99f18466",
   "metadata": {},
   "outputs": [
    {
     "data": {
      "text/plain": [
       "0.10998747086292292"
      ]
     },
     "execution_count": 70,
     "metadata": {},
     "output_type": "execute_result"
    }
   ],
   "source": [
    "#Valor de Silhouette Score\n",
    "\n",
    "silhouette_score(df_var_scaler, kmeans.labels_)"
   ]
  },
  {
   "cell_type": "code",
   "execution_count": 71,
   "id": "23110305",
   "metadata": {},
   "outputs": [
    {
     "data": {
      "image/png": "[encoded data removed]",
      "text/plain": [
       "<Figure size 1000x800 with 1 Axes>"
      ]
     },
     "metadata": {},
     "output_type": "display_data"
    }
   ],
   "source": [
    "# Grafica que representa la relacion entre los K's y Silhouette\n",
    "\n",
    "plt.figure(figsize = (10, 8))\n",
    "\n",
    "plt.plot(range(2, len(sil_score) + 2), sil_score, marker = \"x\", color = \"red\")\n",
    "\n",
    "plt.xlabel(\"K's\") \n",
    "plt.ylabel(\"Silhouette\") \n",
    "\n",
    "plt.show()"
   ]
  },
  {
   "cell_type": "markdown",
   "id": "74e4152f",
   "metadata": {},
   "source": [
    "### **Conclusion:**\n",
    "- inercias y shilouette mejoran bastante con respecto a las pruebas con dataset global, hay mejor compactacion de los clusters y mejor diferenciacion entre ellos\n",
    "\n",
    "- el accuracy mejora notablemente\n",
    "\n",
    "- la reduccion de dimensionalidad y el criterio utilizados aparentemente han sido exitosos\n",
    "                \n",
    "                \n",
    "\n",
    "                \n",
    "                \n",
    "\n"
   ]
  }
 ],
 "metadata": {
  "kernelspec": {
   "display_name": "Python 3 (ipykernel)",
   "language": "python",
   "name": "python3"
  },
  "language_info": {
   "codemirror_mode": {
    "name": "ipython",
    "version": 3
   },
   "file_extension": ".py",
   "mimetype": "text/x-python",
   "name": "python",
   "nbconvert_exporter": "python",
   "pygments_lexer": "ipython3",
   "version": "3.11.5"
  }
 },
 "nbformat": 4,
 "nbformat_minor": 5
}
